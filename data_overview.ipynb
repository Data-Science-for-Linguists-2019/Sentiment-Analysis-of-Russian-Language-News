{
 "cells": [
  {
   "cell_type": "code",
   "execution_count": 2,
   "metadata": {},
   "outputs": [],
   "source": [
    "import pandas as pd\n",
    "import nltk\n",
    "import os"
   ]
  },
  {
   "cell_type": "code",
   "execution_count": 4,
   "metadata": {},
   "outputs": [],
   "source": [
    "os.chdir(r'C:\\Users\\Patrick Stoyer\\Dropbox\\Documents\\Sophomore Year\\Semester_2\\Ling_1340_Data_Science_for_Linguists\\Project')"
   ]
  },
  {
   "cell_type": "code",
   "execution_count": 8,
   "metadata": {},
   "outputs": [
    {
     "data": {
      "text/plain": [
       "['bbc_articles',\n",
       " 'bbc_info.csv',\n",
       " 'bbc_scrape.py',\n",
       " 'kommersant_articles',\n",
       " 'kommersant_info.csv',\n",
       " 'kommersant_scrape.py',\n",
       " 'radio_svoboda_articles',\n",
       " 'radio_svoboda_info.csv',\n",
       " 'radio_svoboda_scrape.py',\n",
       " 'reuters_articles',\n",
       " 'reuters_info.csv',\n",
       " 'reuters_scrape.py',\n",
       " 'tass_articles',\n",
       " 'tass_info.csv',\n",
       " 'tass_scrape.py']"
      ]
     },
     "execution_count": 8,
     "metadata": {},
     "output_type": "execute_result"
    }
   ],
   "source": [
    "os.listdir()\n"
   ]
  },
  {
   "cell_type": "markdown",
   "metadata": {},
   "source": [
    "FILES\n",
    "----\n",
    "The folder I moved to in the above code includes all the articles I've scraped, the code used to scrape them (note that each site used slightly different formatting, so I made separate scripts for each one), as well as a csv file that lists all the urls, titles, and dates (for tass, I still need to scrape most of the dates...the way I had to scrape it used selenium rather than bs4 because it had one of those infinite loading things and bc date is \"hidden\" within each article's source; this takes longer). Let's look at the csv files first"
   ]
  },
  {
   "cell_type": "code",
   "execution_count": 10,
   "metadata": {},
   "outputs": [],
   "source": [
    "bbc_info = pd.read_csv('bbc_info.csv')\n",
    "kommersant_info = pd.read_csv('kommersant_info.csv')\n",
    "radio_svoboda_info = pd.read_csv('radio_svoboda_info.csv')\n",
    "reuters_info = pd.read_csv('reuters_info.csv')\n",
    "tass_info = pd.read_csv('tass_info.csv')"
   ]
  },
  {
   "cell_type": "code",
   "execution_count": 13,
   "metadata": {},
   "outputs": [],
   "source": [
    "from IPython.core.interactiveshell import InteractiveShell\n",
    "InteractiveShell.ast_node_interactivity = \"all\"\n"
   ]
  },
  {
   "cell_type": "code",
   "execution_count": 12,
   "metadata": {},
   "outputs": [
    {
     "data": {
      "text/html": [
       "<div>\n",
       "<style scoped>\n",
       "    .dataframe tbody tr th:only-of-type {\n",
       "        vertical-align: middle;\n",
       "    }\n",
       "\n",
       "    .dataframe tbody tr th {\n",
       "        vertical-align: top;\n",
       "    }\n",
       "\n",
       "    .dataframe thead th {\n",
       "        text-align: right;\n",
       "    }\n",
       "</style>\n",
       "<table border=\"1\" class=\"dataframe\">\n",
       "  <thead>\n",
       "    <tr style=\"text-align: right;\">\n",
       "      <th></th>\n",
       "      <th>Unnamed: 0</th>\n",
       "      <th>URL</th>\n",
       "      <th>Title</th>\n",
       "      <th>Date</th>\n",
       "    </tr>\n",
       "  </thead>\n",
       "  <tbody>\n",
       "    <tr>\n",
       "      <th>0</th>\n",
       "      <td>0</td>\n",
       "      <td>https://www.bbc.co.uk/russian/features-47253360</td>\n",
       "      <td>Россия никуда не денется зачем американцы учат...</td>\n",
       "      <td>21 февраля 2019</td>\n",
       "    </tr>\n",
       "    <tr>\n",
       "      <th>1</th>\n",
       "      <td>1</td>\n",
       "      <td>https://www.bbc.co.uk/russian/news-47260541</td>\n",
       "      <td>Британский министр обороны Россия - угроза, но...</td>\n",
       "      <td>15 февраля 2019</td>\n",
       "    </tr>\n",
       "    <tr>\n",
       "      <th>2</th>\n",
       "      <td>2</td>\n",
       "      <td>https://www.bbc.co.uk/russian/features-47353363</td>\n",
       "      <td>СМИ России что изменило убийство Бориса Немцова</td>\n",
       "      <td>25 февраля 2019</td>\n",
       "    </tr>\n",
       "    <tr>\n",
       "      <th>3</th>\n",
       "      <td>3</td>\n",
       "      <td>https://www.bbc.co.uk/russian/features-47135158</td>\n",
       "      <td>Какими ракетами вооружатся Россия и США после ...</td>\n",
       "      <td>7 февраля 2019</td>\n",
       "    </tr>\n",
       "    <tr>\n",
       "      <th>4</th>\n",
       "      <td>4</td>\n",
       "      <td>https://www.bbc.co.uk/russian/features-47124214</td>\n",
       "      <td>Видео\\r\\nТысяча сайтов в день Россия бьет реко...</td>\n",
       "      <td>5 февраля 2019</td>\n",
       "    </tr>\n",
       "  </tbody>\n",
       "</table>\n",
       "</div>"
      ],
      "text/plain": [
       "   Unnamed: 0                                              URL  \\\n",
       "0           0  https://www.bbc.co.uk/russian/features-47253360   \n",
       "1           1      https://www.bbc.co.uk/russian/news-47260541   \n",
       "2           2  https://www.bbc.co.uk/russian/features-47353363   \n",
       "3           3  https://www.bbc.co.uk/russian/features-47135158   \n",
       "4           4  https://www.bbc.co.uk/russian/features-47124214   \n",
       "\n",
       "                                               Title             Date  \n",
       "0  Россия никуда не денется зачем американцы учат...  21 февраля 2019  \n",
       "1  Британский министр обороны Россия - угроза, но...  15 февраля 2019  \n",
       "2    СМИ России что изменило убийство Бориса Немцова  25 февраля 2019  \n",
       "3  Какими ракетами вооружатся Россия и США после ...   7 февраля 2019  \n",
       "4  Видео\\r\\nТысяча сайтов в день Россия бьет реко...   5 февраля 2019  "
      ]
     },
     "execution_count": 12,
     "metadata": {},
     "output_type": "execute_result"
    },
    {
     "data": {
      "text/html": [
       "<div>\n",
       "<style scoped>\n",
       "    .dataframe tbody tr th:only-of-type {\n",
       "        vertical-align: middle;\n",
       "    }\n",
       "\n",
       "    .dataframe tbody tr th {\n",
       "        vertical-align: top;\n",
       "    }\n",
       "\n",
       "    .dataframe thead th {\n",
       "        text-align: right;\n",
       "    }\n",
       "</style>\n",
       "<table border=\"1\" class=\"dataframe\">\n",
       "  <thead>\n",
       "    <tr style=\"text-align: right;\">\n",
       "      <th></th>\n",
       "      <th>Unnamed: 0</th>\n",
       "      <th>URL</th>\n",
       "      <th>Title</th>\n",
       "      <th>Date</th>\n",
       "    </tr>\n",
       "  </thead>\n",
       "  <tbody>\n",
       "    <tr>\n",
       "      <th>0</th>\n",
       "      <td>0</td>\n",
       "      <td>https://www.kommersant.ru/doc/3718636</td>\n",
       "      <td>Фигурант по делу «Армии воли народа» Валерий П...</td>\n",
       "      <td>2018-08-18</td>\n",
       "    </tr>\n",
       "    <tr>\n",
       "      <th>1</th>\n",
       "      <td>1</td>\n",
       "      <td>https://www.kommersant.ru/doc/3718635</td>\n",
       "      <td>Володин не исключил встречу с Mail.ru по декри...</td>\n",
       "      <td>2018-08-18</td>\n",
       "    </tr>\n",
       "    <tr>\n",
       "      <th>2</th>\n",
       "      <td>2</td>\n",
       "      <td>https://www.kommersant.ru/doc/3718611</td>\n",
       "      <td>В Иркутской области сожгли автомобиль мэра гор...</td>\n",
       "      <td>2018-08-18</td>\n",
       "    </tr>\n",
       "    <tr>\n",
       "      <th>3</th>\n",
       "      <td>3</td>\n",
       "      <td>https://www.kommersant.ru/doc/3718600</td>\n",
       "      <td>Возбуждено уголовное дело по факту кражи нефти...</td>\n",
       "      <td>2018-08-18</td>\n",
       "    </tr>\n",
       "    <tr>\n",
       "      <th>4</th>\n",
       "      <td>4</td>\n",
       "      <td>https://www.kommersant.ru/doc/3718243</td>\n",
       "      <td>Рок и кантри объединяют людей, open space — от...</td>\n",
       "      <td>2018-08-18</td>\n",
       "    </tr>\n",
       "  </tbody>\n",
       "</table>\n",
       "</div>"
      ],
      "text/plain": [
       "   Unnamed: 0                                    URL  \\\n",
       "0           0  https://www.kommersant.ru/doc/3718636   \n",
       "1           1  https://www.kommersant.ru/doc/3718635   \n",
       "2           2  https://www.kommersant.ru/doc/3718611   \n",
       "3           3  https://www.kommersant.ru/doc/3718600   \n",
       "4           4  https://www.kommersant.ru/doc/3718243   \n",
       "\n",
       "                                               Title        Date  \n",
       "0  Фигурант по делу «Армии воли народа» Валерий П...  2018-08-18  \n",
       "1  Володин не исключил встречу с Mail.ru по декри...  2018-08-18  \n",
       "2  В Иркутской области сожгли автомобиль мэра гор...  2018-08-18  \n",
       "3  Возбуждено уголовное дело по факту кражи нефти...  2018-08-18  \n",
       "4  Рок и кантри объединяют людей, open space — от...  2018-08-18  "
      ]
     },
     "execution_count": 12,
     "metadata": {},
     "output_type": "execute_result"
    },
    {
     "data": {
      "text/html": [
       "<div>\n",
       "<style scoped>\n",
       "    .dataframe tbody tr th:only-of-type {\n",
       "        vertical-align: middle;\n",
       "    }\n",
       "\n",
       "    .dataframe tbody tr th {\n",
       "        vertical-align: top;\n",
       "    }\n",
       "\n",
       "    .dataframe thead th {\n",
       "        text-align: right;\n",
       "    }\n",
       "</style>\n",
       "<table border=\"1\" class=\"dataframe\">\n",
       "  <thead>\n",
       "    <tr style=\"text-align: right;\">\n",
       "      <th></th>\n",
       "      <th>Unnamed: 0</th>\n",
       "      <th>URL</th>\n",
       "      <th>Title</th>\n",
       "      <th>Date</th>\n",
       "    </tr>\n",
       "  </thead>\n",
       "  <tbody>\n",
       "    <tr>\n",
       "      <th>0</th>\n",
       "      <td>0</td>\n",
       "      <td>https://www.svoboda.org/a/29785482.html</td>\n",
       "      <td>После послания Путина социальные выплаты повыс...</td>\n",
       "      <td>22 Февраль 2019</td>\n",
       "    </tr>\n",
       "    <tr>\n",
       "      <th>1</th>\n",
       "      <td>1</td>\n",
       "      <td>https://www.svoboda.org/a/29785216.html</td>\n",
       "      <td>Сотрудника антикоррупционной полиции задержали...</td>\n",
       "      <td>22 Февраль 2019</td>\n",
       "    </tr>\n",
       "    <tr>\n",
       "      <th>2</th>\n",
       "      <td>2</td>\n",
       "      <td>https://www.svoboda.org/a/29785122.html</td>\n",
       "      <td>Суд арестовал москвичку, оставившую сына на но...</td>\n",
       "      <td>22 Февраль 2019</td>\n",
       "    </tr>\n",
       "    <tr>\n",
       "      <th>3</th>\n",
       "      <td>3</td>\n",
       "      <td>https://www.svoboda.org/a/29785109.html</td>\n",
       "      <td>Начата прокурорская проверка после срыва похор...</td>\n",
       "      <td>22 Февраль 2019</td>\n",
       "    </tr>\n",
       "    <tr>\n",
       "      <th>4</th>\n",
       "      <td>4</td>\n",
       "      <td>https://www.svoboda.org/a/29785013.html</td>\n",
       "      <td>Леонид Парфёнов перезапустит программу Намедни...</td>\n",
       "      <td>22 Февраль 2019</td>\n",
       "    </tr>\n",
       "  </tbody>\n",
       "</table>\n",
       "</div>"
      ],
      "text/plain": [
       "   Unnamed: 0                                      URL  \\\n",
       "0           0  https://www.svoboda.org/a/29785482.html   \n",
       "1           1  https://www.svoboda.org/a/29785216.html   \n",
       "2           2  https://www.svoboda.org/a/29785122.html   \n",
       "3           3  https://www.svoboda.org/a/29785109.html   \n",
       "4           4  https://www.svoboda.org/a/29785013.html   \n",
       "\n",
       "                                               Title             Date  \n",
       "0  После послания Путина социальные выплаты повыс...  22 Февраль 2019  \n",
       "1  Сотрудника антикоррупционной полиции задержали...  22 Февраль 2019  \n",
       "2  Суд арестовал москвичку, оставившую сына на но...  22 Февраль 2019  \n",
       "3  Начата прокурорская проверка после срыва похор...  22 Февраль 2019  \n",
       "4  Леонид Парфёнов перезапустит программу Намедни...  22 Февраль 2019  "
      ]
     },
     "execution_count": 12,
     "metadata": {},
     "output_type": "execute_result"
    },
    {
     "data": {
      "text/html": [
       "<div>\n",
       "<style scoped>\n",
       "    .dataframe tbody tr th:only-of-type {\n",
       "        vertical-align: middle;\n",
       "    }\n",
       "\n",
       "    .dataframe tbody tr th {\n",
       "        vertical-align: top;\n",
       "    }\n",
       "\n",
       "    .dataframe thead th {\n",
       "        text-align: right;\n",
       "    }\n",
       "</style>\n",
       "<table border=\"1\" class=\"dataframe\">\n",
       "  <thead>\n",
       "    <tr style=\"text-align: right;\">\n",
       "      <th></th>\n",
       "      <th>Unnamed: 0</th>\n",
       "      <th>URL</th>\n",
       "      <th>Title</th>\n",
       "      <th>Date</th>\n",
       "    </tr>\n",
       "  </thead>\n",
       "  <tbody>\n",
       "    <tr>\n",
       "      <th>0</th>\n",
       "      <td>0</td>\n",
       "      <td>https://ru.reuters.com/article/topNews/idRUKCN...</td>\n",
       "      <td>Европейские политики призвали к новым санкциям...</td>\n",
       "      <td>2018-27-11</td>\n",
       "    </tr>\n",
       "    <tr>\n",
       "      <th>1</th>\n",
       "      <td>1</td>\n",
       "      <td>https://ru.reuters.com/article/topNews/idRUKCN...</td>\n",
       "      <td>Судьба сделки о Brexit под вопросом на фоне кр...</td>\n",
       "      <td>2018-27-11</td>\n",
       "    </tr>\n",
       "    <tr>\n",
       "      <th>2</th>\n",
       "      <td>2</td>\n",
       "      <td>https://ru.reuters.com/article/topNews/idRUKCN...</td>\n",
       "      <td>Кремль опасается роста напряженности на юго-во...</td>\n",
       "      <td>2018-27-11</td>\n",
       "    </tr>\n",
       "    <tr>\n",
       "      <th>3</th>\n",
       "      <td>3</td>\n",
       "      <td>https://ru.reuters.com/article/topNews/idRUKCN...</td>\n",
       "      <td>Путин понизил планку приемлемой для РФ цены на...</td>\n",
       "      <td>2018-28-11</td>\n",
       "    </tr>\n",
       "    <tr>\n",
       "      <th>4</th>\n",
       "      <td>4</td>\n",
       "      <td>https://ru.reuters.com/article/topNews/idRUKCN...</td>\n",
       "      <td>Кремль встреча Путина и Трампа нужна обеим сто...</td>\n",
       "      <td>2018-28-11</td>\n",
       "    </tr>\n",
       "  </tbody>\n",
       "</table>\n",
       "</div>"
      ],
      "text/plain": [
       "   Unnamed: 0                                                URL  \\\n",
       "0           0  https://ru.reuters.com/article/topNews/idRUKCN...   \n",
       "1           1  https://ru.reuters.com/article/topNews/idRUKCN...   \n",
       "2           2  https://ru.reuters.com/article/topNews/idRUKCN...   \n",
       "3           3  https://ru.reuters.com/article/topNews/idRUKCN...   \n",
       "4           4  https://ru.reuters.com/article/topNews/idRUKCN...   \n",
       "\n",
       "                                               Title        Date  \n",
       "0  Европейские политики призвали к новым санкциям...  2018-27-11  \n",
       "1  Судьба сделки о Brexit под вопросом на фоне кр...  2018-27-11  \n",
       "2  Кремль опасается роста напряженности на юго-во...  2018-27-11  \n",
       "3  Путин понизил планку приемлемой для РФ цены на...  2018-28-11  \n",
       "4  Кремль встреча Путина и Трампа нужна обеим сто...  2018-28-11  "
      ]
     },
     "execution_count": 12,
     "metadata": {},
     "output_type": "execute_result"
    },
    {
     "data": {
      "text/html": [
       "<div>\n",
       "<style scoped>\n",
       "    .dataframe tbody tr th:only-of-type {\n",
       "        vertical-align: middle;\n",
       "    }\n",
       "\n",
       "    .dataframe tbody tr th {\n",
       "        vertical-align: top;\n",
       "    }\n",
       "\n",
       "    .dataframe thead th {\n",
       "        text-align: right;\n",
       "    }\n",
       "</style>\n",
       "<table border=\"1\" class=\"dataframe\">\n",
       "  <thead>\n",
       "    <tr style=\"text-align: right;\">\n",
       "      <th></th>\n",
       "      <th>Unnamed: 0</th>\n",
       "      <th>URL</th>\n",
       "      <th>Title</th>\n",
       "      <th>Date</th>\n",
       "    </tr>\n",
       "  </thead>\n",
       "  <tbody>\n",
       "    <tr>\n",
       "      <th>0</th>\n",
       "      <td>0</td>\n",
       "      <td>https://tass.ru/obschestvo/6152766</td>\n",
       "      <td>Марш памяти Бориса Немцова начался в центре Мо...</td>\n",
       "      <td>24 фев 2019</td>\n",
       "    </tr>\n",
       "    <tr>\n",
       "      <th>1</th>\n",
       "      <td>1</td>\n",
       "      <td>https://tass.ru/obschestvo/6152627</td>\n",
       "      <td>Турпоток в заповедники Оренбургской области за...</td>\n",
       "      <td>24 фев 2019</td>\n",
       "    </tr>\n",
       "    <tr>\n",
       "      <th>2</th>\n",
       "      <td>2</td>\n",
       "      <td>https://tass.ru/obschestvo/6152545</td>\n",
       "      <td>Первый фотоальбом лошадей Пржевальского из Оре...</td>\n",
       "      <td>24 фев 2019</td>\n",
       "    </tr>\n",
       "    <tr>\n",
       "      <th>3</th>\n",
       "      <td>3</td>\n",
       "      <td>https://tass.ru/armiya-i-opk/6151531</td>\n",
       "      <td>Северный флот представил историческую и соврем...</td>\n",
       "      <td>23 фев 2019</td>\n",
       "    </tr>\n",
       "    <tr>\n",
       "      <th>4</th>\n",
       "      <td>4</td>\n",
       "      <td>https://tass.ru/v-strane/6151365</td>\n",
       "      <td>Ограничение движения по зимнику из НАО в други...</td>\n",
       "      <td>23 фев 2019</td>\n",
       "    </tr>\n",
       "  </tbody>\n",
       "</table>\n",
       "</div>"
      ],
      "text/plain": [
       "   Unnamed: 0                                   URL  \\\n",
       "0           0    https://tass.ru/obschestvo/6152766   \n",
       "1           1    https://tass.ru/obschestvo/6152627   \n",
       "2           2    https://tass.ru/obschestvo/6152545   \n",
       "3           3  https://tass.ru/armiya-i-opk/6151531   \n",
       "4           4      https://tass.ru/v-strane/6151365   \n",
       "\n",
       "                                               Title         Date  \n",
       "0  Марш памяти Бориса Немцова начался в центре Мо...  24 фев 2019  \n",
       "1  Турпоток в заповедники Оренбургской области за...  24 фев 2019  \n",
       "2  Первый фотоальбом лошадей Пржевальского из Оре...  24 фев 2019  \n",
       "3  Северный флот представил историческую и соврем...  23 фев 2019  \n",
       "4  Ограничение движения по зимнику из НАО в други...  23 фев 2019  "
      ]
     },
     "execution_count": 12,
     "metadata": {},
     "output_type": "execute_result"
    }
   ],
   "source": [
    "bbc_info.head()\n",
    "kommersant_info.head()\n",
    "radio_svoboda_info.head()\n",
    "reuters_info.head()\n",
    "tass_info.head()"
   ]
  },
  {
   "cell_type": "code",
   "execution_count": 19,
   "metadata": {},
   "outputs": [
    {
     "data": {
      "text/plain": [
       "(350, 4)"
      ]
     },
     "execution_count": 19,
     "metadata": {},
     "output_type": "execute_result"
    },
    {
     "data": {
      "text/plain": [
       "(5290, 4)"
      ]
     },
     "execution_count": 19,
     "metadata": {},
     "output_type": "execute_result"
    },
    {
     "data": {
      "text/plain": [
       "(2929, 4)"
      ]
     },
     "execution_count": 19,
     "metadata": {},
     "output_type": "execute_result"
    },
    {
     "data": {
      "text/plain": [
       "(295, 4)"
      ]
     },
     "execution_count": 19,
     "metadata": {},
     "output_type": "execute_result"
    },
    {
     "data": {
      "text/plain": [
       "(3060, 4)"
      ]
     },
     "execution_count": 19,
     "metadata": {},
     "output_type": "execute_result"
    }
   ],
   "source": [
    "bbc_info.shape\n",
    "kommersant_info.shape\n",
    "radio_svoboda_info.shape\n",
    "reuters_info.shape\n",
    "tass_info.shape"
   ]
  },
  {
   "cell_type": "markdown",
   "metadata": {},
   "source": [
    "SIZE\n",
    "----\n",
    "kommersant is by far the largest corpus, followed by tass and radiosvoboda, and finally by bbc and reuters... reuters only had the most recent two months of articles (and only very few per day), bbc required me to search a keyword (i choose россия ==Russia) and limited the output to 350 articles... tass had many articles per day so the 3060 only goes back to like December (i could have gotten more, but once again, i was using selenium to scroll down the page and the fact that it returned about the same number of articles as radio svoboda was just chance...scrolling down to a specific date would be harder... for kommersant, i went back to the same date that radio svoboda's articles started from...radio svoboda only let me go back 100 pages, and had 29 articles per day...i think i messed up and scraped the first page twice so i'll have to fix that eventually.\n"
   ]
  },
  {
   "cell_type": "code",
   "execution_count": 23,
   "metadata": {},
   "outputs": [],
   "source": [
    "with open('radio_svoboda_scrape.py') as f:\n",
    "    text = f.read()"
   ]
  },
  {
   "cell_type": "code",
   "execution_count": 22,
   "metadata": {},
   "outputs": [
    {
     "name": "stdout",
     "output_type": "stream",
     "text": [
      "# -*- coding: utf-8 -*-\n",
      "\"\"\"\n",
      "Created on Thu Feb 21 01:14:12 2019\n",
      "\n",
      "@author: Patrick Stoyer\n",
      "\"\"\"\n",
      "\n",
      "from urllib import request #to get html source code from websites\n",
      "from bs4 import BeautifulSoup #to process source code\n",
      "import pandas as pd\n",
      "import bs4\n",
      "\n",
      "\n",
      "sites_list = ['https://www.svoboda.org/z/16685?p={}'.format(x) for x in range(0,101)]\n",
      "def get_article_links(page):\n",
      "    articles_list = []\n",
      "    response = request.urlopen(page)#request.urlopen returns html in bytes\n",
      "    source = response.read().decode('utf-8') #decode bytes and append to source code list\n",
      "    soup = BeautifulSoup(source, 'html.parser')\n",
      "    for parent in soup.descendants: #for loop through all the soup's descendant\n",
      "            if (parent.name =='li') and(parent.has_attr('class'))and (['col-xs-12', 'col-sm-12', 'col-md-12', 'col-lg-12'] == parent.get('class')):\n",
      "                temp_stuff = ['','','','','',''] #this temporary list will hold various information to be stored\n",
      "                for child in parent.descendants: #if the name is 'article' then loop through the parents children\n",
      "                    if isinstance (child, bs4.element.NavigableString):\n",
      "                        continue\n",
      "                    if(child.has_attr('class') and (child.get('class')[0] == 'title')) :  #if a childs name is 'p' it will hold the country info\n",
      "                        temp_stuff[1] = child.string.strip()\n",
      "                    elif child.name == 'a' : #if a child's name is 'a' it will hold the hyperlink\n",
      "                        temp_stuff[0] = 'https://www.svoboda.org' + child.get('href').strip()\n",
      "                    elif (child.has_attr('class') and (child.get('class')[0] == 'date')):\n",
      "                        temp_stuff[2] = child.string.strip()\n",
      "                articles_list.append([temp_stuff[0],temp_stuff[1],temp_stuff[2]])\n",
      "    return articles_list\n",
      "                        \n",
      "def get_text(page):\n",
      "    output =''\n",
      "    response = request.urlopen(page)#request.urlopen returns html in bytes\n",
      "    source = response.read().decode('utf-8') #decode bytes and append to source code list\n",
      "    soup = BeautifulSoup(source, 'html.parser')\n",
      "    body = soup.find('div',{'id':'article-content'})\n",
      "    for child in body.div.children:\n",
      "        if isinstance (child, bs4.element.NavigableString):\n",
      "            continue\n",
      "        if child.name !='div':\n",
      "            output +=child.text\n",
      "            output +=\"\\n\"\n",
      "    return output\n",
      "\n",
      "def fix_names(filename):\n",
      "   filename=filename.replace(\"\\\"\",'')\n",
      "   filename=filename.replace(\":\",'')\n",
      "   filename=filename.replace(\"?\",'')\n",
      "   filename=filename.replace(\"/\",'_')\n",
      "   return filename\n",
      "\n",
      "\n",
      "articles=[]\n",
      "for site in sites_list:\n",
      "    articles.extend(get_article_links(site))\n",
      "print('Got articles...making DataFrame.')\n",
      "df = pd.DataFrame(articles)\n",
      "df = df.rename(columns={0:\"URL\",1:\"Title\",2:\"Date\"})\n",
      "df.Title = df.Title.map(fix_names)\n",
      "\n",
      "for x in range (len(articles)):\n",
      "    if (x % 100==0): \n",
      "        print('On article: {}'.format(x))\n",
      "    filename='radio_svoboda_articles/'+'_'.join(df.Title.iloc[x].split())+'_'+'_'.join(df.Date.iloc[x].split())+'.txt'\n",
      "    with open(filename,'w+',encoding='utf-8')as f:\n",
      "        f.write(get_text(df.URL.iloc[x]))\n",
      "#df['Text'] = df.URL.map(get_text)\"\"\"\n",
      "#df['Word_Tokens']=df.Text.map(nltk.word_tokenize)\n",
      "#df['Sent_Tokens']=df.Text.map(nltk.sent_tokenize)\n"
     ]
    }
   ],
   "source": [
    "print(text)"
   ]
  },
  {
   "cell_type": "markdown",
   "metadata": {},
   "source": [
    "CODE\n",
    "----\n",
    "Here's an example of the code I used for scraping, this one was for radio svoboda...(ignore any of my comments that don't make sense, I copied a large portion of this from early code I used to scrape Amnesty International) I scrape each rubric page and collect each article's link, title, and date from their source... then I create a DataFrame from that list... I fix the titles' names so that they do not contain banned-from-filename characters... then I pass this to a for loop which writes the text to a file. originally i was trying to just put the text in the dataframe, but such a dataframe would take up an immense amount of memory. I also could have used a ufunc to write the files, but I wanted to keep track in the console of which article I was on and a forloop seemed like the most straightforward way to do this. Now let's take a closer look at the corpus."
   ]
  },
  {
   "cell_type": "code",
   "execution_count": 25,
   "metadata": {},
   "outputs": [],
   "source": [
    "bbc_corp = nltk.corpus.PlaintextCorpusReader('bbc_articles','.*\\.txt')\n",
    "kommersant_corp = nltk.corpus.PlaintextCorpusReader('kommersant_articles','.*\\.txt')\n",
    "radio_svoboda_corp = nltk.corpus.PlaintextCorpusReader('radio_svoboda_articles','.*\\.txt')\n",
    "reuters_corp = nltk.corpus.PlaintextCorpusReader('reuters_articles','.*\\.txt')\n",
    "tass_corp = nltk.corpus.PlaintextCorpusReader('tass_articles','.*\\.txt')"
   ]
  },
  {
   "cell_type": "code",
   "execution_count": 26,
   "metadata": {},
   "outputs": [
    {
     "data": {
      "text/plain": [
       "336593"
      ]
     },
     "execution_count": 26,
     "metadata": {},
     "output_type": "execute_result"
    },
    {
     "data": {
      "text/plain": [
       "2055141"
      ]
     },
     "execution_count": 26,
     "metadata": {},
     "output_type": "execute_result"
    },
    {
     "data": {
      "text/plain": [
       "708533"
      ]
     },
     "execution_count": 26,
     "metadata": {},
     "output_type": "execute_result"
    },
    {
     "data": {
      "text/plain": [
       "91514"
      ]
     },
     "execution_count": 26,
     "metadata": {},
     "output_type": "execute_result"
    },
    {
     "data": {
      "text/plain": [
       "1067123"
      ]
     },
     "execution_count": 26,
     "metadata": {},
     "output_type": "execute_result"
    }
   ],
   "source": [
    "len(bbc_corp.words())\n",
    "len(kommersant_corp.words())\n",
    "len(radio_svoboda_corp.words())\n",
    "len(reuters_corp.words())\n",
    "len(tass_corp.words())"
   ]
  },
  {
   "cell_type": "code",
   "execution_count": 27,
   "metadata": {},
   "outputs": [
    {
     "data": {
      "text/plain": [
       "41719"
      ]
     },
     "execution_count": 27,
     "metadata": {},
     "output_type": "execute_result"
    },
    {
     "data": {
      "text/plain": [
       "117152"
      ]
     },
     "execution_count": 27,
     "metadata": {},
     "output_type": "execute_result"
    },
    {
     "data": {
      "text/plain": [
       "57054"
      ]
     },
     "execution_count": 27,
     "metadata": {},
     "output_type": "execute_result"
    },
    {
     "data": {
      "text/plain": [
       "14776"
      ]
     },
     "execution_count": 27,
     "metadata": {},
     "output_type": "execute_result"
    },
    {
     "data": {
      "text/plain": [
       "79774"
      ]
     },
     "execution_count": 27,
     "metadata": {},
     "output_type": "execute_result"
    }
   ],
   "source": [
    "len(set(bbc_corp.words()))\n",
    "len(set(kommersant_corp.words()))\n",
    "len(set(radio_svoboda_corp.words()))\n",
    "len(set(reuters_corp.words()))\n",
    "len(set(tass_corp.words()))"
   ]
  },
  {
   "cell_type": "markdown",
   "metadata": {},
   "source": [
    "WORDCOUNT\n",
    "---\n",
    "By far the largest corpus is kommersant with over 2 million words (including punctuation I think) 117152 of which are unique. next largest are tass then radio_svoboda with 1 million and 700 thousand words respectively. Considering the number of articles, BBC is fairly large in comparison with the others, and the unique wordcount is also fairly sizeable. Then theres reuters, which is pretty pathetic.\n"
   ]
  },
  {
   "cell_type": "code",
   "execution_count": 38,
   "metadata": {
    "scrolled": true
   },
   "outputs": [
    {
     "name": "stdout",
     "output_type": "stream",
     "text": [
      "Международная ассоциация легкоатлетических федераций (IAAF) разрешила 42 российским легкоатлетам участвовать в международных турнирах под нейтральным флагом, при этом Всероссийская федерация легкой атлетики (ВФЛА) по-прежнему дисквалифицирована, говорится в пресс-релизе IAAF.\r\n",
      "Соответствующее решение приняла комиссия по допинг-контролю ассоциации, пришедшая к выводу, что 42 российских спортсмена выполнили все установленные требования и могут участвовать в соревнованиях 2019 года.\r\n",
      "Рассмотрение заявок от российских спортсменов, желающих выступать под нейтральным флагом, началось в декабре 2018 года. В итоге были одобрены заявки 42 атлетов.\r\n",
      "Среди тех, кому разрешили участвовать в турнирах этого года - двукратная чемпионка мира, прыгунья в высоту Мария Ласицкене, чемпион мира барьерист Сергей Шубенков, толкатель ядра Максим Афонин, бегун Ринас Ахмадеев, прыгунья в высоту Мария Кочанова.\r\n",
      "В 2018 году 73 российских атлета получили разрешение выступать на международных турнирах в нейтральном статусе, сообщает РИА Новости.\r\n",
      "Президент IAAF Себастьян Коу сказал: \"В 2015 году совет IAAF приостановил членство ВФЛА. Тогда было инициировано два процесса. Первый заключался в том, что ВФЛА была предоставлена возможность вернуть свое членство. Для этого необходимо было предпринять несколько действий и шагов. …Второй заключался в том, что был создан процесс предоставления разрешения атлетам участвовать в соревнованиях под нейтральным флагом, позволивший отделять \"чистых\" спортсменов от запятнавшей себя системы\".\r\n",
      "Членство ВФЛА в IAAF было приостановлено в ноябре 2015 года после обнародования доклада независимой комиссии ВАДА, выявившей в России поддерживаемую на государственном уровне систему применения и сокрытия допинга. Это привело к тому, что российские легкоатлеты не смогли выступить на Олимпийских играх в Рио-де-Жанейро.\r\n",
      "Уже четвертый год российские легкоатлеты выступают на международных соревнованиях в нейтральном статусе и только после получения разрешения от IAAF. Главный тренер сборной России по легкой атлетике Юрий Борзаковский говорил, что в сложившихся условиях тяжело поддерживать должный уровень спортсменов.\r\n",
      "\"Действительно, срок очень долгий, и очень тяжело удержать спортсменов от того, чтобы они не закончили тренировочный процесс и выступления, - рассказывал он в ноябре. - Все мы надеемся, что примем участие в Олимпийских играх 2020 года. Я не хочу даже думать об обратном\".\r\n",
      "Вопросом восстановления ВФЛА занимается сформированная IAAF рабочая группа во главе с Руне Андерсеном. Совместно с российской стороной группа реализует пункты дорожной карты по восстановлению организации.\r\n",
      "\n",
      "\n",
      "\n"
     ]
    },
    {
     "data": {
      "text/plain": [
       "2625"
      ]
     },
     "execution_count": 38,
     "metadata": {},
     "output_type": "execute_result"
    },
    {
     "data": {
      "text/plain": [
       "397"
      ]
     },
     "execution_count": 38,
     "metadata": {},
     "output_type": "execute_result"
    },
    {
     "data": {
      "text/plain": [
       "20"
      ]
     },
     "execution_count": 38,
     "metadata": {},
     "output_type": "execute_result"
    }
   ],
   "source": [
    "text = bbc_corp.open(bbc_corp.fileids()[1]).read()\n",
    "print(text+\"\\n\\n\")\n",
    "len(text)\n",
    "len(nltk.word_tokenize(text))\n",
    "len(nltk.sent_tokenize(text))"
   ]
  },
  {
   "cell_type": "markdown",
   "metadata": {},
   "source": [
    "EXAMPLE SCRAPE\n",
    "----\n",
    "For a second I thought this was in english but it turns out my browser was automatically translating it lol. As you can see, the article looks pretty good, I can't see any issues. This one is pretty short for the bbc corpus at about 5 kb...for comparison, here's the largest bbc file (only kommersant had any articles longer). "
   ]
  },
  {
   "cell_type": "code",
   "execution_count": 41,
   "metadata": {
    "scrolled": true
   },
   "outputs": [
    {
     "name": "stdout",
     "output_type": "stream",
     "text": [
      "18+\r\n",
      "Иван Дремин, он же рэпер Фейс, в школе торговал гашишем, прославился треками, состоящими из мата, еще год назад тратил гонорары на одежду от Gucci. Почему теперь кумир российских школьников пишет песни о коррупции и пошел на оппозиционный \"Марш матерей\"?\r\n",
      "\"Я новый русский Тупак\"\r\n",
      "Июльским днем у дверей небольшой студии звукозаписи на Николоямской улице стоит телохранитель. Внутри, в полуподвальном помещении, 21-летний Иван Дремин, известный подросткам по всей России как рэпер Фейс, записывает последнюю песню для своего нового альбома. Голый по пояс, черные волосы в беспорядке, на пюпитре вместо бумаг - айфон. Дремин уже шестой раз перепевает рефрен заглавного трека.\r\n",
      "- Я ворованный воздух! Я ворованный…  черт, заново… Я ворованный воздух! Вы просто мразь, а я ворованный воздух… Заново… Еще раз, теперь дабл...\r\n",
      "Эти строчки - перефразированная цитата из манифеста Осипа Мандельштама \"Четвертая проза\" о цензуре: \"Все произведения мировой литературы я делю на разрешенные и написанные без разрешения. Первые - это мразь, вторые - ворованный воздух\".\r\n",
      "Прославился Фейс в 2017 треками совсем другого рода: \"Еду в магазин Gucci в Санкт-Петербурге, она жрет мой *** [член], как будто это бургер\" и \"Я ***** [занимался сексом] твою телку\", в котором эта фраза повторялась около 40 раз. \r\n",
      "Месяцами его синглы держались в десятке самых прослушиваемых песен на iTunes. Подростки подделывали документы, чтобы попасть на его концерты с пометкой \"16+\", он объездил страну с двумя турами, дал десятки интервью, а потом замолк на шесть месяцев.  \r\n",
      "- Мне страшно быть таким, как ты - таким продажным. Звезды с магазинов никогда не загорятся… - продолжает читать Фейс в микрофон.\r\n",
      "- Может, \"в магазинах\", Вань? - осторожно предлагает Богдан, старший брат Дремина и по совместительству его креативный директор.\r\n",
      "\"Две недели ходим кругами, никак закончить не можем, - вздыхает он. - Подписчики \"ВКонтакте\" у нас отваливаются тысячами. Требуют новых песен еще с зимы. В Одессе на ближайший концерт продали всего 40 билетов… На весь осенний тур 190 билетов…  Не хотел тебе сейчас говорить, но ты все равно в чате увидишь\", - косится он на Ивана.\r\n",
      "- Ничего, сейчас выпустим альбом. И все сразу такие: \"Ну, этот парень гений\".\r\n",
      "- У меня другая картинка. Заходишь в ВК, а там все названия треков - серые, послушать нельзя и написано: \"Запрещено по требованию российского законодательства\".\r\n",
      "Фейс спокойно улыбается, развалившись в кресле. \r\n",
      "- Запретят - буду сцены в лесу строить и там читать. Ничего не знаю, я новый русский Тупак.\r\n",
      "Знакомая следователь и мешок картошки\r\n",
      "Дремин рос в Уфе. \"*** [неприятный] панельный блок у леса\", - вспоминает он свой дом. Бывать в нем он старался пореже. Родители развелись, когда Дремину не было года. \"Взрослых дома почти не было, мы мелкими жрали сухую лапшу на двоих, заваривать ее не умели, - вспоминает 26-летний Богдан. - Колбаса и сыр были предметом роскоши. У родителей отца на хлеб мазали масло - их дом считался зажиточным\".\r\n",
      "Мать после развода \"ударилась в православие\". Оба крещеные, сыновья выстаивали с ней долгие часы утренних и вечерних служб. Когда младший Дремин пошел в восьмой класс, мать сошла с ума. Пока ей не поставили диагноз \"шизофрения\", она клала Ивану под подушку игрушки, принесенные с кладбища, говорила, что вместо сына с ней живет другой человек и что его надо убить.\r\n",
      "\"Она творила лютую дичь. Мы так жили год\", - говорит Фейс. Когда мать во время очередного приступа бегала по дому с топором, за ней приехали санитары. Через год мать прошла курс лечения и сейчас живет с инвалидностью и на уколах галоперидола.\r\n",
      "Тимофей Дремин, отец братьев, в 80-е был известным фарцовщиком в Ленинграде, в 90-е - владельцем палаток и кафе в Уфе, а сейчас работает грузчиком и копает траншеи. \"Он всегда любил красивую жизнь, рестораны, тряпки и женщин. Он промотал даже семейные ваучеры и медали. Ваню в семье зовут \"молодой Тимофей\", - вспоминает Богдан.\r\n",
      "Отец учил их, как выживать на улицах. \"Там же основное правило - быть собой, быть человеком, - говорит 50-летний Тимофей Дремин. - Самому не лезть, не гнобить людей слабее себя. Но быть жестким. Знаете такую поговорку \"Каждому свое, но свое не каждому?\" Я учил их не быть потерпевшим. Наказывай всех, кто тебя материт или оскорбляет. Чтобы больше не связывались. У Вани это отложилось. Меня из-за него постоянно то в школу, то в милицию вызывали, я уже руки в какой-то момент опустил\".\r\n",
      "Как большинство подростков из бедных семей в современной России, Дремин рос на улицах. Впервые напился в четвертом классе. В седьмом - сменил музыкальную школу на бокс. Добоксировался до золотых медалей на городских соревнованиях. На вопрос, с кем вместе тренировался, говорит: \"Их вряд ли найдешь. Некоторые сидят. Кто-то, может, и умер\". А потом Фейс на пару лет стал футбольным фанатом и националистом.\r\n",
      "Весной 2013 года Дремин с друзьями дал клятву верности Гитлеру. Фейс помнит слова до сих пор: \"Разрезали руки и поклялись могилами предков и будущими детьми в утробах жен, что всегда будем вести Рахову (rahowa, от первых букв racial holy war, расовая священная война. - Би-би-си)\".\r\n",
      "\"Мы хотели тогда кого-то убить. Такая тупая подростковая агрессия. Но опьянели и заленились\", - говорит его школьный друг Алексей Алексеев. \"Мы много ходили за всякими среднеазиатами, ждали их у подъездов с ножами, но они ***** [невероятно] как быстро убегали. Мы их или просто не догоняли, или на нас обратно бежали 20 узбеков с палками\", - говорит Фейс.\r\n",
      "\"Потом я, конечно, понял, что эти правые взгляды - это совсем не мое. Больше я такой херней не страдаю. Все это было надуманным, я человек-фантазер и увлекающийся\". С этими мыслями 16-летний Дремин подружился с парнем-таджиком из своего класса, взял тот самый нож, которым резал ладонь во время клятвы Гитлеру, и пошел разбираться со школьниками, в соцсетях дразнившими его нового друга \"Обамой\".\r\n",
      "По воспоминаниям музыканта, \"день не заладился сразу\". \"Мы **** [напились] жестко. Шли, отрывая ручки у машин, разбивая зеркала\". Кроме ножа у Дремина был с собой тяжелый пневматический пистолет. На остановке они встретили разыскиваемых обидчиков. \"А они занимались винь-чунь, такая китайская херня, которой занимался Брюс Ли. Я к ним подхожу бухой с пистолетом и говорю, ну, давайте свой винь-чунь\". \r\n",
      "Встреча закончилась погоней и дракой в продуктовом магазине у витрин с мороженым под камерами видеонаблюдения. На Дремина с друзьями возбудили уголовное дело по статьям о побоях, порче имущества и угрозе убийства. Другие участники драки, по словам Фейса, откупились за 140 тысяч рублей. У Дреминых денег не было, но была знакомая следователь и мешок картошки.\r\n",
      "\"Я остался живой и никого не убил\"\r\n",
      "\"Он попал к нам на учет. Я два года каждый месяц ходила к ним домой, говорила с бабушкой, следила. Он мне стихи свои читал. Он, понимаете, такой уличный подросток с раненой душой\", - вспоминает Дремина инспектор по делам несовершеннолетних уфимского отдела полиции №3 Светлана Зайнетдинова. \r\n",
      "\"У меня был список в тетрадке, хейт-лист, где я записывал, кого надо избить, а кого убить при встрече, - рассказывает Фейс. - И я потихоньку вычеркивал имена тех, кого уже избил. Я был псих. Просто ад. Жизнь меня уберегла. Потому что мы были **** [не в себе], а я остался живой и никого не убил\".\r\n",
      "В Уфе подростковые банды делятся по торговым центрам, где они обитают, поясняет отец Дремина. \"У нас был ТЦ \"Иремель\", я был там одним из чуваков, - говорит Фейс. - Это такая группировка по понятиям АУЕ (название и девиз предположительно существующего российского неформального объединения банд, состоящих из несовершеннолетних, расшифровывается как \"Арестантский уклад един\". - Би-би-си). То есть ничего общего с ворами в законе мы не имели. Просто мы стремились к такому образу жизни - воровскому. У нас были чемпионы по ММА, они специально тренировались, потом намаз читали, потом мы в футбол вместе играли, в перерыве отбирали у обывателей деньги на бургеры. Пневматика, травматика, стреляли друг в друга для развлечения, стопудовый беспредел\". \r\n",
      "Схема была обкатанная: самый младший задевал плечом или хамил посетителю, ему в ответ что-то говорили, он шел жаловаться \"к большим\". А те подходили со словами: \"Ты что мелкого руками трогаешь, ему 13, тебе 25. Ну все, пошли на парковку. Давай, финансы или здоровье?\" \"В итоге он огребал **** [срамился] в любом случае. Или отдавал телефон или деньги. Страшные вещи, короче\", - вспоминает Дремин.\r\n",
      "\"Финансы или здоровье?\" - эта формулировка в ходу у уфимских подростков до сих пор. Все так же они сидят в районном \"Макдональдсе\", где Дремин грелся с друзьями и делил один бургер на двоих.\r\n",
      "Пытались Дремина-младшего обвинить и в организации ОПГ: \"Это за то, что я держал ***** [детей] 13-16 лет и ими командовал. Личное подростковое ОПГ\".\r\n",
      "Банда называлась Aurora Gang, а Ивана прозвали Батей Авроры - по названию улицы, где он рос. По его словам, пятиклассники из соседних школ рисовали на ИЗО плакаты с этими словами.\r\n",
      "\"Один пятиклассник из школы рядом очень хотел к нам в банду и, доказывая, что он достаточно жестокий, отрезал в драке другому пацану палец, пришивали потом. Одиннадцатилетний Павлик с моего двора мечтал попасть в Aurora Gang. А что, у меня список же есть, я мог сказать: иди ***** [ударь] этому алкашу, он меня вчера **** [бездельником] назвал. Тот шел и **** [бил]. Дичь какая-то. И это не насторожило меня так, чтобы я начал с этим завязывать - дети девятилетние ножом друг другу пальцы отрубают из-за того, что мы на \"Макдональдсе\" **** кому-то даем [бьем]\".\r\n",
      "\"Все подростки в провинции причисляют себя к каким-то группировкам. Это как психическое отклонение. Если дома плохо, ты ищешь что-то, что может заменить тебе семью, куда ты можешь вложить свою лояльность и преданность. Чтобы найти семью, за которую ты умрешь, и они за тебя тоже. Иллюзии, конечно. **** [детей] просто используют\", - добавляет Фейс.\r\n",
      "Дремин рассказывает все это, сидя в дорогом ресторане на Малой Бронной, где братья празднуют завершение работы над альбомом. Богдан заботливо прерывает его монолог: \"Ванюша, покушай, пожалуйста, ты не ел сегодня\". У брата остывают макароны.\r\n",
      "\"Он всегда говорил, - вспоминает Богдан, - мол, меня **** [утомила] нищета, я хочу быть в золоте, в шмотках, вы жить не умеете, нищие, я хочу быть Тони Монтана (главный герой криминальной драмы \"Лицо со шрамом\". - Би-би-си), я пойду торговать наркотой\".\r\n",
      "Летом 2014 года Дремин поселился в съемной квартире, где под специальными лампами растил 28 горшков марихуаны. Поливал ее, объясняя хозяйке-пенсионерке, что это бабушкины помидоры, которые он привез с собой. Зимой он перешел на гашиш - дома на полке лежали 50 грамм на продажу. \r\n",
      "На допросы в полицейский участок по поводу побоев и хулиганства 17-летний Дремин приходил с матерью, но пьяный и с гашишем в кармане: \"Они мне говорили - как только будет 18, мы тебя посадим\". Долго торговать не получилось: подростка заметили \"серьезные барыги\". Двое \"взрослых дядек лет сорока\" подкараулили Фейса в подъезде, избили, заставили принести весь оставшийся гашиш и, угрожая убить, потребовали 20 тысяч рублей долга - за проданные граммы.\r\n",
      "Богдан в это время работал риэлтором, получал высокую для Уфы зарплату в 100 тысяч рублей. Дремин позвонил брату. Но старший отдавать деньги обидчикам запретил, позвонил отцу, и конфликт решил он. \r\n",
      "\"Скажу жестко: для меня барыга хуже педераста. Я тогда дело, конечно, решил, со мной серьезные люди были. Но Ване сказал: \"Будешь барыжить - я от тебя откажусь\", - рассказывает Тимофей Дремин.\r\n",
      "Ивана отправили жить в квартиру второй бабушки в центре Уфы.\r\n",
      "Первый трек на деньги бабушки\r\n",
      "\"Тех двух мужиков мы считаем посланными Ване ангелами-хранителями, - говорит Богдан. - И я, и отец, и бабушка были уверены, что человека ждут два сценария: либо его убьют, либо посадят. Когда он переехал и увлекся всерьез музыкой, мы выдохнули\".\r\n",
      "Переехав, из бритого наголо гопника Дремин превратился в модника из центра: узкие рваные джинсы, длинные волосы в каре. Старым друзьям это не понравилось. \"**** [надо же], ты как ***** [гей] стал! Давай возвращайся в нормальное русло - и к нам на район!\", - вспоминает Фейс их слова. Дремин перестал с ними общаться и решил \"стать максимально законопослушным гражданином\".  \r\n",
      "В это время он начал заниматься музыкой. Особенно Ивана впечатлил концерт рэпера Фараона в Уфе. \"Мне кажется, он там понял, что хочет быть на сцене, а не под сценой\", - говорит Богдан.\r\n",
      "По словам отца братьев, с деньгами в семье тогда было очень тяжело. Дремину-младшему говорили, что \"продукты сами в холодильнике не появляются\" и что \"пора определяться с работой\". \"А он мне так уверенно говорил: \"Я буду рэп-звездой\". Я в это, конечно, не верил\", - вспоминает Тимофей Дремин. \r\n",
      "Фейс говорит, что рэп любил с первого класса: мать стригла его под горшок, а он сидел и слушал 50 Cent \"In da club\". Богдан тогда заканчивал музыкальную школу, наигрывал что-то на фортепьяно, а одиннадцатилетний Иван начитывал под это \"какой-то серьезный трек про жизнь\". \r\n",
      "В пятом классе слушал \"Кровосток\" при матери. Потом увлекся американским рэпом из Атланты - о продаже наркотиков, а любимым стал жанр drill - \"темный\" рэп из Чикаго об уличном насилии: \"Я чувствовал себя так же, как эти ребята из американских уличных банд. И меня привлекала идея, что можно подняться с самых низов и шокировать своими треками\".\r\n",
      "По результатам ЕГЭ не поступил ни в один вуз.\r\n",
      "- Я подавался в четыре, везде на туризм, - говорит Дремин.\r\n",
      "- Почему на туризм?\r\n",
      "- А *** [кто] его знает! Погуглил.\r\n",
      "С единственной работы - помощника менеджера в гостинице - ушел на второй день после того, как устроился.\r\n",
      "В 16 лет, двоечником, за месяц до окончания школы, на деньги бабушки пошел записывать первый трек на студию, не зная, как там себя вести. \"Записал, скинул на флешку. Я не понимал, что с этим делать. Что надо что-то сводить, миксовать. Мне и так нравилось. Чуваки на районе считали, что это мясо (отлично. - Би-би-си). Он разошелся у них по телефонам, и им было **** [классно]\".\r\n",
      "Сначала он просто копировал любимых исполнителей, особенно Фараона. \"Воровал у американских битмейкеров биты (звуковая дорожка без слов. - Би-би-си), и довольно долго\". \"Генератором случайных чисел\" (приложение на телефоне) выбирал, из какой песни какую строчку переводить, и составлял из них свой трек.\r\n",
      "Через девять месяцев и спустя шесть треков, в 2016 году, он выпустил трек \"Гоша Рубчинский\". \"У меня были подруги, шарили за всю эту хрень, стритфэшн, ну, антисоски, ну, и в интернете я одежду Рубчинского видел. И я такой - напишу-ка я об этом песню\". Отец послушал и говорит: \"Ничего не понял, фигня какая-то, сынок\".\r\n",
      "- А он сказал: \"Нет, батя, это выстрелит, это хит\", - вспоминает отец Дреминых.\r\n",
      "Клип на \"Рубчинского\" сняли в том же бизнес-центре на задах \"Пятерочки\", где каждый вечер Фейс и его друзья сидели, курили и пили пиво. Клип подхватили рэп-паблики \"ВКонтакте\". За несколько дней его посмотрело больше 100 тысяч человек, и Фейс \"понял, что что-то началось\".\r\n",
      "\"Видео присылали, как трехлетние поют мои песни\"\r\n",
      "На первый концерт за пределами Уфы, в Киров, Фейс ехал 12 часов на BlaBlaCar и не получил за выступление ничего. За следующие три концерта ему выдали гонорар в 3000 рублей. Весной 2017 года он заработал полмиллиона рублей на двух столичных концерта и \"***** [изумился]\".\r\n",
      "В 2017 году начался первый большой тур: фанатки на афтепати после концертов, \"Колдрекс\" вперемешку с водкой и выступления каждый день. Помня отцовские правила, ввязывался в драки, что сразу расходилось по сети. Полицейские при составлении протоколов делали с ним селфи - показать сыну или племяннику.\r\n",
      "На его концерты выстраивались очереди, иногда в клуб не попадали сразу несколько сотен человек - главным фанатам Фейса чаще всего нет 16 лет, и чтобы попасть на концерт, они либо подделывают документы, либо по-другому обманывают охрану.\r\n",
      "\"Но мне видео присылали, как трехлетние поют мои песни, которым их научила старшая сестра, - смеется Фейс. - Ответственность за все это пришла год назад. Я подумал, что если у меня есть эта аудитория и они меня слушают, значит, я могу что-то важное сказать\".\r\n",
      "Концерты Фейса - это микс из рэпа, стенд-апа и проповеди. На них он говорит, что наркотики - это зло, насилие - зло, суицид - для слабаков.\r\n",
      "В то время как подростки сходили по Фейсу с ума, чиновники были уверены, что \"это сумасшедший наркоман, который концертами зарабатывает себе на очередную дозу\", вспоминает его бывший менеджер Павел Семенов. Сам Дремин говорит, что употреблял наркотики всего несколько раз в жизни, но что ему \"хватило\" - настолько было плохо после.\r\n",
      "\"Вообще после личного знакомства с Ваней многие удивлялись, как он вообще не похож на героя своих треков. И тогда до них доходило, что его треки - это стеб\", - говорит Семенов.\r\n",
      "От Иваново до Хабаровска\r\n",
      "Пока Фейс записывал первый мини-альбом c треком \"Гоша Рубчинский\", Богдан не работал. Он перестал быть риэлтором, когда Россия в 2014 аннексировала Крым, а рынок недвижимости в стране рухнул вместе с курсом рубля.\r\n",
      "Богдан стал внимательнее читать новости и превратился в оппозиционера. \"До этого я занимал позицию \"Меня это не касается\". Работа есть, бабло есть, а че там творится - ***** [неважно]. Но после того как работа пропала, а вещи, стоившие пять тысяч, начали стоить десять, меня это лично коснулось. Я начал читать статьи об экономике, следить за новостями. И в итоге стал - ну, обычным таким убежденным либералом\".\r\n",
      "В 2015 году Богдан поехал в Москву, но не нашел работы по душе и неделями лежал на матрасе с косяком и питался макаронами. Вернулся в Уфу и жил у бабушки, принимая антидепрессанты. Богдан покупал их, продав собрание сочинений Бродского. А Фейс в это время начал зарабатывать на концертах, решил переехать в Москву - и позвал с собой брата. На его приглашение Богдан согласился, не раздумывая. В июне 2017 года Фейс с братом прилетели в столицу и сняли первую квартиру на Профсоюзной.\r\n",
      "О Дремине начали писать - от русскоязычных \"Медузы\", L'Officiel и \"Афиши\" до зарубежных Dazed и Highsnobiety. Он участвовал в съемках Comedy Club. Дал интервью Юрию Дудю, которое год оставалось самым популярным выпуском его программы: на то, как Дремин изображает уфимского гопника, посмотрели 12 млн человек.\r\n",
      "В сентябре 2017 году его альбом No Love поставил рекорд \"ВКонтакте\": за сутки с момента публикации он получил 27 тысяч репостов. Для сравнения, альбом \"Горгород\" рэпера Оксимирона набрал 11 тысяч - но за целый год. Альбом Фейса и синглы из него продержались почти месяц в общем топ-10 Apple Music/iTunes. В осеннем туре Фейс выступил в 33 городах от Иваново до Хабаровска: по концерту в день. За полтора года он выходил на сцену 61 раз.\r\n",
      "За это время он заработал около 7 млн рублей. Но к зиме 2018 года на банковском счете Фейса было меньше 200 тысяч. Деньги остались в бутиках, ресторанах и на курортах.\r\n",
      "\"Все ушло сквозь пальцы. 250 тысяч на свитшот Gucci, 70 тысяч на кроссовки Gucci, браслет и рюкзак Louis Vuitton за 100 тысяч\", - вспоминает Фейс, покручивая на пальце перстень Gucci за 20 тысяч рублей. По городу он ездит только на такси бизнес-класса, и у него есть личный телохранитель. \r\n",
      "Испытания славой плохо сказались и на здоровье. В августе 2017 года Ивану Дремину выписали антидепрессанты. Перед новым 2018-м годом он не выдержал. Последние пять концертов тура пришлось отменить.\r\n",
      "\"Когда я первый раз оказался на его концерте в Уфе, мне его стало жалко. Я видел уставшего, загнанного человека на сцене, - вспоминает его отец. - На него свалилась эта популярность, появилась девушка, у него крыша окончательно отъехала. Появилась звездная болезнь, с ним стало трудно говорить. А потом его так измотал тур, что кончились силы даже на звездность\".\r\n",
      "\"Мама, я с ним только что целовалась!\" \r\n",
      "Прославившись, Дремин влюбился в одну из самых известных девушек рунета - видеоблоггера Марьяну Ро (Рожкову). В 2017 году 17-летняя Марьяна рассталась со своим молодым человеком, другим очень популярным видеоблогером Иваном Рудским, известным как Ивангай. И записала видео, где в слезах пожаловалась на сложную жизнь. Вместе с остальными 15 589 768 пользователями YouTube посмотрел его и Дремин.\r\n",
      "Фейс написал девушке несколько сообщений в \"Инстаграм\", но в аккаунте с 5,4 миллиона подписчиков они попали в папку со спамом. \"А впервые я услышала Фейса, когда друг в машине включил его песню. Я помню, как начала орать, типа, что ты слушаешь, выруби это дерьмо. Потом уже сама начала слушать \"Бургер\" и \"Бэби\", - вспоминает Марьяна.\r\n",
      "Когда она наконец увидела сообщения в \"Инстаграме\", то в ответ на сердечко отправила смайлик. После пары недель переписки Марьяна позвала Фейса в гости.\r\n",
      "Родившаяся в Южно-Сахалинске, учившаяся в Японии и жившая в Лос-Анджелесе Марьяна к тому времени была в Москве только третий месяц и не понимала, \"нормально ли здесь позвать парня к себе в гости в первую встречу\". \"Я просто не хотела, чтобы нас где-то на улице сфотографировали, а потом обвиняли, что нам друг от друга только хайп нужен. Он был уверен, что раз я позвала, будет перепихон\", - Марьяна по-блогерски откровенно рассказывает о знакомстве с Дреминым.\r\n",
      "Фейс опоздал на три часа. Принес целый рюкзак сладостей: запомнил слова Марьяны, что у нее есть мечта - ограбить кондитерский магазин. Вдобавок подарил крокодила из \"Киндер-сюрприза\". Позже Марьяна завела для него отдельный инстаграм-аккаунт, на который подписались 156 тысяч человек. \r\n",
      "В первое свидание они сидели на диване и смотрели развлекательные шоу на Netflix. \"И потом у него начался четырехчасовой монолог. Я молчала, даже не вздохнула. Он говорил без остановки про свою жизнь, как ему плохо, грустно и одиноко. И на четвертом часу я поняла, что у него уже наворачиваются слезы. И начала такую ***** [нелепость] нести… В духе: \"Ой смотри на полке стоит статуэтка фламинго, а в окно солнце светит\", - вспоминает Марьяна.\r\n",
      "Было уже пять утра, они встретили рассвет и продолжили говорить. В половину одиннадцатого Дремин ушел домой, так и не поцеловав Марьяну. Потом рассказал ей, что \"лежал дома и думал, жесть, это было так странно, но я влюблен\".\r\n",
      "Через несколько дней они встретились на вечеринке. Фейс напился \"Апероль Шприцем\" и подошел со словами \"***** [какая же] ты красивая!\". Они поцеловались. \"Я пришла домой такой счастливой, что у меня челюсти сводило от улыбки, знаешь, как от травы бывает? - рассказывает Марьяна. - Мама спрашивает, что это со мной. А я ей давай быстрее фотографии в гугле показывать, вот, говорю, с ним только что целовалась!\".\r\n",
      "Фанаты Марьяны обрушились на нее с критикой за выбор Дремина в бойфренды. Несколько месяцев она получала сотни комментариев в духе \"Брось этого дебила, вернись к Ивангаю, он такой лапочка\". \"Я, конечно, видела эти комментарии. Ну это какой-то ***** [ад], - отвечает Марьяна на вопрос, как она воспринимает негатив в социальных сетях. - Сейчас я больше показываю настоящую себя, я могу материться, иногда могу выпить, до сих пор люди не знают, что я жестко растаманила, долго курила марихуану, когда жила с Ивангаем полгода в Америке. Мне так там было грустно и погано, что я могла прям с утра начинать курить. Ну и не буду же я каждому объяснять, что Ивангай меня бил. Первый раз он меня ударил, когда мы жили в Москве, а потом был вообще тотал ад\".\r\n",
      "Иван Рудской (Ивангай) не ответил на просьбу Би-би-си об интервью. Бывший менеджер Ивангая и Марьяны Ро Даниил Комков сказал Би-би-си, что \"Ваня Рожкову никогда не бил, а, наоборот, сдувал пылинки\".\r\n",
      "Дремин тоже описывает ее предыдущие отношения как \"максимально нездоровые\". \"Она девочка с травмой. Она мне рассказывала, как он ее бил и приковывал наручниками к батарее, издевался. А я сразу сильно влюбился, вцепился в нее и хотел и хочу, чтобы это была любовь всей моей жизни. Когда у тебя с детства тепла нет, ты становишься кипером - тебе надо заботиться о других и одаривать их теплом\", - говорит Дремин.\r\n",
      "Бывший менеджер Семенов считает, что Фейс был заботлив в ущерб своей карьере. \"Когда мы еще вместе работали, он полностью забивал из-за нее на свои дела. Например, мы готовили две недели съемки клипа, а он накануне в 10 вечера звонит мне и говорит: я не приеду завтра, у Марьяны ангина. Я говорю - там 50 человек утром собираются ехать на тебя работать, она что, один день полежать одна не может? В итоге он все отменяет, они вызывают скорую, потому что у них нет дома градусника, а у Марьяны оказалась 37,2\".\r\n",
      "\"Человек сначала вообще все забросил. Он девять месяцев за ней как шнурок ходил!\" - говорит старший брат.\r\n",
      "Марьяна говорит, что Фейс не работал над своей карьерой, потому что \"очень неожиданно на него в тот момент все упало, и он был морально не готов\": \"Глупо говорить, что это было из-за меня, ведь я как раз тот человек, который всегда говорит Ване \"иди работай\".  \r\n",
      "Без ссор у одной из самых известных пар молодежного рунета не обходится. \"Они ругаются, он уже несколько раз собирал вещи и собирался переезжать, но в итоге они мирились\", - вспоминает Семенов. \r\n",
      "\"Не хочу себе льстить, но, круто это или нет, я в этом мире такой один. Я человек, которого в жизни ждут испытания, и мне нужен ***** [тот самый] очаг. Мне надо, чтобы меня в случае чего из тюрьмы дождались. У меня есть риски, как у любого, кто идет против системы\", - говорит Фейс. \"Мы всю жизнь мечтали встретить декабристок\", - улыбается Богдан.\r\n",
      "Несмотря на ссоры, Фейс и Рожкова думают о долгой совместной жизни. Они смотрят вместе мультсериал \"Время приключений\", долго завтракают в кафе и путешествуют. Марьяна говорит, что в восторге от его нового альбома: \"Ваня для меня открывает много нового, мы растем вместе. Это круто\".\r\n",
      "\"Богдан сказал: выскажись про выборы президента\"\r\n",
      "О политике Дремин начал задумываться в конце 2017 года. \"Раньше я в этой **** [ерунде] не разбирался. Но мой старший брат пытался в меня что-то вложить - здравый смысл, показывал новости. Он вообще может быть маниакально убедителен. Теперь я считаю, что люди, которые о политике вообще не думают и считают, что она их не касается, это какие-то сумасшедшие\".\r\n",
      "\"Еще год назад он начал со мной говорить, что его волнует, как живет русский народ. А я-то всегда говорил, что в стране творится ***** [неприятности] и лютая чушь. Мы обсуждали самые фантастические вещи, как поведем поклонников на баррикады и прочее\", - говорит Богдан.\r\n",
      "По словам Богдана, Фейс первый раз столкнулся с системой и \"взбесился\", когда ему начали мешать давать концерты. В Омске на Фейса участники движения \"Оплот\" написали заявление в прокуратуру - и концерт запретили. В Самаре на площадку приходил наркоконтроль. В Тюмени, по данным организаторов, в клуб из 1000 купивших билет зашло 300 человек: паспорта проверяли даже у родителей. \r\n",
      "В Краснодаре Фейсу отказали все площадки, и пришлось петь в доме культуры, украшенном елочными игрушками. В Белгороде администрация города предложила сначала пробежать кросс под камеры, а перед началом концерта - включить гимн России. \"Да включили бы. Я бы вышел еще с флагом и в трусах под цвет флага\", - советовал ему отец. Фейс не согласился и отменил концерт.\r\n",
      "В Новосибирске на саунд-чек приехали полицейские с камерой - требовали, чтобы Дремин на камеру заявил, что будет петь без мата. Братья убегали от них по парковкам, а концерт отменили. В Минске ему выступать запретили, на Украину пустили со второго раза. Для концерта там он специально купил красно-черные шорты Nike в цветах украинских националистов, а послушать его пришли в том числе дети президента Порошенко.\r\n",
      "Пока Фейс набирал популярность, к нему стали приглядываться рекламодатели. Но он отказывался от большинства коммерческих предложений, включая рекламу онлайн-казино, алкоголя, сигарет, игровых автоматов, букмекеров и даже презервативов, рассказывает бывший менеджер Дремина Семенов. \r\n",
      "Пиарщики известной марки контрацептивов хотели, чтобы Дремин перепел свой популярный трек, переделав строку \"Трахнул суку без гандона\" на \"Трахнул суку с гандоном\". Букмекеры за майку со своим логотипом предлагали 5 млн рублей. Один из крупных мобильных операторов обсуждал с Дреминым контракт на 6 млн рублей, но менеджер выступила с предложением сделать татуировку с эмблемой компании на внутренней стороне губы Фейса, а за ушами вытатуировать названия тарифов, мотивируя это эпатажностью рэпера. Фейс ответил, что он не ручная обезьянка.\r\n",
      "Купить рекламу у Фейса хотели не только коммерческие компании. На него, провозглашавшего себя на каждом концерте \"лицом поколения\", обратили внимание и политтехнологи. В декабре 2017 года Фейса с менеджером Семеновым пригласили встретиться двое мужчин, представившиеся как \"пиарщики от администрации президента, отвечающие за работу с молодежью\". \"Мы не спрашивали у них удостоверений, но там по виду все было понятно. Это не рекламщики из агентства. Они прямым текстом сказали, что ни у кого нет такого влияния на детей, как у Вани, поэтому он им нужен\", - вспоминает Семенов.\r\n",
      "К тому времени одним из главных хитов рэпера была песня \"Я роняю Запад\" со словами \"Я роняю Запад - это правда. Я **** [занимался сексом с] жену Обамы, мне сосала дочка Трампа, США в нокаут, у!\" Дремин говорит, что эта песня не имеет никакого отношения к политике и появилась как ответ школьникам, которые сами придумали мем \"Фейс роняет Запад\" и часто публиковали его в соцсетях. \r\n",
      "Обратившиеся к Фейсу политтехнологи, по словам Семенова, предложили написать трек \"Я роняю Запад. Часть 2\" - \"со скрыто патриотическим смыслом, что в России классно\" - и снять клип на эту песню. Когда инициаторы встречи узнали, что рэпер уже снимает клип на \"Я роняю Запад\", они предложили вставить туда дополнительный кадр - Путина, едущего на медведе. \r\n",
      "По утверждению Фейса, ему предложили около 2 млн рублей. \"А я им говорю: \"Ну ***** [вы даете], от президента, а с такими копейками!\" Семенов вспоминает, что пытался для начала добиться от пиарщиков комфортных условий для концертов - чтобы их не запрещали, а залы накануне не обыскивали. \r\n",
      "Торги закончились ничем. Через несколько недель на сообщение в \"Телеграме\" от организатора встречи \"Ну что, видимо, отказ?\" Семенов ответил утвердительно. Устраивавшая переговоры Ксения (фамилию они не знают) по телефону (контакт сохранился у команды музыканта) на вопросы Би-би-си о встрече политтехнологов с Фейсом ответила, что \"не понимает, о чем идет речь\".\r\n",
      "В начале февраля 2018 года Фейс обсуждал с братом, что хочет стать панком в современной культуре, стать артистом, не похожим на других. \"А Богдан сказал: ну вот, выскажись про выборы президента. Особенно когда все остальные высказываются \"за\" - и взрослые звезды, и подростковые\", - вспоминает Дремин. Тогда он открыл \"Твиттер\" и написал серию сообщений.\r\n",
      "\"[На хрен] выборы, не ходите на эту [херню] и не голосуйте за эту [херню]\". \"Самое грустное - это то, что сейчас наше правительство - это полная [хрень], а наша страна - это (пока что маленький) Советский Союз, но оппозиция в стиле Навального и прочих тоже предложить [ни хрена] не может\". \"Никто, [валить] отсюда надо, да побыстрее, пока железный занавес не кинули опять всем\". \"Я тоже люблю по-своему эту страну, но нельзя же гордиться всю жизнь тем, что мы две войны выиграли когда-то, да и вообще тем, что было когда-то, надо уже чем-то новым гордиться, а нечем, Россия - это не великая держава, а страна третьего мира\".\r\n",
      "Через час Марьяне Ро позвонил ее менеджер Комков и сказал, что ему нужно срочно увидеться с Фейсом. Как рассказывают Дремин и его подруга, Комков утверждал, что ему позвонили пиарщики из администрации президента и потребовали, чтобы Фейс удалил свои высказывания.\r\n",
      "\"Говорил, что надавали по башке и что угрожают запретить любые концерты и прочее. Еще якобы сказали, что все твиты надо удалить, а вот про кандидата от КПРФ [Павла] Грудинина (его Фейс тоже упомянул в критическом контексте. - Би-би-си) можно оставить\", - говорит Дремин. Он испугался: \"Я был на таких нервах, что дал заднюю, все удалил. Я подумал, что они могли закрыть все концерты. Было очень противно\".\r\n",
      "Комков в разговоре с Би-би-си сказал, что просьба удалить твиты была его личной инициативой. \"Мне искренне хотелось обезопасить молодого человека своей артистки. Помимо Фейса чистили свои ленты и другие артисты. Лично я считаю, что твиты Фейса недостойны гражданина России\", - пояснил он.\r\n",
      "За неделю до мартовских выборов, по словам братьев Дреминых, Комков снова приехал к Фейсу домой - с предложением снять предвыборные видеоролики. С 6 марта 2018 года Комков и другие видеоблогеры публиковали клипы, в которых привлекали внимание к выборам президента, якобы иронизировали над неумеющими вести агиткампании политиками и намекали на одного главного кандидата. После этого от блогеров стали отписываться тысячи людей, обвиняя их в продажности и работе на Кремль.\r\n",
      "\"Давай, большие деньги предлагают. Вы с Марьяной можете делать такие деньги, что никому и не снилось, уже через год будете в Америке жить\", - пересказывает Дремин слова Комкова. Комкову якобы обещали несколько миллионов рублей за 30-секундное видео с Фейсом с его предвыборного участка. Рэпер утверждает, что шла речь и о том, что Дремину могут выделить двух сотрудников ФСБ, с которыми он будет ездить по стране и \"решать все проблемы\". \r\n",
      "\"Меня эти речи все дезориентировали, я вообще считаю, что я такие испытания прошел... Батя посоветовал взять деньги, сделать видео с участка и проголосовать за [Ксению] Собчак. Тогда еще концерт в Новосибирске сорвали, деньги кончались вообще. Мы с Богданом срались в номере отеля и думали: может, плюнуть, записаться на выборах, взять деньги? Но, слава богу, не стали\", - вспоминает Дремин.\r\n",
      "\"Комков очень хотел, чтобы и я, и Ваня работали с правительством, - утверждает Рожкова. - Я и без него один раз даже попала на такую херню - мне устроили встречу с фанатами в парке 12 июня 2017-го, в тот же день, когда Навальный собирал всех на свой митинг. Я не знала, что даты совпадают. Я узнала, что это была какая-то правительственная херня только в конце ноября, когда начали предлагать рекламировать какие-то правительственные штуки. Типа делать посты про Путина, про Собянина\".\r\n",
      "Деталей Марьяна не помнит. Помнит, как Комков пришел и говорит: \"Все, ***** [обладеть], мы богаты! У нас такой проект, такой проект! К нам пришли классные чуваки оттуда\". Никаких фамилий он не называл. \"Я подумала: ой, нет, не туда ты попал. Сказала ему: да, ок, когда-нибудь сделаю\". Но так ничего и не сделала\". Как Комков нашел этих пиарщиков и с кем именно говорил, Рожкова не спрашивала: \"Но суммы там были бешеные. Сказать что-то на три секунды - 700 тысяч, прийти проголосовать - 5 млн. А обычный рекламный пост стоит 250 тысяч. Представляешь размах?\".\r\n",
      "Комков подтвердил обсуждение и работу над \"политическими проектами\" с Марьяной Ро и Фейсом, но заказчиков называть отказался, сославшись на соглашение о неразглашении. \"Я не считаю, что реклама политических проектов - это, как говорится, \"зашквар\". Очень важно, чтобы люди принимали активное политическое участие в жизни своего государства, и почему бы лидерам мнений не быть мотиваторами?\".\r\n",
      "\"Фейса не помню, чтобы покупали, - говорит собеседник Би-би-си, близкий к администрации президента и пожелавший сохранить анонимность. - Но Фейс власти непонятен. Чего поет - непонятно, чего такое \"Гуччи гэнг\" - тоже. Брали Амирана, Птаху, Егора Крида, Соболева, Спилберг (известные видеоблогеры и музыканты. - Би-би-си). Гнойного покупали всего один раз, он взял два миллиона и больше не продавался. Егор Крид за посты в соцсетях берет примерно по два миллиона. Амиран стоит полтора миллиона. Соболев за ролик на политическую тему просит два миллиона, но если не отдельный, а интеграция в видео, то дешевле. Хованский стоит три-пять миллионов. А про Фейса не знаю\". \r\n",
      "Работу с правительственными политтехнологами этих блогеров и музыкантов подтверждает и второй источник Би-би-си, работающий в одном из рекламных агентств с такого рода заказами. \r\n",
      "\"Да, с ними сотрудничают. Помимо них с предложениями выходят вообще на каждого, у кого больше 100 тысяч подписчиков в социальных сетях, - рассказал собеседник на условиях анонимности. - Только цены разнятся. Например, тот же Егор Крид, когда у него на концерты билеты хорошо продаются, может заломить и до 15 млн рублей. А если все плохо и девушка тачку стукнула, может и на 3 млн согласиться. Спилберг получает около 1 млн рублей за размещение политического ролика на YouTube-канале, но сейчас она не в фаворе у администрации, потому что ходила выступать в Госдуму. Сотрудничают не только за деньги, но и за бартер - например, в обмен на ротацию артиста на телеканалах и радио\". \r\n",
      "Концертный директор рэпера Гнойного Станислав Смольянинов подтвердил Би-би-си, что музыкант сотрудничал с политтехнологами из администрации президента: \"Да, это действительно было один единственный раз. Сумму в 2 млн рублей указана не совсем верно, но максимально приближена к реальной. Повторно мы не соглашались, потому что правительство не выплатило нам оговоренную сумму при первом сотрудничестве\".\r\n",
      "По словам источника Би-би-си, речь идет о ролике \"Соболев Diss Chalenge\". \r\n",
      "Менеджер автора популярного YouTube-канала \"Дневник Хача\" Амирана Сардарова ответила, что не готова комментировать информацию о его сотрудничестве с правительственными организациями. \r\n",
      "Менеджер Егора Крида Мария Кордупель сказала, что \"информация о том, что Крид берет 2 млн рублей за заказ от администрации президента, не соответствует действительности\". По словам собеседника Би-би-си, одним из выполненных музыкантом заказов был пост о парке \"Зарядье\" в поддержку мэра Москвы Сергея Собянина. \r\n",
      "\"Это полная ерунда, никаких финансовых контрактов с правительством у Саши не могло быть по определению\", - заявил агент Саши Спилберг Александр Балковский. \r\n",
      "Блогеру Николаю Соболеву платили за ролик о Парке Горького, утверждают источники Би-би-си. Его PR-менеджер Юлия Домбровская из-за вопросов Би-би-си вышла из себя: \"Я не знаю, откуда ваш источник это придумал. Что это вообще такое! Соответственно, я не могу давать никакие комментарии, я не буду давать никакие комментарии по этой теме\".\r\n",
      "Пиар-менеджер рэпера Птахи Марина Евстифеева сказала Би-би-си, что у музыканта \"было личное желание поддержать, и никаких денег он за это не получал\". По словам источника Би-би-си, результатом сотрудничества рэпера с политтехнологами стал ролик \"Свобода\".\r\n",
      "Со стенд-ап комиком Юрием Хованским не удалось связаться, чтобы уточнить историю создания ролика о выборах \"Секс, бухло, русский рэп\".\r\n",
      "\"Путин для меня это зло. А я за все хорошее\"\r\n",
      "\"Я вижу у людей в глазах одно бессилие. Здесь жертва виновата, если ее изнасилуют. Глупость, грубость, воровство - в их руках сила. У свободы слова здесь пэжэ - это Россия\", - читает Дремин в одном из новых треков. \r\n",
      "\"Альбом я записал, потому что меня слушают дети, а с ними больше никто о таком и в таком тоне не говорит\", - отвечает он на вопрос о резкой смене темы. Почему он раньше говорил этим тоном о сексе и наркотиках, а теперь о коррупции, цензуре и \"Зимней вишне\", Дремин сам толком сказать не может. Похоже, что от предложений политтехнологов политический запал братьев Дреминых только разгорелся.\r\n",
      "\"Нас люто взгрела эта херня, что из каждого ящика орали про эти выборы и что актеры, спортсмены, блогеры, музыканты скупились в колоссальных масштабах\", - говорит Богдан. \"Теперь я чистый, утвердился в своей позиции и в этой грязи с остальными не валялся. Путин для меня это зло. А я за все хорошее\", - говорит Иван.\r\n",
      "Альбом \"Пути неисповедимы\" он писал девять месяцев. Во время работы над ним Дремин стал брать уроки вокала и сходил на свою первую политическую акцию - марш в поддержку 18-летней Анны Павликовой, обвиняемой в организации экстремистского сообщества.\r\n",
      "Дату релиза выбрали не случайно: выпустить его Дремин хотел до выборов мэра Москвы. Перед выпуском альбома Фейс побрил голову в прямом эфире, а потом появился в кадре в балаклаве и с автоматом Калашникова. Анонс братья сопроводили ссылкой на второе послание апостола Павла к коринфянам: \"Итак, кто во Христе, тот новая тварь; древнее прошло, теперь все новое\". \r\n",
      "Отец Фейса волнуется: \"Альбом АУЕшный, полукриминальный. На грани. А вместе с обложкой и надписью - я думаю, Папа (имеется в виду Путин. - Би-би-си) может очень огорчиться\".\r\n",
      "\"Ваню сильно изменили - в первую очередь, Богдан. Он очень сильно на Ваню влияет. Я не уверен, что это к лучшему\", - говорит его бывший менеджер Семенов, который не общается с Фейсом с весны 2018 года. Ссылки на Мандельштама в новом альбоме Фейса, его обложка, цитаты из Библии и участие в \"Марше матерей\" - все это идеи его старшего брата.\r\n",
      "Еще Богдан, прочитав весной Марка Аврелия, дал младшему брату научно-популярную книгу о стоицизме. \r\n",
      "\"Я сначала шутил что-то о стояках, а потом вчитался, **** [был поражен] и сказал ему, что это лучшее, что он для меня в жизни сделал, - говорит Фейс. - Теперь я стоик. Теперь я так живу. Я уяснил, что единственный смысл жизни - твоя добродетель. Все эти деньги, шмотки и лакшери, сигареты и таблы - это полная *** [ерунда] и ничего не стоит. Популярность моих старых песен указывает на проблемы молодежи. Если есть такой персонаж и он пользуется успехом - значит, что-то, ребята, с вами не так\".\r\n",
      "\"На эту страну надо смотреть с экрана телевизора\"\r\n",
      "Несмотря на погружение в политику и социальные проблемы страны, Дремины не скрывают, что их главная цель - эмигрировать из России. Об отъезде говорят и Марьяна, и сами братья, и их отец.\r\n",
      "\"Я не люблю Россию, я не люблю людей, которые правят этой страной. Вообще жалела сначала, что вернулась. Все валят из России, а я вернулась, - говорит Рожкова. - Если начнутся какие-то проблемы из-за нового альбома Вани, мы свалим сразу. А вообще очень хотим в течение двух-трех лет свалить отсюда. Я об этом думаю с момента, как приехала\".\r\n",
      "Отец Дреминых говорит, что в шутку уже обсуждал с Иваном переезд, и не откажется, если сын позовет с собой на самом деле: \"На эту страну надо смотреть с экрана телевизора. Здесь ничего хорошего не будет. Творится беспредел. Мне друзья рассказывают, как у них бизнес отжевывают. Они хапают и ртом и задом и никому шагу сделать не дают\".\r\n",
      "Богдан называет главной задачей своей жизни \"покинуть родину и никогда сюда не возвращаться\". Сам Фейс с ними согласен:\r\n",
      "- Вообще в моих планах переехать в хорошую страну и писать приятную качественную музыку.\r\n",
      "- Ты сейчас перечеркиваешь все, что записал в новом альбоме.\r\n",
      "- Я пишу это, потому что я сейчас живу здесь. И я говорю с людьми, которые здесь. У меня мать шизофреник, которая сошла с ума из-за церкви, а церковь у нас государство. У меня проблемы с законом. Я был бедным конченым бичом, а когда дорвался до денег, сам чуть с ума не сошел. В России ты можешь подняться, но тут же все ******* [потеряешь]. Я говорю такие вещи резче и понятнее, чем остальные рэперы. Я идеальный человек-Россия.\r\n",
      "Фотографии: Олеся Волкова/Би-би-си, личный архив Фейса, канал Фейса на YouTube.\r\n",
      ".\r\n",
      "\n",
      "\n",
      "\n"
     ]
    },
    {
     "data": {
      "text/plain": [
       "42539"
      ]
     },
     "execution_count": 41,
     "metadata": {},
     "output_type": "execute_result"
    },
    {
     "data": {
      "text/plain": [
       "8395"
      ]
     },
     "execution_count": 41,
     "metadata": {},
     "output_type": "execute_result"
    },
    {
     "data": {
      "text/plain": [
       "509"
      ]
     },
     "execution_count": 41,
     "metadata": {},
     "output_type": "execute_result"
    }
   ],
   "source": [
    "text = bbc_corp.open('Я_идеальный_человек-Россия_рэпер_Фейс_от_Бургера_до_Мандельштама_6_сентября_2018.txt').read()\n",
    "print(text+\"\\n\\n\")\n",
    "len(text)\n",
    "len(nltk.word_tokenize(text))\n",
    "len(nltk.sent_tokenize(text))"
   ]
  },
  {
   "cell_type": "markdown",
   "metadata": {},
   "source": [
    "This one is 509 sentences and over 8400 words... thats pretty big.\n",
    "BBC was probably the most well formatted one since I did it last. \n",
    "Some of the other sites have issues, such as kommersant. When scraping that\n",
    "one I forgot to write newline characters after each line so it's ugly.\n",
    "Also, some have a bunch of the source code in them for some reason, that I \n",
    "need to find some way to fix:"
   ]
  },
  {
   "cell_type": "code",
   "execution_count": 43,
   "metadata": {
    "scrolled": true
   },
   "outputs": [
    {
     "data": {
      "text/plain": [
       "'Конституционный суд (КС) РФ провел публичные слушания по запросу главы Ингушетии Юнус-Бека Евкурова о проверке соответствия Конституции РФ ратифицированного парламентом республики и аннулированного Конституционным судом Ингушетии соглашения с Чечней об установлении административной границы между двумя регионами. Руководителей Чечни и Ингушетии полностью поддержали представители федеральных органов власти, а ингушских оппозиционеров нейтрализовали их земляки из провластной общественности, включая имама, а также старейшины из Чечни.Дело о границе между Чечней и Ингушетией собрало в КС беспрецедентное число выступающих. Юнус-Бек Евкуров обратился в КС не «о признании неконституционности», а о подтверждении конституционности оспоренных актов «вопреки одному из высших органов Ингушетии», подчеркнул в начале заседания Валерий Зорькин. Напомним, КС Ингушетии 30 сентября признал нарушающими конституцию республики закон о ратификации соглашения, которым впервые была установлена граница с Чечней, и процедуру его принятия. КС Ингушетии решил, что этот вопрос следовало решать на референдуме.Спора между сторонами возникнуть заведомо не могло: этот статус, кроме главы Ингушетии, получили глава Чечни Рамзан Кадыров (оба в Петербург не приехали) и ратифицировавшее соглашение о границе Народное собрание Ингушетии. Представитель главы Ингушетии адвокат Александр Орлов заявил, что решение КС Ингушетии нелегитимно, поскольку принято с процессуальными нарушениями, а мнение населения было учтено на уровне муниципальных и региональных властей. Глава ингушского парламента Магамет Яндиев подчеркнул, что границы избавят республики от междоусобных проблем, которые могли «перерасти в другие моменты, если бы не народная дипломатия и братский чеченский народ». Представитель главы и парламента Чечни Гаиб Берсункаев заявил, что «чеченская сторона заинтересована в признании соглашения законным», а председатель парламента Чечни Магомед Даудов добавил, что «граница затрагивает только незаселенные земли лесного фонда».Глава КС Ингушетии Аюп Гагиев, напомним, еще 23 ноября отказался принять участие в деле: по его мнению, вопрос не может быть предметом рассмотрения КС РФ и относится к исключительной компетенции возглавляемого им суда. Однако КС РФ, приняв дело к рассмотрению, счел, что вопрос о границах между регионами к исключительному ведению региональных властей не относится, заявил Валерий Зорькин.Полпреды федеральных органов власти полностью поддержали позицию региональных властей. Полпред Совета федерации (СФ) Андрей Клишас заявил, что реестр границ — составная часть единого госреестра недвижимости РФ, главы республик действовали во исполнение федерального закона, позволяющего им подписывать соглашения от имени субъекта РФ, а КС Ингушетии был вправе разрешать дела только о не вступивших в силу соглашениях. «Превышение полномочий (региональным КС.—\\xa0“Ъ”) очевидно. Положение об установлении границ Конституции РФ соответствует»,— заявил он.Полпред президента Михаил Кротов напомнил, что КС РФ еще в 2013 году решил, что он вправе при наличии запроса региональных властей признать действующим закон субъекта РФ вопреки решению регионального КС о его несоответствии конституции субъекта РФ, причем без проверки соответствия региональной конституции федеральному основному закону. Решение было принято по запросу властей Челябинской области в связи с отмененными местным уставным судом поправками в закон «О транспортном налоге». «Заключение соглашений о границах представляется разумным и обоснованным, субъекты РФ действовали правомерно»,— заявил полпред президента. Доводы ингушской оппозиции о необходимости референдума, поскольку новые границы фактически изменяют существующие (хотя и не закрепленные юридически) и требуют изменения границ между муниципальными образованиями, он отверг. Михаил Кротов заявил, что муниципальные границы вторичны по сравнению с межрегиональными, а также процитировал позицию Парламентской Ассамблеи Совета Европы 2005 года о том, что «референдумы не должны рассматриваться в качестве альтернативы парламентской демократии» и «ими не следует злоупотреблять».Представитель Генпрокуратуры Татьяна Васильева отметила, что проверка соглашений между субъектами — исключительная компетенция КС РФ. Минюст поддержал позицию полпредов СФ и президента.Оппонентами властей в КС выступили представители группы депутатов, по обращению которых было вынесено решение ингушского КС, и представители Всемирного конгресса ингушского народа — приглашенные, как пояснил Валерий Зорькин, от «общественности, имеющей определенную точку зрения», «чтобы не давать повода для необъективности». Представитель Всемирного конгресса ингушского народа Ахмет Погоров сказал, что у Ингушетии установлением этой границы изъяли около 10% территории, и назвал соглашение «антинародным и антиконституционным» (сегодня сторонники этой точки зрения собрались вновь на митинг в Ингушетии). «До 2008 года шла работа по утверждению границ муниципальных образований, и Чечня не заявляла претензий на спорные территории, в том числе переданные Ингушетии территории заповедника,— заявил господин Погоров, процитировав слова президента Владимира Путина о том, что \"пересмотр границ опасен\".— Спешка чревата осложнением общественно-политической ситуации и межнациональными конфликтами». Другой представитель конгресса адвокат «Международной агоры» Рамиль Ахметгалиев напомнил о «традиции коллективного принятия и обсуждения» вопросов в регионе. «КС Ингушетии действовал в рамках своей компетенции», сказал он, отметив, что вопрос о границах был поставлен главой Ингушетии в 2013 году на съезде, и тогда сомнений в необходимости учета мнения населения не было.Парламентская оппозиция Ингушетии настаивала на нарушениях процедуры, фальсификациях и подтасовках при ратификации соглашения о границе, требовавшего доработки. «Второго и третьего чтения фактически не было»,— заявил представитель депутатской группы адвокат Андрей Сабинин. Депутат Закрий Мамилов заявил, что «34\\xa0га территории Ингушетии перешло к Чечне, это возмутило народ, который пошел на 13-дневный митинг». «Противостояние руководства региона своему народу непонятно, как и то, что за этим кроется»,— заключил он.По ходатайству администрации Чечни слово предоставили двум старейшинам из чеченской части сообщества Орстхой (в него входят проживающие по обе стороны от спорной границы представители чеченского и ингушского народа). Саид Изарипов сказал, что его род сошел с гор, проживает в горной местности на спорной территории в основном в Чечне и всецело доверяет главе республики. Другой орстхоевец Сайхан Саламов заявил, что спор носит «чисто политический характер, и подножку ставят главе Республики Ингушетия, это не по-вайнахски, это черт знает по-какому». «Прошу Аллаха ниспослать вам здоровья и здравого смысла для решения этого вопроса»,— обратился он к КС. Выступавший уже по ходатайству администрации Ингушетии имам мечети ингушского приграничного села Алкун Ахмет Цечоев заявил, что «отношения народов не могут зависеть от высказываний тех, кто лоббирует свои политические интересы». «Граница нам не помеха, мы, орстхоевцы, исконно проживающие на этой территории, полностью согласны с решением Евкурова и Кадырова, более справедливого решения мы не видим,— сказал он и добавил:— Не слушаться отцов всегда считалось большим позором».Глава правительства Ингушетии Зелимхан Евлоев заявил, что «никогда не поступился бы интересами своего народа». А член проправительственного Координационного совета общественников Ингушетии Накир Добриев прочитал с трибуны текст в поддержку глав республик, в котором говорилось, что границы улучшат инвестиционный климат и дадут возможность осваивать горные районы. «Мы не позволим разрушить мир провокационными действиями»,— пообещал он, передав КС «от вайнахских женщин, что они устали». «Давайте, Конституционный суд, сделайте так, чтобы у нас был мир и согласие»,— призвал общественник. После этого Валерию Зорькину пришлось пресечь попытку представителя оппозиции возразить выступающему. «Вы хотите у себя на родине установить прочный порядок, и я тоже хочу действовать в соответствии с принятым утвержденным порядком»,— сказал глава КС.Решение КС будет вынесено на закрытом заседании.Анна Пушкарская, Санкт-Петербург'"
      ]
     },
     "execution_count": 43,
     "metadata": {},
     "output_type": "execute_result"
    }
   ],
   "source": [
    "kommersant_corp.open('Чечено-ингушскую_границу_изучили_со_всех_сторон_Конституционный_суд_рассмотрел_запрос_главы_Ингушетии_2018-11-27.txt').read()\n"
   ]
  },
  {
   "cell_type": "markdown",
   "metadata": {},
   "source": [
    "(pretty ugly but probably not a major issue for computational tasks. The next one is much worse.)"
   ]
  },
  {
   "cell_type": "code",
   "execution_count": 44,
   "metadata": {},
   "outputs": [
    {
     "data": {
      "text/plain": [
       "'На выборах мэра Москвы ожидаемо победил действующий градоначальник Сергей Собянин. По сравнению с 2013 годом его победа оказалась более убедительной: если тогда во второй тур едва не вышел кандидат РПР—ПАРНАС Алексей Навальный, то в этот раз мэр заручился поддержкой 70% проголосовавших. Явка составила 30,89% при 32,03% в 2013 году. По сравнению с прошлыми выборами вдвое увеличился процент недействительных бюллетеней — возможно, это связано с ограниченностью кандидатского предложения для избирателей, настроенных оппозиционно по отношению к господину Собянину.Мэр Москвы намерен «пахать» больше в последний срокПо результатам обработки 99% протоколов победу на выборах мэра Москвы одержал Сергей Собянин. Он получил 70,14% голосов (1,5\\xa0млн из 7,2\\xa0млн), следует из данных Мосгоризбиркома (МГИК). Явка избирателей на выборах в нынешнем году оказалась меньше, чем в 2013 году,— 30,89% (была 32,03%). В 2013 году, когда в выборах участвовал оппозиционер Алексей Навальный (набрал 27,24%, 632\\xa0тыс. голосов), победа господина Собянина была менее уверенной: он набрал 51,37% (1,1\\xa0млн голосов).window.widget_config__1726 = { dateUpdate : 1543513701 }; \\r\\n\\r\\n\\r\\n\\r\\n \\r\\nwindow.clientData__moscow_election_data=\\'[{\\\\\"Общие_результаты\\\\\":\\\\\"70.17\\\\\",\\\\\"Текст_под_картой\\\\\":[{\\\\\"Текст_Собянин_2013\\\\\":\\\\\"Уровень поддержки Сергея Собянина вырос незначительно, если разница составляет не более 12 процентных пунктов, значительно – более 20.\\\\\",\\\\\"Текст_Путин_2018\\\\\":\\\\\"Уровень поддержки мэра практически равен президентскому, если их результаты на последних выборах различаются не более чем на 2 процентных пункта.\\\\\",\\\\\"Текст_Собянин_2018\\\\\":\\\\\"\\\\\",\\\\\"id\\\\\":10875,\\\\\"tr_id\\\\\":5580,\\\\\"order\\\\\":1}],\\\\\"Результаты_по_округам\\\\\":[{\\\\\"Округ\\\\\":\\\\\"Троицкий\\\\\",\\\\\"id\\\\\":10880,\\\\\"tr_id\\\\\":5580,\\\\\"order\\\\\":1},{\\\\\"Округ\\\\\":\\\\\"Новомосковский\\\\\",\\\\\"id\\\\\":10881,\\\\\"tr_id\\\\\":5580,\\\\\"order\\\\\":2}],\\\\\"Результаты\\\\\":[{\\\\\"Собянин_2018\\\\\":\\\\\"63.68\\\\\",\\\\\"Путин_2016\\\\\":\\\\\"69.13\\\\\",\\\\\"Собянин_2013\\\\\":\\\\\"47.25\\\\\",\\\\\"Район\\\\\":[{\\\\\"i\\\\\":0,\\\\\"trId\\\\\":\\\\\"5579\\\\\",\\\\\"field\\\\\":false,\\\\\"__link__\\\\\":false,\\\\\"data\\\\\":{\\\\\"Район\\\\\":\\\\\"Кунцево\\\\\",\\\\\"key_id\\\\\":\\\\\"Кунцево\\\\\",\\\\\"id\\\\\":5579,\\\\\"order\\\\\":1}}],\\\\\"id\\\\\":10882,\\\\\"tr_id\\\\\":5580,\\\\\"order\\\\\":1},{\\\\\"Собянин_2018\\\\\":\\\\\"65.61\\\\\",\\\\\"Путин_2016\\\\\":\\\\\"66.22\\\\\",\\\\\"Собянин_2013\\\\\":\\\\\"43.73\\\\\",\\\\\"Район\\\\\":[{\\\\\"i\\\\\":0,\\\\\"trId\\\\\":\\\\\"5595\\\\\",\\\\\"field\\\\\":false,\\\\\"__link__\\\\\":false,\\\\\"data\\\\\":{\\\\\"Район\\\\\":\\\\\"Академический\\\\\",\\\\\"key_id\\\\\":\\\\\"Академический\\\\\",\\\\\"id\\\\\":5595,\\\\\"order\\\\\":2}}],\\\\\"id\\\\\":10883,\\\\\"tr_id\\\\\":5580,\\\\\"order\\\\\":2},{\\\\\"Собянин_2018\\\\\":\\\\\"63.34\\\\\",\\\\\"Путин_2016\\\\\":\\\\\"66.22\\\\\",\\\\\"Собянин_2013\\\\\":\\\\\"44.7\\\\\",\\\\\"Район\\\\\":[{\\\\\"i\\\\\":0,\\\\\"trId\\\\\":\\\\\"5596\\\\\",\\\\\"field\\\\\":false,\\\\\"__link__\\\\\":false,\\\\\"data\\\\\":{\\\\\"Район\\\\\":\\\\\"Алексеевский\\\\\",\\\\\"key_id\\\\\":\\\\\"Алексеевский\\\\\",\\\\\"id\\\\\":5596,\\\\\"order\\\\\":3}}],\\\\\"id\\\\\":10884,\\\\\"tr_id\\\\\":5580,\\\\\"order\\\\\":3},{\\\\\"Собянин_2018\\\\\":\\\\\"70.94\\\\\",\\\\\"Путин_2016\\\\\":\\\\\"74.76\\\\\",\\\\\"Собянин_2013\\\\\":\\\\\"54.57\\\\\",\\\\\"Район\\\\\":[{\\\\\"i\\\\\":0,\\\\\"trId\\\\\":\\\\\"5597\\\\\",\\\\\"field\\\\\":false,\\\\\"__link__\\\\\":false,\\\\\"data\\\\\":{\\\\\"Район\\\\\":\\\\\"Алтуфьевский\\\\\",\\\\\"key_id\\\\\":\\\\\"Алтуфьевский\\\\\",\\\\\"id\\\\\":5597,\\\\\"order\\\\\":4}}],\\\\\"id\\\\\":10885,\\\\\"tr_id\\\\\":5580,\\\\\"order\\\\\":4},{\\\\\"Собянин_2018\\\\\":\\\\\"68.75\\\\\",\\\\\"Путин_2016\\\\\":\\\\\"66.45\\\\\",\\\\\"Собянин_2013\\\\\":\\\\\"43.53\\\\\",\\\\\"Район\\\\\":[{\\\\\"i\\\\\":0,\\\\\"trId\\\\\":\\\\\"5598\\\\\",\\\\\"field\\\\\":false,\\\\\"__link__\\\\\":false,\\\\\"data\\\\\":{\\\\\"Район\\\\\":\\\\\"Арбат\\\\\",\\\\\"key_id\\\\\":\\\\\"Арбат\\\\\",\\\\\"id\\\\\":5598,\\\\\"order\\\\\":5}}],\\\\\"id\\\\\":10886,\\\\\"tr_id\\\\\":5580,\\\\\"order\\\\\":5},{\\\\\"Собянин_2018\\\\\":\\\\\"63.88\\\\\",\\\\\"Путин_2016\\\\\":\\\\\"65.98\\\\\",\\\\\"Собянин_2013\\\\\":\\\\\"41.31\\\\\",\\\\\"Район\\\\\":[{\\\\\"i\\\\\":0,\\\\\"trId\\\\\":\\\\\"5599\\\\\",\\\\\"field\\\\\":false,\\\\\"__link__\\\\\":false,\\\\\"data\\\\\":{\\\\\"Район\\\\\":\\\\\"Аэропорт\\\\\",\\\\\"key_id\\\\\":\\\\\"Аэропорт\\\\\",\\\\\"id\\\\\":5599,\\\\\"order\\\\\":6}}],\\\\\"id\\\\\":10887,\\\\\"tr_id\\\\\":5580,\\\\\"order\\\\\":6},{\\\\\"Собянин_2018\\\\\":\\\\\"68.97\\\\\",\\\\\"Путин_2016\\\\\":\\\\\"71.61\\\\\",\\\\\"Собянин_2013\\\\\":\\\\\"50.58\\\\\",\\\\\"Район\\\\\":[{\\\\\"i\\\\\":0,\\\\\"trId\\\\\":\\\\\"5600\\\\\",\\\\\"field\\\\\":false,\\\\\"__link__\\\\\":false,\\\\\"data\\\\\":{\\\\\"Район\\\\\":\\\\\"Бабушкинский\\\\\",\\\\\"key_id\\\\\":\\\\\"Бабушкинский\\\\\",\\\\\"id\\\\\":5600,\\\\\"order\\\\\":7}}],\\\\\"id\\\\\":10888,\\\\\"tr_id\\\\\":5580,\\\\\"order\\\\\":7},{\\\\\"Собянин_2018\\\\\":\\\\\"64.54\\\\\",\\\\\"Путин_2016\\\\\":\\\\\"65.61\\\\\",\\\\\"Собянин_2013\\\\\":\\\\\"41.56\\\\\",\\\\\"Район\\\\\":[{\\\\\"i\\\\\":0,\\\\\"trId\\\\\":\\\\\"5601\\\\\",\\\\\"field\\\\\":false,\\\\\"__link__\\\\\":false,\\\\\"data\\\\\":{\\\\\"Район\\\\\":\\\\\"Басманный\\\\\",\\\\\"key_id\\\\\":\\\\\"Басманный\\\\\",\\\\\"id\\\\\":5601,\\\\\"order\\\\\":8}}],\\\\\"id\\\\\":10889,\\\\\"tr_id\\\\\":5580,\\\\\"order\\\\\":8},{\\\\\"Собянин_2018\\\\\":\\\\\"64.80\\\\\",\\\\\"Путин_2016\\\\\":\\\\\"67.91\\\\\",\\\\\"Собянин_2013\\\\\":\\\\\"45.55\\\\\",\\\\\"Район\\\\\":[{\\\\\"i\\\\\":0,\\\\\"trId\\\\\":\\\\\"5602\\\\\",\\\\\"field\\\\\":false,\\\\\"__link__\\\\\":false,\\\\\"data\\\\\":{\\\\\"Район\\\\\":\\\\\"Беговой\\\\\",\\\\\"key_id\\\\\":\\\\\"Беговой\\\\\",\\\\\"id\\\\\":5602,\\\\\"order\\\\\":9}}],\\\\\"id\\\\\":10890,\\\\\"tr_id\\\\\":5580,\\\\\"order\\\\\":9},{\\\\\"Собянин_2018\\\\\":\\\\\"71.20\\\\\",\\\\\"Путин_2016\\\\\":\\\\\"72.64\\\\\",\\\\\"Собянин_2013\\\\\":\\\\\"55.2\\\\\",\\\\\"Район\\\\\":[{\\\\\"i\\\\\":0,\\\\\"trId\\\\\":\\\\\"5603\\\\\",\\\\\"field\\\\\":false,\\\\\"__link__\\\\\":false,\\\\\"data\\\\\":{\\\\\"Район\\\\\":\\\\\"Бескудниковский\\\\\",\\\\\"key_id\\\\\":\\\\\"Бескудниковский\\\\\",\\\\\"id\\\\\":5603,\\\\\"order\\\\\":10}}],\\\\\"id\\\\\":10891,\\\\\"tr_id\\\\\":5580,\\\\\"order\\\\\":10},{\\\\\"Собянин_2018\\\\\":\\\\\"70.06\\\\\",\\\\\"Путин_2016\\\\\":\\\\\"73.72\\\\\",\\\\\"Собянин_2013\\\\\":\\\\\"54.55\\\\\",\\\\\"Район\\\\\":[{\\\\\"i\\\\\":0,\\\\\"trId\\\\\":\\\\\"5604\\\\\",\\\\\"field\\\\\":false,\\\\\"__link__\\\\\":false,\\\\\"data\\\\\":{\\\\\"Район\\\\\":\\\\\"Бибирево\\\\\",\\\\\"key_id\\\\\":\\\\\"Бибирево\\\\\",\\\\\"id\\\\\":5604,\\\\\"order\\\\\":11}}],\\\\\"id\\\\\":10892,\\\\\"tr_id\\\\\":5580,\\\\\"order\\\\\":11},{\\\\\"Собянин_2018\\\\\":\\\\\"73.21\\\\\",\\\\\"Путин_2016\\\\\":\\\\\"73.23\\\\\",\\\\\"Собянин_2013\\\\\":\\\\\"58.91\\\\\",\\\\\"Район\\\\\":[{\\\\\"i\\\\\":0,\\\\\"trId\\\\\":\\\\\"5605\\\\\",\\\\\"field\\\\\":false,\\\\\"__link__\\\\\":false,\\\\\"data\\\\\":{\\\\\"Район\\\\\":\\\\\"Бирюлево Восточное\\\\\",\\\\\"key_id\\\\\":\\\\\"Бирюлево Восточное\\\\\",\\\\\"id\\\\\":5605,\\\\\"order\\\\\":12}}],\\\\\"id\\\\\":10893,\\\\\"tr_id\\\\\":5580,\\\\\"order\\\\\":12},{\\\\\"Собянин_2018\\\\\":\\\\\"74.12\\\\\",\\\\\"Путин_2016\\\\\":\\\\\"73.3\\\\\",\\\\\"Собянин_2013\\\\\":\\\\\"64.24\\\\\",\\\\\"Район\\\\\":[{\\\\\"i\\\\\":0,\\\\\"trId\\\\\":\\\\\"5606\\\\\",\\\\\"field\\\\\":false,\\\\\"__link__\\\\\":false,\\\\\"data\\\\\":{\\\\\"Район\\\\\":\\\\\"Бирюлево Западное\\\\\",\\\\\"key_id\\\\\":\\\\\"Бирюлево Западное\\\\\",\\\\\"id\\\\\":5606,\\\\\"order\\\\\":13}}],\\\\\"id\\\\\":10894,\\\\\"tr_id\\\\\":5580,\\\\\"order\\\\\":13},{\\\\\"Собянин_2018\\\\\":\\\\\"68.06\\\\\",\\\\\"Путин_2016\\\\\":\\\\\"70.77\\\\\",\\\\\"Собянин_2013\\\\\":\\\\\"50.7\\\\\",\\\\\"Район\\\\\":[{\\\\\"i\\\\\":0,\\\\\"trId\\\\\":\\\\\"5607\\\\\",\\\\\"field\\\\\":false,\\\\\"__link__\\\\\":false,\\\\\"data\\\\\":{\\\\\"Район\\\\\":\\\\\"Богородское\\\\\",\\\\\"key_id\\\\\":\\\\\"Богородское\\\\\",\\\\\"id\\\\\":5607,\\\\\"order\\\\\":14}}],\\\\\"id\\\\\":10895,\\\\\"tr_id\\\\\":5580,\\\\\"order\\\\\":14},{\\\\\"Собянин_2018\\\\\":\\\\\"75.56\\\\\",\\\\\"Путин_2016\\\\\":\\\\\"73.22\\\\\",\\\\\"Собянин_2013\\\\\":\\\\\"59.11\\\\\",\\\\\"Район\\\\\":[{\\\\\"i\\\\\":0,\\\\\"trId\\\\\":\\\\\"5608\\\\\",\\\\\"field\\\\\":false,\\\\\"__link__\\\\\":false,\\\\\"data\\\\\":{\\\\\"Район\\\\\":\\\\\"Братеево\\\\\",\\\\\"key_id\\\\\":\\\\\"Братеево\\\\\",\\\\\"id\\\\\":5608,\\\\\"order\\\\\":15}}],\\\\\"id\\\\\":10896,\\\\\"tr_id\\\\\":5580,\\\\\"order\\\\\":15},{\\\\\"Собянин_2018\\\\\":\\\\\"62.80\\\\\",\\\\\"Путин_2016\\\\\":\\\\\"68.85\\\\\",\\\\\"Собянин_2013\\\\\":\\\\\"49.4\\\\\",\\\\\"Район\\\\\":[{\\\\\"i\\\\\":0,\\\\\"trId\\\\\":\\\\\"5609\\\\\",\\\\\"field\\\\\":false,\\\\\"__link__\\\\\":false,\\\\\"data\\\\\":{\\\\\"Район\\\\\":\\\\\"Бутырский\\\\\",\\\\\"key_id\\\\\":\\\\\"Бутырский\\\\\",\\\\\"id\\\\\":5609,\\\\\"order\\\\\":16}}],\\\\\"id\\\\\":10897,\\\\\"tr_id\\\\\":5580,\\\\\"order\\\\\":16},{\\\\\"Собянин_2018\\\\\":\\\\\"68.12\\\\\",\\\\\"Путин_2016\\\\\":\\\\\"75.02\\\\\",\\\\\"Собянин_2013\\\\\":\\\\\"53.68\\\\\",\\\\\"Район\\\\\":[{\\\\\"i\\\\\":0,\\\\\"trId\\\\\":\\\\\"5610\\\\\",\\\\\"field\\\\\":false,\\\\\"__link__\\\\\":false,\\\\\"data\\\\\":{\\\\\"Район\\\\\":\\\\\"Вешняки\\\\\",\\\\\"key_id\\\\\":\\\\\"Вешняки\\\\\",\\\\\"id\\\\\":5610,\\\\\"order\\\\\":17}}],\\\\\"id\\\\\":10898,\\\\\"tr_id\\\\\":5580,\\\\\"order\\\\\":17},{\\\\\"Собянин_2018\\\\\":\\\\\"77.60\\\\\",\\\\\"Путин_2016\\\\\":\\\\\"74.84\\\\\",\\\\\"Собянин_2013\\\\\":\\\\\"55.67\\\\\",\\\\\"Район\\\\\":[{\\\\\"i\\\\\":0,\\\\\"trId\\\\\":\\\\\"5611\\\\\",\\\\\"field\\\\\":false,\\\\\"__link__\\\\\":false,\\\\\"data\\\\\":{\\\\\"Район\\\\\":\\\\\"Внуково\\\\\",\\\\\"key_id\\\\\":\\\\\"Внуково\\\\\",\\\\\"id\\\\\":5611,\\\\\"order\\\\\":18}}],\\\\\"id\\\\\":10899,\\\\\"tr_id\\\\\":5580,\\\\\"order\\\\\":18},{\\\\\"Собянин_2018\\\\\":\\\\\"66.85\\\\\",\\\\\"Путин_2016\\\\\":\\\\\"67.2\\\\\",\\\\\"Собянин_2013\\\\\":\\\\\"46.25\\\\\",\\\\\"Район\\\\\":[{\\\\\"i\\\\\":0,\\\\\"trId\\\\\":\\\\\"5612\\\\\",\\\\\"field\\\\\":false,\\\\\"__link__\\\\\":false,\\\\\"data\\\\\":{\\\\\"Район\\\\\":\\\\\"Войковский\\\\\",\\\\\"key_id\\\\\":\\\\\"Войковский\\\\\",\\\\\"id\\\\\":5612,\\\\\"order\\\\\":19}}],\\\\\"id\\\\\":10900,\\\\\"tr_id\\\\\":5580,\\\\\"order\\\\\":19},{\\\\\"Собянин_2018\\\\\":\\\\\"69.94\\\\\",\\\\\"Путин_2016\\\\\":\\\\\"73.11\\\\\",\\\\\"Собянин_2013\\\\\":\\\\\"55.55\\\\\",\\\\\"Район\\\\\":[{\\\\\"i\\\\\":0,\\\\\"trId\\\\\":\\\\\"5613\\\\\",\\\\\"field\\\\\":false,\\\\\"__link__\\\\\":false,\\\\\"data\\\\\":{\\\\\"Район\\\\\":\\\\\"Восточное Дегунино\\\\\",\\\\\"key_id\\\\\":\\\\\"Восточное Дегунино\\\\\",\\\\\"id\\\\\":5613,\\\\\"order\\\\\":20}}],\\\\\"id\\\\\":10901,\\\\\"tr_id\\\\\":5580,\\\\\"order\\\\\":20},{\\\\\"Собянин_2018\\\\\":\\\\\"65.37\\\\\",\\\\\"Путин_2016\\\\\":\\\\\"70.23\\\\\",\\\\\"Собянин_2013\\\\\":\\\\\"49.28\\\\\",\\\\\"Район\\\\\":[{\\\\\"i\\\\\":0,\\\\\"trId\\\\\":\\\\\"5614\\\\\",\\\\\"field\\\\\":false,\\\\\"__link__\\\\\":false,\\\\\"data\\\\\":{\\\\\"Район\\\\\":\\\\\"Восточное Измайлово\\\\\",\\\\\"key_id\\\\\":\\\\\"Восточное Измайлово\\\\\",\\\\\"id\\\\\":5614,\\\\\"order\\\\\":21}}],\\\\\"id\\\\\":10902,\\\\\"tr_id\\\\\":5580,\\\\\"order\\\\\":21},{\\\\\"Собянин_2018\\\\\":\\\\\"66.51\\\\\",\\\\\"Путин_2016\\\\\":\\\\\"74.77\\\\\",\\\\\"Собянин_2013\\\\\":\\\\\"58.57\\\\\",\\\\\"Район\\\\\":[{\\\\\"i\\\\\":0,\\\\\"trId\\\\\":\\\\\"5615\\\\\",\\\\\"field\\\\\":false,\\\\\"__link__\\\\\":false,\\\\\"data\\\\\":{\\\\\"Район\\\\\":\\\\\"Восточный\\\\\",\\\\\"key_id\\\\\":\\\\\"Восточный\\\\\",\\\\\"id\\\\\":5615,\\\\\"order\\\\\":22}}],\\\\\"id\\\\\":10903,\\\\\"tr_id\\\\\":5580,\\\\\"order\\\\\":22},{\\\\\"Собянин_2018\\\\\":\\\\\"73.08\\\\\",\\\\\"Путин_2016\\\\\":\\\\\"71.75\\\\\",\\\\\"Собянин_2013\\\\\":\\\\\"59.51\\\\\",\\\\\"Район\\\\\":[{\\\\\"i\\\\\":0,\\\\\"trId\\\\\":\\\\\"5616\\\\\",\\\\\"field\\\\\":false,\\\\\"__link__\\\\\":false,\\\\\"data\\\\\":{\\\\\"Район\\\\\":\\\\\"Выхино-Жулебино\\\\\",\\\\\"key_id\\\\\":\\\\\"Выхино-Жулебино\\\\\",\\\\\"id\\\\\":5616,\\\\\"order\\\\\":23}}],\\\\\"id\\\\\":10904,\\\\\"tr_id\\\\\":5580,\\\\\"order\\\\\":23},{\\\\\"Собянин_2018\\\\\":\\\\\"62.58\\\\\",\\\\\"Путин_2016\\\\\":\\\\\"62.76\\\\\",\\\\\"Собянин_2013\\\\\":\\\\\"37.3\\\\\",\\\\\"Район\\\\\":[{\\\\\"i\\\\\":0,\\\\\"trId\\\\\":\\\\\"5617\\\\\",\\\\\"field\\\\\":false,\\\\\"__link__\\\\\":false,\\\\\"data\\\\\":{\\\\\"Район\\\\\":\\\\\"Гагаринский\\\\\",\\\\\"key_id\\\\\":\\\\\"Гагаринский\\\\\",\\\\\"id\\\\\":5617,\\\\\"order\\\\\":24}}],\\\\\"id\\\\\":10905,\\\\\"tr_id\\\\\":5580,\\\\\"order\\\\\":24},{\\\\\"Собянин_2018\\\\\":\\\\\"71.10\\\\\",\\\\\"Путин_2016\\\\\":\\\\\"70.72\\\\\",\\\\\"Собянин_2013\\\\\":\\\\\"50.25\\\\\",\\\\\"Район\\\\\":[{\\\\\"i\\\\\":0,\\\\\"trId\\\\\":\\\\\"5618\\\\\",\\\\\"field\\\\\":false,\\\\\"__link__\\\\\":false,\\\\\"data\\\\\":{\\\\\"Район\\\\\":\\\\\"Головинский\\\\\",\\\\\"key_id\\\\\":\\\\\"Головинский\\\\\",\\\\\"id\\\\\":5618,\\\\\"order\\\\\":25}}],\\\\\"id\\\\\":10906,\\\\\"tr_id\\\\\":5580,\\\\\"order\\\\\":25},{\\\\\"Собянин_2018\\\\\":\\\\\"66.07\\\\\",\\\\\"Путин_2016\\\\\":\\\\\"71.76\\\\\",\\\\\"Собянин_2013\\\\\":\\\\\"48.11\\\\\",\\\\\"Район\\\\\":[{\\\\\"i\\\\\":0,\\\\\"trId\\\\\":\\\\\"5619\\\\\",\\\\\"field\\\\\":false,\\\\\"__link__\\\\\":false,\\\\\"data\\\\\":{\\\\\"Район\\\\\":\\\\\"Гольяново\\\\\",\\\\\"key_id\\\\\":\\\\\"Гольяново\\\\\",\\\\\"id\\\\\":5619,\\\\\"order\\\\\":26}}],\\\\\"id\\\\\":10907,\\\\\"tr_id\\\\\":5580,\\\\\"order\\\\\":26},{\\\\\"Собянин_2018\\\\\":\\\\\"67.57\\\\\",\\\\\"Путин_2016\\\\\":\\\\\"70.35\\\\\",\\\\\"Собянин_2013\\\\\":\\\\\"47.91\\\\\",\\\\\"Район\\\\\":[{\\\\\"i\\\\\":0,\\\\\"trId\\\\\":\\\\\"5620\\\\\",\\\\\"field\\\\\":false,\\\\\"__link__\\\\\":false,\\\\\"data\\\\\":{\\\\\"Район\\\\\":\\\\\"Даниловский\\\\\",\\\\\"key_id\\\\\":\\\\\"Даниловский\\\\\",\\\\\"id\\\\\":5620,\\\\\"order\\\\\":27}}],\\\\\"id\\\\\":10908,\\\\\"tr_id\\\\\":5580,\\\\\"order\\\\\":27},{\\\\\"Собянин_2018\\\\\":\\\\\"72.95\\\\\",\\\\\"Путин_2016\\\\\":\\\\\"75.14\\\\\",\\\\\"Собянин_2013\\\\\":\\\\\"63.37\\\\\",\\\\\"Район\\\\\":[{\\\\\"i\\\\\":0,\\\\\"trId\\\\\":\\\\\"5621\\\\\",\\\\\"field\\\\\":false,\\\\\"__link__\\\\\":false,\\\\\"data\\\\\":{\\\\\"Район\\\\\":\\\\\"Дмитровский\\\\\",\\\\\"key_id\\\\\":\\\\\"Дмитровский\\\\\",\\\\\"id\\\\\":5621,\\\\\"order\\\\\":28}}],\\\\\"id\\\\\":10909,\\\\\"tr_id\\\\\":5580,\\\\\"order\\\\\":28},{\\\\\"Собянин_2018\\\\\":\\\\\"66.90\\\\\",\\\\\"Путин_2016\\\\\":\\\\\"69.03\\\\\",\\\\\"Собянин_2013\\\\\":\\\\\"50.07\\\\\",\\\\\"Район\\\\\":[{\\\\\"i\\\\\":0,\\\\\"trId\\\\\":\\\\\"5622\\\\\",\\\\\"field\\\\\":false,\\\\\"__link__\\\\\":false,\\\\\"data\\\\\":{\\\\\"Район\\\\\":\\\\\"Донской\\\\\",\\\\\"key_id\\\\\":\\\\\"Донской\\\\\",\\\\\"id\\\\\":5622,\\\\\"order\\\\\":29}}],\\\\\"id\\\\\":10910,\\\\\"tr_id\\\\\":5580,\\\\\"order\\\\\":29},{\\\\\"Собянин_2018\\\\\":\\\\\"62.99\\\\\",\\\\\"Путин_2016\\\\\":\\\\\"63.75\\\\\",\\\\\"Собянин_2013\\\\\":\\\\\"42\\\\\",\\\\\"Район\\\\\":[{\\\\\"i\\\\\":0,\\\\\"trId\\\\\":\\\\\"5623\\\\\",\\\\\"field\\\\\":false,\\\\\"__link__\\\\\":false,\\\\\"data\\\\\":{\\\\\"Район\\\\\":\\\\\"Дорогомилово\\\\\",\\\\\"key_id\\\\\":\\\\\"Дорогомилово\\\\\",\\\\\"id\\\\\":5623,\\\\\"order\\\\\":30}}],\\\\\"id\\\\\":10911,\\\\\"tr_id\\\\\":5580,\\\\\"order\\\\\":30},{\\\\\"Собянин_2018\\\\\":\\\\\"66.12\\\\\",\\\\\"Путин_2016\\\\\":\\\\\"65.47\\\\\",\\\\\"Собянин_2013\\\\\":\\\\\"42.13\\\\\",\\\\\"Район\\\\\":[{\\\\\"i\\\\\":0,\\\\\"trId\\\\\":\\\\\"5624\\\\\",\\\\\"field\\\\\":false,\\\\\"__link__\\\\\":false,\\\\\"data\\\\\":{\\\\\"Район\\\\\":\\\\\"Замоскворечье\\\\\",\\\\\"key_id\\\\\":\\\\\"Замоскворечье\\\\\",\\\\\"id\\\\\":5624,\\\\\"order\\\\\":31}}],\\\\\"id\\\\\":10912,\\\\\"tr_id\\\\\":5580,\\\\\"order\\\\\":31},{\\\\\"Собянин_2018\\\\\":\\\\\"73.19\\\\\",\\\\\"Путин_2016\\\\\":\\\\\"73.46\\\\\",\\\\\"Собянин_2013\\\\\":\\\\\"58.31\\\\\",\\\\\"Район\\\\\":[{\\\\\"i\\\\\":0,\\\\\"trId\\\\\":\\\\\"5625\\\\\",\\\\\"field\\\\\":false,\\\\\"__link__\\\\\":false,\\\\\"data\\\\\":{\\\\\"Район\\\\\":\\\\\"Западное Дегунино\\\\\",\\\\\"key_id\\\\\":\\\\\"Западное Дегунино\\\\\",\\\\\"id\\\\\":5625,\\\\\"order\\\\\":32}}],\\\\\"id\\\\\":10913,\\\\\"tr_id\\\\\":5580,\\\\\"order\\\\\":32},{\\\\\"Собянин_2018\\\\\":\\\\\"70.26\\\\\",\\\\\"Путин_2016\\\\\":\\\\\"69.94\\\\\",\\\\\"Собянин_2013\\\\\":\\\\\"48.07\\\\\",\\\\\"Район\\\\\":[{\\\\\"i\\\\\":0,\\\\\"trId\\\\\":\\\\\"5626\\\\\",\\\\\"field\\\\\":false,\\\\\"__link__\\\\\":false,\\\\\"data\\\\\":{\\\\\"Район\\\\\":\\\\\"Зюзино\\\\\",\\\\\"key_id\\\\\":\\\\\"Зюзино\\\\\",\\\\\"id\\\\\":5626,\\\\\"order\\\\\":33}}],\\\\\"id\\\\\":10914,\\\\\"tr_id\\\\\":5580,\\\\\"order\\\\\":33},{\\\\\"Собянин_2018\\\\\":\\\\\"72.63\\\\\",\\\\\"Путин_2016\\\\\":\\\\\"72.88\\\\\",\\\\\"Собянин_2013\\\\\":\\\\\"56.21\\\\\",\\\\\"Район\\\\\":[{\\\\\"i\\\\\":0,\\\\\"trId\\\\\":\\\\\"5627\\\\\",\\\\\"field\\\\\":false,\\\\\"__link__\\\\\":false,\\\\\"data\\\\\":{\\\\\"Район\\\\\":\\\\\"Зябликово\\\\\",\\\\\"key_id\\\\\":\\\\\"Зябликово\\\\\",\\\\\"id\\\\\":5627,\\\\\"order\\\\\":34}}],\\\\\"id\\\\\":10915,\\\\\"tr_id\\\\\":5580,\\\\\"order\\\\\":34},{\\\\\"Собянин_2018\\\\\":\\\\\"68.39\\\\\",\\\\\"Путин_2016\\\\\":\\\\\"73.4\\\\\",\\\\\"Собянин_2013\\\\\":\\\\\"53.85\\\\\",\\\\\"Район\\\\\":[{\\\\\"i\\\\\":0,\\\\\"trId\\\\\":\\\\\"5628\\\\\",\\\\\"field\\\\\":false,\\\\\"__link__\\\\\":false,\\\\\"data\\\\\":{\\\\\"Район\\\\\":\\\\\"Ивановское\\\\\",\\\\\"key_id\\\\\":\\\\\"Ивановское\\\\\",\\\\\"id\\\\\":5628,\\\\\"order\\\\\":35}}],\\\\\"id\\\\\":10916,\\\\\"tr_id\\\\\":5580,\\\\\"order\\\\\":35},{\\\\\"Собянин_2018\\\\\":\\\\\"64.15\\\\\",\\\\\"Путин_2016\\\\\":\\\\\"68.16\\\\\",\\\\\"Собянин_2013\\\\\":\\\\\"47.03\\\\\",\\\\\"Район\\\\\":[{\\\\\"i\\\\\":0,\\\\\"trId\\\\\":\\\\\"5629\\\\\",\\\\\"field\\\\\":false,\\\\\"__link__\\\\\":false,\\\\\"data\\\\\":{\\\\\"Район\\\\\":\\\\\"Измайлово\\\\\",\\\\\"key_id\\\\\":\\\\\"Измайлово\\\\\",\\\\\"id\\\\\":5629,\\\\\"order\\\\\":36}}],\\\\\"id\\\\\":10917,\\\\\"tr_id\\\\\":5580,\\\\\"order\\\\\":36},{\\\\\"Собянин_2018\\\\\":\\\\\"74.33\\\\\",\\\\\"Путин_2016\\\\\":\\\\\"74.2\\\\\",\\\\\"Собянин_2013\\\\\":\\\\\"65.88\\\\\",\\\\\"Район\\\\\":[{\\\\\"i\\\\\":0,\\\\\"trId\\\\\":\\\\\"5630\\\\\",\\\\\"field\\\\\":false,\\\\\"__link__\\\\\":false,\\\\\"data\\\\\":{\\\\\"Район\\\\\":\\\\\"Капотня\\\\\",\\\\\"key_id\\\\\":\\\\\"Капотня\\\\\",\\\\\"id\\\\\":5630,\\\\\"order\\\\\":37}}],\\\\\"id\\\\\":10918,\\\\\"tr_id\\\\\":5580,\\\\\"order\\\\\":37},{\\\\\"Собянин_2018\\\\\":\\\\\"70.59\\\\\",\\\\\"Путин_2016\\\\\":\\\\\"68.27\\\\\",\\\\\"Собянин_2013\\\\\":\\\\\"47.61\\\\\",\\\\\"Район\\\\\":[{\\\\\"i\\\\\":0,\\\\\"trId\\\\\":\\\\\"5631\\\\\",\\\\\"field\\\\\":false,\\\\\"__link__\\\\\":false,\\\\\"data\\\\\":{\\\\\"Район\\\\\":\\\\\"Коньково\\\\\",\\\\\"key_id\\\\\":\\\\\"Коньково\\\\\",\\\\\"id\\\\\":5631,\\\\\"order\\\\\":38}}],\\\\\"id\\\\\":10919,\\\\\"tr_id\\\\\":5580,\\\\\"order\\\\\":38},{\\\\\"Собянин_2018\\\\\":\\\\\"68.63\\\\\",\\\\\"Путин_2016\\\\\":\\\\\"70.46\\\\\",\\\\\"Собянин_2013\\\\\":\\\\\"47.42\\\\\",\\\\\"Район\\\\\":[{\\\\\"i\\\\\":0,\\\\\"trId\\\\\":\\\\\"5632\\\\\",\\\\\"field\\\\\":false,\\\\\"__link__\\\\\":false,\\\\\"data\\\\\":{\\\\\"Район\\\\\":\\\\\"Коптево\\\\\",\\\\\"key_id\\\\\":\\\\\"Коптево\\\\\",\\\\\"id\\\\\":5632,\\\\\"order\\\\\":39}}],\\\\\"id\\\\\":10920,\\\\\"tr_id\\\\\":5580,\\\\\"order\\\\\":39},{\\\\\"Собянин_2018\\\\\":\\\\\"75.90\\\\\",\\\\\"Путин_2016\\\\\":\\\\\"73.31\\\\\",\\\\\"Собянин_2013\\\\\":\\\\\"61.47\\\\\",\\\\\"Район\\\\\":[{\\\\\"i\\\\\":0,\\\\\"trId\\\\\":\\\\\"5633\\\\\",\\\\\"field\\\\\":false,\\\\\"__link__\\\\\":false,\\\\\"data\\\\\":{\\\\\"Район\\\\\":\\\\\"Косино-Ухтомский\\\\\",\\\\\"key_id\\\\\":\\\\\"Косино-Ухтомский\\\\\",\\\\\"id\\\\\":5633,\\\\\"order\\\\\":40}}],\\\\\"id\\\\\":10921,\\\\\"tr_id\\\\\":5580,\\\\\"order\\\\\":40},{\\\\\"Собянин_2018\\\\\":\\\\\"68.85\\\\\",\\\\\"Путин_2016\\\\\":\\\\\"70.08\\\\\",\\\\\"Собянин_2013\\\\\":\\\\\"49.22\\\\\",\\\\\"Район\\\\\":[{\\\\\"i\\\\\":0,\\\\\"trId\\\\\":\\\\\"5634\\\\\",\\\\\"field\\\\\":false,\\\\\"__link__\\\\\":false,\\\\\"data\\\\\":{\\\\\"Район\\\\\":\\\\\"Котловка\\\\\",\\\\\"key_id\\\\\":\\\\\"Котловка\\\\\",\\\\\"id\\\\\":5634,\\\\\"order\\\\\":41}}],\\\\\"id\\\\\":10922,\\\\\"tr_id\\\\\":5580,\\\\\"order\\\\\":41},{\\\\\"Собянин_2018\\\\\":\\\\\"64.99\\\\\",\\\\\"Путин_2016\\\\\":\\\\\"68.72\\\\\",\\\\\"Собянин_2013\\\\\":\\\\\"44.16\\\\\",\\\\\"Район\\\\\":[{\\\\\"i\\\\\":0,\\\\\"trId\\\\\":\\\\\"5635\\\\\",\\\\\"field\\\\\":false,\\\\\"__link__\\\\\":false,\\\\\"data\\\\\":{\\\\\"Район\\\\\":\\\\\"Красносельский\\\\\",\\\\\"key_id\\\\\":\\\\\"Красносельский\\\\\",\\\\\"id\\\\\":5635,\\\\\"order\\\\\":42}}],\\\\\"id\\\\\":10923,\\\\\"tr_id\\\\\":5580,\\\\\"order\\\\\":42},{\\\\\"Собянин_2018\\\\\":\\\\\"68.66\\\\\",\\\\\"Путин_2016\\\\\":\\\\\"69.5\\\\\",\\\\\"Собянин_2013\\\\\":\\\\\"45.84\\\\\",\\\\\"Район\\\\\":[{\\\\\"i\\\\\":0,\\\\\"trId\\\\\":\\\\\"5636\\\\\",\\\\\"field\\\\\":false,\\\\\"__link__\\\\\":false,\\\\\"data\\\\\":{\\\\\"Район\\\\\":\\\\\"Крылатское\\\\\",\\\\\"key_id\\\\\":\\\\\"Крылатское\\\\\",\\\\\"id\\\\\":5636,\\\\\"order\\\\\":43}}],\\\\\"id\\\\\":10924,\\\\\"tr_id\\\\\":5580,\\\\\"order\\\\\":43},{\\\\\"Собянин_2018\\\\\":\\\\\"73.98\\\\\",\\\\\"Путин_2016\\\\\":\\\\\"74.08\\\\\",\\\\\"Собянин_2013\\\\\":\\\\\"51.93\\\\\",\\\\\"Район\\\\\":[{\\\\\"i\\\\\":0,\\\\\"trId\\\\\":\\\\\"5637\\\\\",\\\\\"field\\\\\":false,\\\\\"__link__\\\\\":false,\\\\\"data\\\\\":{\\\\\"Район\\\\\":\\\\\"Крюково\\\\\",\\\\\"key_id\\\\\":\\\\\"Крюково\\\\\",\\\\\"id\\\\\":5637,\\\\\"order\\\\\":44}}],\\\\\"id\\\\\":10925,\\\\\"tr_id\\\\\":5580,\\\\\"order\\\\\":44},{\\\\\"Собянин_2018\\\\\":\\\\\"70.78\\\\\",\\\\\"Путин_2016\\\\\":\\\\\"71.58\\\\\",\\\\\"Собянин_2013\\\\\":\\\\\"53.14\\\\\",\\\\\"Район\\\\\":[{\\\\\"i\\\\\":0,\\\\\"trId\\\\\":\\\\\"5638\\\\\",\\\\\"field\\\\\":false,\\\\\"__link__\\\\\":false,\\\\\"data\\\\\":{\\\\\"Район\\\\\":\\\\\"Кузьминки\\\\\",\\\\\"key_id\\\\\":\\\\\"Кузьминки\\\\\",\\\\\"id\\\\\":5638,\\\\\"order\\\\\":45}}],\\\\\"id\\\\\":10926,\\\\\"tr_id\\\\\":5580,\\\\\"order\\\\\":45},{\\\\\"Собянин_2018\\\\\":\\\\\"71.68\\\\\",\\\\\"Путин_2016\\\\\":\\\\\"69.78\\\\\",\\\\\"Собянин_2013\\\\\":\\\\\"47.88\\\\\",\\\\\"Район\\\\\":[{\\\\\"i\\\\\":0,\\\\\"trId\\\\\":\\\\\"5640\\\\\",\\\\\"field\\\\\":false,\\\\\"__link__\\\\\":false,\\\\\"data\\\\\":{\\\\\"Район\\\\\":\\\\\"Куркино\\\\\",\\\\\"key_id\\\\\":\\\\\"Куркино\\\\\",\\\\\"id\\\\\":5640,\\\\\"order\\\\\":46}}],\\\\\"id\\\\\":10927,\\\\\"tr_id\\\\\":5580,\\\\\"order\\\\\":46},{\\\\\"Собянин_2018\\\\\":\\\\\"73.89\\\\\",\\\\\"Путин_2016\\\\\":\\\\\"69.66\\\\\",\\\\\"Собянин_2013\\\\\":\\\\\"48.55\\\\\",\\\\\"Район\\\\\":[{\\\\\"i\\\\\":0,\\\\\"trId\\\\\":\\\\\"5641\\\\\",\\\\\"field\\\\\":false,\\\\\"__link__\\\\\":false,\\\\\"data\\\\\":{\\\\\"Район\\\\\":\\\\\"Левобережный\\\\\",\\\\\"key_id\\\\\":\\\\\"Левобережный\\\\\",\\\\\"id\\\\\":5641,\\\\\"order\\\\\":47}}],\\\\\"id\\\\\":10928,\\\\\"tr_id\\\\\":5580,\\\\\"order\\\\\":47},{\\\\\"Собянин_2018\\\\\":\\\\\"67.30\\\\\",\\\\\"Путин_2016\\\\\":\\\\\"69.67\\\\\",\\\\\"Собянин_2013\\\\\":\\\\\"51.58\\\\\",\\\\\"Район\\\\\":[{\\\\\"i\\\\\":0,\\\\\"trId\\\\\":\\\\\"5642\\\\\",\\\\\"field\\\\\":false,\\\\\"__link__\\\\\":false,\\\\\"data\\\\\":{\\\\\"Район\\\\\":\\\\\"Лефортово\\\\\",\\\\\"key_id\\\\\":\\\\\"Лефортово\\\\\",\\\\\"id\\\\\":5642,\\\\\"order\\\\\":48}}],\\\\\"id\\\\\":10929,\\\\\"tr_id\\\\\":5580,\\\\\"order\\\\\":48},{\\\\\"Собянин_2018\\\\\":\\\\\"70.93\\\\\",\\\\\"Путин_2016\\\\\":\\\\\"73.35\\\\\",\\\\\"Собянин_2013\\\\\":\\\\\"55.56\\\\\",\\\\\"Район\\\\\":[{\\\\\"i\\\\\":0,\\\\\"trId\\\\\":\\\\\"5643\\\\\",\\\\\"field\\\\\":false,\\\\\"__link__\\\\\":false,\\\\\"data\\\\\":{\\\\\"Район\\\\\":\\\\\"Лианозово\\\\\",\\\\\"key_id\\\\\":\\\\\"Лианозово\\\\\",\\\\\"id\\\\\":5643,\\\\\"order\\\\\":49}}],\\\\\"id\\\\\":10930,\\\\\"tr_id\\\\\":5580,\\\\\"order\\\\\":49},{\\\\\"Собянин_2018\\\\\":\\\\\"64.72\\\\\",\\\\\"Путин_2016\\\\\":\\\\\"65.08\\\\\",\\\\\"Собянин_2013\\\\\":\\\\\"42.09\\\\\",\\\\\"Район\\\\\":[{\\\\\"i\\\\\":0,\\\\\"trId\\\\\":\\\\\"5644\\\\\",\\\\\"field\\\\\":false,\\\\\"__link__\\\\\":false,\\\\\"data\\\\\":{\\\\\"Район\\\\\":\\\\\"Ломоносовский\\\\\",\\\\\"key_id\\\\\":\\\\\"Ломоносовский\\\\\",\\\\\"id\\\\\":5644,\\\\\"order\\\\\":50}}],\\\\\"id\\\\\":10931,\\\\\"tr_id\\\\\":5580,\\\\\"order\\\\\":50},{\\\\\"Собянин_2018\\\\\":\\\\\"64.72\\\\\",\\\\\"Путин_2016\\\\\":\\\\\"71.94\\\\\",\\\\\"Собянин_2013\\\\\":\\\\\"54.04\\\\\",\\\\\"Район\\\\\":[{\\\\\"i\\\\\":0,\\\\\"trId\\\\\":\\\\\"5645\\\\\",\\\\\"field\\\\\":false,\\\\\"__link__\\\\\":false,\\\\\"data\\\\\":{\\\\\"Район\\\\\":\\\\\"Лосиноостровский\\\\\",\\\\\"key_id\\\\\":\\\\\"Лосиноостровский\\\\\",\\\\\"id\\\\\":5645,\\\\\"order\\\\\":51}}],\\\\\"id\\\\\":10932,\\\\\"tr_id\\\\\":5580,\\\\\"order\\\\\":51},{\\\\\"Собянин_2018\\\\\":\\\\\"70.18\\\\\",\\\\\"Путин_2016\\\\\":\\\\\"73.75\\\\\",\\\\\"Собянин_2013\\\\\":\\\\\"57.71\\\\\",\\\\\"Район\\\\\":[{\\\\\"i\\\\\":0,\\\\\"trId\\\\\":\\\\\"5646\\\\\",\\\\\"field\\\\\":false,\\\\\"__link__\\\\\":false,\\\\\"data\\\\\":{\\\\\"Район\\\\\":\\\\\"Люблино\\\\\",\\\\\"key_id\\\\\":\\\\\"Люблино\\\\\",\\\\\"id\\\\\":5646,\\\\\"order\\\\\":52}}],\\\\\"id\\\\\":10933,\\\\\"tr_id\\\\\":5580,\\\\\"order\\\\\":52},{\\\\\"Собянин_2018\\\\\":\\\\\"69.40\\\\\",\\\\\"Путин_2016\\\\\":\\\\\"69.33\\\\\",\\\\\"Собянин_2013\\\\\":\\\\\"48.62\\\\\",\\\\\"Район\\\\\":[{\\\\\"i\\\\\":0,\\\\\"trId\\\\\":\\\\\"5647\\\\\",\\\\\"field\\\\\":false,\\\\\"__link__\\\\\":false,\\\\\"data\\\\\":{\\\\\"Район\\\\\":\\\\\"Марфино\\\\\",\\\\\"key_id\\\\\":\\\\\"Марфино\\\\\",\\\\\"id\\\\\":5647,\\\\\"order\\\\\":53}}],\\\\\"id\\\\\":10934,\\\\\"tr_id\\\\\":5580,\\\\\"order\\\\\":53},{\\\\\"Собянин_2018\\\\\":\\\\\"64.99\\\\\",\\\\\"Путин_2016\\\\\":\\\\\"68.37\\\\\",\\\\\"Собянин_2013\\\\\":\\\\\"49.08\\\\\",\\\\\"Район\\\\\":[{\\\\\"i\\\\\":0,\\\\\"trId\\\\\":\\\\\"5648\\\\\",\\\\\"field\\\\\":false,\\\\\"__link__\\\\\":false,\\\\\"data\\\\\":{\\\\\"Район\\\\\":\\\\\"Марьина Роща\\\\\",\\\\\"key_id\\\\\":\\\\\"Марьина Роща\\\\\",\\\\\"id\\\\\":5648,\\\\\"order\\\\\":54}}],\\\\\"id\\\\\":10935,\\\\\"tr_id\\\\\":5580,\\\\\"order\\\\\":54},{\\\\\"Собянин_2018\\\\\":\\\\\"70.90\\\\\",\\\\\"Путин_2016\\\\\":\\\\\"72.86\\\\\",\\\\\"Собянин_2013\\\\\":\\\\\"54.74\\\\\",\\\\\"Район\\\\\":[{\\\\\"i\\\\\":0,\\\\\"trId\\\\\":\\\\\"5649\\\\\",\\\\\"field\\\\\":false,\\\\\"__link__\\\\\":false,\\\\\"data\\\\\":{\\\\\"Район\\\\\":\\\\\"Марьино\\\\\",\\\\\"key_id\\\\\":\\\\\"Марьино\\\\\",\\\\\"id\\\\\":5649,\\\\\"order\\\\\":55}}],\\\\\"id\\\\\":10936,\\\\\"tr_id\\\\\":5580,\\\\\"order\\\\\":55},{\\\\\"Собянин_2018\\\\\":\\\\\"74.95\\\\\",\\\\\"Путин_2016\\\\\":\\\\\"73.81\\\\\",\\\\\"Собянин_2013\\\\\":\\\\\"51.93\\\\\",\\\\\"Район\\\\\":[{\\\\\"i\\\\\":0,\\\\\"trId\\\\\":\\\\\"5650\\\\\",\\\\\"field\\\\\":false,\\\\\"__link__\\\\\":false,\\\\\"data\\\\\":{\\\\\"Район\\\\\":\\\\\"Матушкино\\\\\",\\\\\"key_id\\\\\":\\\\\"Матушкино\\\\\",\\\\\"id\\\\\":5650,\\\\\"order\\\\\":56}}],\\\\\"id\\\\\":10937,\\\\\"tr_id\\\\\":5580,\\\\\"order\\\\\":56},{\\\\\"Собянин_2018\\\\\":\\\\\"72.45\\\\\",\\\\\"Путин_2016\\\\\":\\\\\"72.8\\\\\",\\\\\"Собянин_2013\\\\\":\\\\\"53.01\\\\\",\\\\\"Район\\\\\":[{\\\\\"i\\\\\":0,\\\\\"trId\\\\\":\\\\\"5651\\\\\",\\\\\"field\\\\\":false,\\\\\"__link__\\\\\":false,\\\\\"data\\\\\":{\\\\\"Район\\\\\":\\\\\"Метрогородок\\\\\",\\\\\"key_id\\\\\":\\\\\"Метрогородок\\\\\",\\\\\"id\\\\\":5651,\\\\\"order\\\\\":57}}],\\\\\"id\\\\\":10938,\\\\\"tr_id\\\\\":5580,\\\\\"order\\\\\":57},{\\\\\"Собянин_2018\\\\\":\\\\\"64.69\\\\\",\\\\\"Путин_2016\\\\\":\\\\\"66.69\\\\\",\\\\\"Собянин_2013\\\\\":\\\\\"42.84\\\\\",\\\\\"Район\\\\\":[{\\\\\"i\\\\\":0,\\\\\"trId\\\\\":\\\\\"5652\\\\\",\\\\\"field\\\\\":false,\\\\\"__link__\\\\\":false,\\\\\"data\\\\\":{\\\\\"Район\\\\\":\\\\\"Мещанский\\\\\",\\\\\"key_id\\\\\":\\\\\"Мещанский\\\\\",\\\\\"id\\\\\":5652,\\\\\"order\\\\\":58}}],\\\\\"id\\\\\":10939,\\\\\"tr_id\\\\\":5580,\\\\\"order\\\\\":58},{\\\\\"Собянин_2018\\\\\":\\\\\"72.26\\\\\",\\\\\"Путин_2016\\\\\":\\\\\"72.26\\\\\",\\\\\"Собянин_2013\\\\\":\\\\\"50.54\\\\\",\\\\\"Район\\\\\":[{\\\\\"i\\\\\":0,\\\\\"trId\\\\\":\\\\\"5653\\\\\",\\\\\"field\\\\\":false,\\\\\"__link__\\\\\":false,\\\\\"data\\\\\":{\\\\\"Район\\\\\":\\\\\"Митино\\\\\",\\\\\"key_id\\\\\":\\\\\"Митино\\\\\",\\\\\"id\\\\\":5653,\\\\\"order\\\\\":59}}],\\\\\"id\\\\\":10940,\\\\\"tr_id\\\\\":5580,\\\\\"order\\\\\":59},{\\\\\"Собянин_2018\\\\\":\\\\\"65.07\\\\\",\\\\\"Путин_2016\\\\\":\\\\\"72.23\\\\\",\\\\\"Собянин_2013\\\\\":\\\\\"51.11\\\\\",\\\\\"Район\\\\\":[{\\\\\"i\\\\\":0,\\\\\"trId\\\\\":\\\\\"5654\\\\\",\\\\\"field\\\\\":false,\\\\\"__link__\\\\\":false,\\\\\"data\\\\\":{\\\\\"Район\\\\\":\\\\\"Можайский\\\\\",\\\\\"key_id\\\\\":\\\\\"Можайский\\\\\",\\\\\"id\\\\\":5654,\\\\\"order\\\\\":60}}],\\\\\"id\\\\\":10941,\\\\\"tr_id\\\\\":5580,\\\\\"order\\\\\":60},{\\\\\"Собянин_2018\\\\\":\\\\\"81.83\\\\\",\\\\\"Путин_2016\\\\\":\\\\\"74.47\\\\\",\\\\\"Собянин_2013\\\\\":\\\\\"54.73\\\\\",\\\\\"Район\\\\\":[{\\\\\"i\\\\\":0,\\\\\"trId\\\\\":\\\\\"5655\\\\\",\\\\\"field\\\\\":false,\\\\\"__link__\\\\\":false,\\\\\"data\\\\\":{\\\\\"Район\\\\\":\\\\\"Молжаниновский\\\\\",\\\\\"key_id\\\\\":\\\\\"Молжаниновский\\\\\",\\\\\"id\\\\\":5655,\\\\\"order\\\\\":61}}],\\\\\"id\\\\\":10942,\\\\\"tr_id\\\\\":5580,\\\\\"order\\\\\":61},{\\\\\"Собянин_2018\\\\\":\\\\\"71.35\\\\\",\\\\\"Путин_2016\\\\\":\\\\\"70.55\\\\\",\\\\\"Собянин_2013\\\\\":\\\\\"51.23\\\\\",\\\\\"Район\\\\\":[{\\\\\"i\\\\\":0,\\\\\"trId\\\\\":\\\\\"5656\\\\\",\\\\\"field\\\\\":false,\\\\\"__link__\\\\\":false,\\\\\"data\\\\\":{\\\\\"Район\\\\\":\\\\\"Москворечье-Сабурово\\\\\",\\\\\"key_id\\\\\":\\\\\"Москворечье-Сабурово\\\\\",\\\\\"id\\\\\":5656,\\\\\"order\\\\\":62}}],\\\\\"id\\\\\":10943,\\\\\"tr_id\\\\\":5580,\\\\\"order\\\\\":62},{\\\\\"Собянин_2018\\\\\":\\\\\"70.84\\\\\",\\\\\"Путин_2016\\\\\":\\\\\"69.81\\\\\",\\\\\"Собянин_2013\\\\\":\\\\\"49.52\\\\\",\\\\\"Район\\\\\":[{\\\\\"i\\\\\":0,\\\\\"trId\\\\\":\\\\\"5657\\\\\",\\\\\"field\\\\\":false,\\\\\"__link__\\\\\":false,\\\\\"data\\\\\":{\\\\\"Район\\\\\":\\\\\"Нагатино-Садовники\\\\\",\\\\\"key_id\\\\\":\\\\\"Нагатино-Садовники\\\\\",\\\\\"id\\\\\":5657,\\\\\"order\\\\\":63}}],\\\\\"id\\\\\":10944,\\\\\"tr_id\\\\\":5580,\\\\\"order\\\\\":63},{\\\\\"Собянин_2018\\\\\":\\\\\"71.71\\\\\",\\\\\"Путин_2016\\\\\":\\\\\"73.24\\\\\",\\\\\"Собянин_2013\\\\\":\\\\\"51.34\\\\\",\\\\\"Район\\\\\":[{\\\\\"i\\\\\":0,\\\\\"trId\\\\\":\\\\\"5658\\\\\",\\\\\"field\\\\\":false,\\\\\"__link__\\\\\":false,\\\\\"data\\\\\":{\\\\\"Район\\\\\":\\\\\"Нагатинский Затон\\\\\",\\\\\"key_id\\\\\":\\\\\"Нагатинский Затон\\\\\",\\\\\"id\\\\\":5658,\\\\\"order\\\\\":64}}],\\\\\"id\\\\\":10945,\\\\\"tr_id\\\\\":5580,\\\\\"order\\\\\":64},{\\\\\"Собянин_2018\\\\\":\\\\\"68,46\\\\\",\\\\\"Путин_2016\\\\\":\\\\\"71.26\\\\\",\\\\\"Собянин_2013\\\\\":\\\\\"49.68\\\\\",\\\\\"Район\\\\\":[{\\\\\"i\\\\\":0,\\\\\"trId\\\\\":\\\\\"5659\\\\\",\\\\\"field\\\\\":false,\\\\\"__link__\\\\\":false,\\\\\"data\\\\\":{\\\\\"Район\\\\\":\\\\\"Нагорный\\\\\",\\\\\"key_id\\\\\":\\\\\"Нагорный\\\\\",\\\\\"id\\\\\":5659,\\\\\"order\\\\\":65}}],\\\\\"id\\\\\":10946,\\\\\"tr_id\\\\\":5580,\\\\\"order\\\\\":65},{\\\\\"Собянин_2018\\\\\":\\\\\"74.84\\\\\",\\\\\"Путин_2016\\\\\":\\\\\"73.71\\\\\",\\\\\"Собянин_2013\\\\\":\\\\\"67.51\\\\\",\\\\\"Район\\\\\":[{\\\\\"i\\\\\":0,\\\\\"trId\\\\\":\\\\\"5660\\\\\",\\\\\"field\\\\\":false,\\\\\"__link__\\\\\":false,\\\\\"data\\\\\":{\\\\\"Район\\\\\":\\\\\"Некрасовка\\\\\",\\\\\"key_id\\\\\":\\\\\"Некрасовка\\\\\",\\\\\"id\\\\\":5660,\\\\\"order\\\\\":66}}],\\\\\"id\\\\\":10947,\\\\\"tr_id\\\\\":5580,\\\\\"order\\\\\":66},{\\\\\"Собянин_2018\\\\\":\\\\\"69.15\\\\\",\\\\\"Путин_2016\\\\\":\\\\\"70.44\\\\\",\\\\\"Собянин_2013\\\\\":\\\\\"58.34\\\\\",\\\\\"Район\\\\\":[{\\\\\"i\\\\\":0,\\\\\"trId\\\\\":\\\\\"5661\\\\\",\\\\\"field\\\\\":false,\\\\\"__link__\\\\\":false,\\\\\"data\\\\\":{\\\\\"Район\\\\\":\\\\\"Нижегородский\\\\\",\\\\\"key_id\\\\\":\\\\\"Нижегородский\\\\\",\\\\\"id\\\\\":5661,\\\\\"order\\\\\":67}}],\\\\\"id\\\\\":10948,\\\\\"tr_id\\\\\":5580,\\\\\"order\\\\\":67},{\\\\\"Собянин_2018\\\\\":\\\\\"67.75\\\\\",\\\\\"Путин_2016\\\\\":\\\\\"70.44\\\\\",\\\\\"Собянин_2013\\\\\":\\\\\"51.1\\\\\",\\\\\"Район\\\\\":[{\\\\\"i\\\\\":0,\\\\\"trId\\\\\":\\\\\"5662\\\\\",\\\\\"field\\\\\":false,\\\\\"__link__\\\\\":false,\\\\\"data\\\\\":{\\\\\"Район\\\\\":\\\\\"Новогиреево\\\\\",\\\\\"key_id\\\\\":\\\\\"Новогиреево\\\\\",\\\\\"id\\\\\":5662,\\\\\"order\\\\\":68}}],\\\\\"id\\\\\":10949,\\\\\"tr_id\\\\\":5580,\\\\\"order\\\\\":68},{\\\\\"Собянин_2018\\\\\":\\\\\"74.09\\\\\",\\\\\"Путин_2016\\\\\":\\\\\"72.43\\\\\",\\\\\"Собянин_2013\\\\\":\\\\\"58.73\\\\\",\\\\\"Район\\\\\":[{\\\\\"i\\\\\":0,\\\\\"trId\\\\\":\\\\\"5663\\\\\",\\\\\"field\\\\\":false,\\\\\"__link__\\\\\":false,\\\\\"data\\\\\":{\\\\\"Район\\\\\":\\\\\"Новокосино\\\\\",\\\\\"key_id\\\\\":\\\\\"Новокосино\\\\\",\\\\\"id\\\\\":5663,\\\\\"order\\\\\":69}}],\\\\\"id\\\\\":10950,\\\\\"tr_id\\\\\":5580,\\\\\"order\\\\\":69},{\\\\\"Собянин_2018\\\\\":\\\\\"79.59\\\\\",\\\\\"Путин_2016\\\\\":\\\\\"74.54\\\\\",\\\\\"Собянин_2013\\\\\":\\\\\"60.55\\\\\",\\\\\"Район\\\\\":[{\\\\\"i\\\\\":0,\\\\\"trId\\\\\":\\\\\"5664\\\\\",\\\\\"field\\\\\":false,\\\\\"__link__\\\\\":false,\\\\\"data\\\\\":{\\\\\"Район\\\\\":\\\\\"Ново-Переделкино\\\\\",\\\\\"key_id\\\\\":\\\\\"Ново-Переделкино\\\\\",\\\\\"id\\\\\":5664,\\\\\"order\\\\\":70}}],\\\\\"id\\\\\":10951,\\\\\"tr_id\\\\\":5580,\\\\\"order\\\\\":70},{\\\\\"Собянин_2018\\\\\":\\\\\"70.49\\\\\",\\\\\"Путин_2016\\\\\":\\\\\"68.31\\\\\",\\\\\"Собянин_2013\\\\\":\\\\\"45.39\\\\\",\\\\\"Район\\\\\":[{\\\\\"i\\\\\":0,\\\\\"trId\\\\\":\\\\\"5665\\\\\",\\\\\"field\\\\\":false,\\\\\"__link__\\\\\":false,\\\\\"data\\\\\":{\\\\\"Район\\\\\":\\\\\"Обручевский\\\\\",\\\\\"key_id\\\\\":\\\\\"Обручевский\\\\\",\\\\\"id\\\\\":5665,\\\\\"order\\\\\":71}}],\\\\\"id\\\\\":10952,\\\\\"tr_id\\\\\":5580,\\\\\"order\\\\\":71},{\\\\\"Собянин_2018\\\\\":\\\\\"69.68\\\\\",\\\\\"Путин_2016\\\\\":\\\\\"70.34\\\\\",\\\\\"Собянин_2013\\\\\":\\\\\"53.27\\\\\",\\\\\"Район\\\\\":[{\\\\\"i\\\\\":0,\\\\\"trId\\\\\":\\\\\"5666\\\\\",\\\\\"field\\\\\":false,\\\\\"__link__\\\\\":false,\\\\\"data\\\\\":{\\\\\"Район\\\\\":\\\\\"Орехово-Борисово Северное\\\\\",\\\\\"key_id\\\\\":\\\\\"Орехово-Борисово Северное\\\\\",\\\\\"id\\\\\":5666,\\\\\"order\\\\\":72}}],\\\\\"id\\\\\":10953,\\\\\"tr_id\\\\\":5580,\\\\\"order\\\\\":72},{\\\\\"Собянин_2018\\\\\":\\\\\"70.53\\\\\",\\\\\"Путин_2016\\\\\":\\\\\"71.51\\\\\",\\\\\"Собянин_2013\\\\\":\\\\\"55.67\\\\\",\\\\\"Район\\\\\":[{\\\\\"i\\\\\":0,\\\\\"trId\\\\\":\\\\\"5667\\\\\",\\\\\"field\\\\\":false,\\\\\"__link__\\\\\":false,\\\\\"data\\\\\":{\\\\\"Район\\\\\":\\\\\"Орехово-Борисово Южное\\\\\",\\\\\"key_id\\\\\":\\\\\"Орехово-Борисово Южное\\\\\",\\\\\"id\\\\\":5667,\\\\\"order\\\\\":73}}],\\\\\"id\\\\\":10954,\\\\\"tr_id\\\\\":5580,\\\\\"order\\\\\":73},{\\\\\"Собянин_2018\\\\\":\\\\\"61.52\\\\\",\\\\\"Путин_2016\\\\\":\\\\\"67.03\\\\\",\\\\\"Собянин_2013\\\\\":\\\\\"43.89\\\\\",\\\\\"Район\\\\\":[{\\\\\"i\\\\\":0,\\\\\"trId\\\\\":\\\\\"5668\\\\\",\\\\\"field\\\\\":false,\\\\\"__link__\\\\\":false,\\\\\"data\\\\\":{\\\\\"Район\\\\\":\\\\\"Останкинский\\\\\",\\\\\"key_id\\\\\":\\\\\"Останкинский\\\\\",\\\\\"id\\\\\":5668,\\\\\"order\\\\\":74}}],\\\\\"id\\\\\":10955,\\\\\"tr_id\\\\\":5580,\\\\\"order\\\\\":74},{\\\\\"Собянин_2018\\\\\":\\\\\"69.60\\\\\",\\\\\"Путин_2016\\\\\":\\\\\"72.48\\\\\",\\\\\"Собянин_2013\\\\\":\\\\\"51.76\\\\\",\\\\\"Район\\\\\":[{\\\\\"i\\\\\":0,\\\\\"trId\\\\\":\\\\\"5669\\\\\",\\\\\"field\\\\\":false,\\\\\"__link__\\\\\":false,\\\\\"data\\\\\":{\\\\\"Район\\\\\":\\\\\"Отрадное\\\\\",\\\\\"key_id\\\\\":\\\\\"Отрадное\\\\\",\\\\\"id\\\\\":5669,\\\\\"order\\\\\":75}}],\\\\\"id\\\\\":10956,\\\\\"tr_id\\\\\":5580,\\\\\"order\\\\\":75},{\\\\\"Собянин_2018\\\\\":\\\\\"71.85\\\\\",\\\\\"Путин_2016\\\\\":\\\\\"70.9\\\\\",\\\\\"Собянин_2013\\\\\":\\\\\"53.85\\\\\",\\\\\"Район\\\\\":[{\\\\\"i\\\\\":0,\\\\\"trId\\\\\":\\\\\"5670\\\\\",\\\\\"field\\\\\":false,\\\\\"__link__\\\\\":false,\\\\\"data\\\\\":{\\\\\"Район\\\\\":\\\\\"Очаково-Матвеевское\\\\\",\\\\\"key_id\\\\\":\\\\\"Очаково-Матвеевское\\\\\",\\\\\"id\\\\\":5670,\\\\\"order\\\\\":76}}],\\\\\"id\\\\\":10957,\\\\\"tr_id\\\\\":5580,\\\\\"order\\\\\":76},{\\\\\"Собянин_2018\\\\\":\\\\\"67.63\\\\\",\\\\\"Путин_2016\\\\\":\\\\\"71.02\\\\\",\\\\\"Собянин_2013\\\\\":\\\\\"50.36\\\\\",\\\\\"Район\\\\\":[{\\\\\"i\\\\\":0,\\\\\"trId\\\\\":\\\\\"5671\\\\\",\\\\\"field\\\\\":false,\\\\\"__link__\\\\\":false,\\\\\"data\\\\\":{\\\\\"Район\\\\\":\\\\\"Перово\\\\\",\\\\\"key_id\\\\\":\\\\\"Перово\\\\\",\\\\\"id\\\\\":5671,\\\\\"order\\\\\":77}}],\\\\\"id\\\\\":10958,\\\\\"tr_id\\\\\":5580,\\\\\"order\\\\\":77},{\\\\\"Собянин_2018\\\\\":\\\\\"70.89\\\\\",\\\\\"Путин_2016\\\\\":\\\\\"72.28\\\\\",\\\\\"Собянин_2013\\\\\":\\\\\"56.31\\\\\",\\\\\"Район\\\\\":[{\\\\\"i\\\\\":0,\\\\\"trId\\\\\":\\\\\"5672\\\\\",\\\\\"field\\\\\":false,\\\\\"__link__\\\\\":false,\\\\\"data\\\\\":{\\\\\"Район\\\\\":\\\\\"Печатники\\\\\",\\\\\"key_id\\\\\":\\\\\"Печатники\\\\\",\\\\\"id\\\\\":5672,\\\\\"order\\\\\":78}}],\\\\\"id\\\\\":10959,\\\\\"tr_id\\\\\":5580,\\\\\"order\\\\\":78},{\\\\\"Собянин_2018\\\\\":\\\\\"68.17\\\\\",\\\\\"Путин_2016\\\\\":\\\\\"70.74\\\\\",\\\\\"Собянин_2013\\\\\":\\\\\"49.94\\\\\",\\\\\"Район\\\\\":[{\\\\\"i\\\\\":0,\\\\\"trId\\\\\":\\\\\"5673\\\\\",\\\\\"field\\\\\":false,\\\\\"__link__\\\\\":false,\\\\\"data\\\\\":{\\\\\"Район\\\\\":\\\\\"Покровское-Стрешнево\\\\\",\\\\\"key_id\\\\\":\\\\\"Покровское-Стрешнево\\\\\",\\\\\"id\\\\\":5673,\\\\\"order\\\\\":79}}],\\\\\"id\\\\\":10960,\\\\\"tr_id\\\\\":5580,\\\\\"order\\\\\":79},{\\\\\"Собянин_2018\\\\\":\\\\\"66.75\\\\\",\\\\\"Путин_2016\\\\\":\\\\\"68.13\\\\\",\\\\\"Собянин_2013\\\\\":\\\\\"47.43\\\\\",\\\\\"Район\\\\\":[{\\\\\"i\\\\\":0,\\\\\"trId\\\\\":\\\\\"5674\\\\\",\\\\\"field\\\\\":false,\\\\\"__link__\\\\\":false,\\\\\"data\\\\\":{\\\\\"Район\\\\\":\\\\\"Преображенское\\\\\",\\\\\"key_id\\\\\":\\\\\"Преображенское\\\\\",\\\\\"id\\\\\":5674,\\\\\"order\\\\\":80}}],\\\\\"id\\\\\":10961,\\\\\"tr_id\\\\\":5580,\\\\\"order\\\\\":80},{\\\\\"Собянин_2018\\\\\":\\\\\"64.55\\\\\",\\\\\"Путин_2016\\\\\":\\\\\"67.08\\\\\",\\\\\"Собянин_2013\\\\\":\\\\\"44.11\\\\\",\\\\\"Район\\\\\":[{\\\\\"i\\\\\":0,\\\\\"trId\\\\\":\\\\\"5675\\\\\",\\\\\"field\\\\\":false,\\\\\"__link__\\\\\":false,\\\\\"data\\\\\":{\\\\\"Район\\\\\":\\\\\"Пресненский\\\\\",\\\\\"key_id\\\\\":\\\\\"Пресненский\\\\\",\\\\\"id\\\\\":5675,\\\\\"order\\\\\":81}}],\\\\\"id\\\\\":10962,\\\\\"tr_id\\\\\":5580,\\\\\"order\\\\\":81},{\\\\\"Собянин_2018\\\\\":\\\\\"71.52\\\\\",\\\\\"Путин_2016\\\\\":\\\\\"68.09\\\\\",\\\\\"Собянин_2013\\\\\":\\\\\"46.7\\\\\",\\\\\"Район\\\\\":[{\\\\\"i\\\\\":0,\\\\\"trId\\\\\":\\\\\"5676\\\\\",\\\\\"field\\\\\":false,\\\\\"__link__\\\\\":false,\\\\\"data\\\\\":{\\\\\"Район\\\\\":\\\\\"Проспект Вернадского\\\\\",\\\\\"key_id\\\\\":\\\\\"Проспект Вернадского\\\\\",\\\\\"id\\\\\":5676,\\\\\"order\\\\\":82}}],\\\\\"id\\\\\":10963,\\\\\"tr_id\\\\\":5580,\\\\\"order\\\\\":82},{\\\\\"Собянин_2018\\\\\":\\\\\"70.05\\\\\",\\\\\"Путин_2016\\\\\":\\\\\"67.65\\\\\",\\\\\"Собянин_2013\\\\\":\\\\\"46.96\\\\\",\\\\\"Район\\\\\":[{\\\\\"i\\\\\":0,\\\\\"trId\\\\\":\\\\\"5677\\\\\",\\\\\"field\\\\\":false,\\\\\"__link__\\\\\":false,\\\\\"data\\\\\":{\\\\\"Район\\\\\":\\\\\"Раменки\\\\\",\\\\\"key_id\\\\\":\\\\\"Раменки\\\\\",\\\\\"id\\\\\":5677,\\\\\"order\\\\\":83}}],\\\\\"id\\\\\":10964,\\\\\"tr_id\\\\\":5580,\\\\\"order\\\\\":83},{\\\\\"Собянин_2018\\\\\":\\\\\"65.72\\\\\",\\\\\"Путин_2016\\\\\":\\\\\"69.31\\\\\",\\\\\"Собянин_2013\\\\\":\\\\\"49.41\\\\\",\\\\\"Район\\\\\":[{\\\\\"i\\\\\":0,\\\\\"trId\\\\\":\\\\\"5678\\\\\",\\\\\"field\\\\\":false,\\\\\"__link__\\\\\":false,\\\\\"data\\\\\":{\\\\\"Район\\\\\":\\\\\"Ростокино\\\\\",\\\\\"key_id\\\\\":\\\\\"Ростокино\\\\\",\\\\\"id\\\\\":5678,\\\\\"order\\\\\":84}}],\\\\\"id\\\\\":10965,\\\\\"tr_id\\\\\":5580,\\\\\"order\\\\\":84},{\\\\\"Собянин_2018\\\\\":\\\\\"72.40\\\\\",\\\\\"Путин_2016\\\\\":\\\\\"71.87\\\\\",\\\\\"Собянин_2013\\\\\":\\\\\"54.95\\\\\",\\\\\"Район\\\\\":[{\\\\\"i\\\\\":0,\\\\\"trId\\\\\":\\\\\"5679\\\\\",\\\\\"field\\\\\":false,\\\\\"__link__\\\\\":false,\\\\\"data\\\\\":{\\\\\"Район\\\\\":\\\\\"Рязанский\\\\\",\\\\\"key_id\\\\\":\\\\\"Рязанский\\\\\",\\\\\"id\\\\\":5679,\\\\\"order\\\\\":85}}],\\\\\"id\\\\\":10966,\\\\\"tr_id\\\\\":5580,\\\\\"order\\\\\":85},{\\\\\"Собянин_2018\\\\\":\\\\\"74.72\\\\\",\\\\\"Путин_2016\\\\\":\\\\\"73.43\\\\\",\\\\\"Собянин_2013\\\\\":\\\\\"53.64\\\\\",\\\\\"Район\\\\\":[{\\\\\"i\\\\\":0,\\\\\"trId\\\\\":\\\\\"5680\\\\\",\\\\\"field\\\\\":false,\\\\\"__link__\\\\\":false,\\\\\"data\\\\\":{\\\\\"Район\\\\\":\\\\\"Савелки\\\\\",\\\\\"key_id\\\\\":\\\\\"Савелки\\\\\",\\\\\"id\\\\\":5680,\\\\\"order\\\\\":86}}],\\\\\"id\\\\\":10967,\\\\\"tr_id\\\\\":5580,\\\\\"order\\\\\":86},{\\\\\"Собянин_2018\\\\\":\\\\\"64.39\\\\\",\\\\\"Путин_2016\\\\\":\\\\\"67.76\\\\\",\\\\\"Собянин_2013\\\\\":\\\\\"47.63\\\\\",\\\\\"Район\\\\\":[{\\\\\"i\\\\\":0,\\\\\"trId\\\\\":\\\\\"5681\\\\\",\\\\\"field\\\\\":false,\\\\\"__link__\\\\\":false,\\\\\"data\\\\\":{\\\\\"Район\\\\\":\\\\\"Савеловский\\\\\",\\\\\"key_id\\\\\":\\\\\"Савеловский\\\\\",\\\\\"id\\\\\":5681,\\\\\"order\\\\\":87}}],\\\\\"id\\\\\":10968,\\\\\"tr_id\\\\\":5580,\\\\\"order\\\\\":87},{\\\\\"Собянин_2018\\\\\":\\\\\"63.45\\\\\",\\\\\"Путин_2016\\\\\":\\\\\"68.94\\\\\",\\\\\"Собянин_2013\\\\\":\\\\\"46.06\\\\\",\\\\\"Район\\\\\":[{\\\\\"i\\\\\":0,\\\\\"trId\\\\\":\\\\\"5682\\\\\",\\\\\"field\\\\\":false,\\\\\"__link__\\\\\":false,\\\\\"data\\\\\":{\\\\\"Район\\\\\":\\\\\"Свиблово\\\\\",\\\\\"key_id\\\\\":\\\\\"Свиблово\\\\\",\\\\\"id\\\\\":5682,\\\\\"order\\\\\":88}}],\\\\\"id\\\\\":10969,\\\\\"tr_id\\\\\":5580,\\\\\"order\\\\\":88},{\\\\\"Собянин_2018\\\\\":\\\\\"73.96\\\\\",\\\\\"Путин_2016\\\\\":\\\\\"72.02\\\\\",\\\\\"Собянин_2013\\\\\":\\\\\"55.13\\\\\",\\\\\"Район\\\\\":[{\\\\\"i\\\\\":0,\\\\\"trId\\\\\":\\\\\"5683\\\\\",\\\\\"field\\\\\":false,\\\\\"__link__\\\\\":false,\\\\\"data\\\\\":{\\\\\"Район\\\\\":\\\\\"Северное Бутово\\\\\",\\\\\"key_id\\\\\":\\\\\"Северное Бутово\\\\\",\\\\\"id\\\\\":5683,\\\\\"order\\\\\":89}}],\\\\\"id\\\\\":10970,\\\\\"tr_id\\\\\":5580,\\\\\"order\\\\\":89},{\\\\\"Собянин_2018\\\\\":\\\\\"67.62\\\\\",\\\\\"Путин_2016\\\\\":\\\\\"71.07\\\\\",\\\\\"Собянин_2013\\\\\":\\\\\"47.54\\\\\",\\\\\"Район\\\\\":[{\\\\\"i\\\\\":0,\\\\\"trId\\\\\":\\\\\"5684\\\\\",\\\\\"field\\\\\":false,\\\\\"__link__\\\\\":false,\\\\\"data\\\\\":{\\\\\"Район\\\\\":\\\\\"Северное Измайлово\\\\\",\\\\\"key_id\\\\\":\\\\\"Северное Измайлово\\\\\",\\\\\"id\\\\\":5684,\\\\\"order\\\\\":90}}],\\\\\"id\\\\\":10971,\\\\\"tr_id\\\\\":5580,\\\\\"order\\\\\":90},{\\\\\"Собянин_2018\\\\\":\\\\\"66.85\\\\\",\\\\\"Путин_2016\\\\\":\\\\\"71.62\\\\\",\\\\\"Собянин_2013\\\\\":\\\\\"52.01\\\\\",\\\\\"Район\\\\\":[{\\\\\"i\\\\\":0,\\\\\"trId\\\\\":\\\\\"5685\\\\\",\\\\\"field\\\\\":false,\\\\\"__link__\\\\\":false,\\\\\"data\\\\\":{\\\\\"Район\\\\\":\\\\\"Северное Медведково\\\\\",\\\\\"key_id\\\\\":\\\\\"Северное Медведково\\\\\",\\\\\"id\\\\\":5685,\\\\\"order\\\\\":91}}],\\\\\"id\\\\\":10972,\\\\\"tr_id\\\\\":5580,\\\\\"order\\\\\":91},{\\\\\"Собянин_2018\\\\\":\\\\\"68.96\\\\\",\\\\\"Путин_2016\\\\\":\\\\\"71.77\\\\\",\\\\\"Собянин_2013\\\\\":\\\\\"49.86\\\\\",\\\\\"Район\\\\\":[{\\\\\"i\\\\\":0,\\\\\"trId\\\\\":\\\\\"5686\\\\\",\\\\\"field\\\\\":false,\\\\\"__link__\\\\\":false,\\\\\"data\\\\\":{\\\\\"Район\\\\\":\\\\\"Северное Тушино\\\\\",\\\\\"key_id\\\\\":\\\\\"Северное Тушино\\\\\",\\\\\"id\\\\\":5686,\\\\\"order\\\\\":92}}],\\\\\"id\\\\\":10973,\\\\\"tr_id\\\\\":5580,\\\\\"order\\\\\":92},{\\\\\"Собянин_2018\\\\\":\\\\\"73.57\\\\\",\\\\\"Путин_2016\\\\\":\\\\\"72.35\\\\\",\\\\\"Собянин_2013\\\\\":\\\\\"59.61\\\\\",\\\\\"Район\\\\\":[{\\\\\"i\\\\\":0,\\\\\"trId\\\\\":\\\\\"5687\\\\\",\\\\\"field\\\\\":false,\\\\\"__link__\\\\\":false,\\\\\"data\\\\\":{\\\\\"Район\\\\\":\\\\\"Северный\\\\\",\\\\\"key_id\\\\\":\\\\\"Северный\\\\\",\\\\\"id\\\\\":5687,\\\\\"order\\\\\":93}}],\\\\\"id\\\\\":10974,\\\\\"tr_id\\\\\":5580,\\\\\"order\\\\\":93},{\\\\\"Собянин_2018\\\\\":\\\\\"76.45\\\\\",\\\\\"Путин_2016\\\\\":\\\\\"74.24\\\\\",\\\\\"Собянин_2013\\\\\":\\\\\"50.69\\\\\",\\\\\"Район\\\\\":[{\\\\\"i\\\\\":0,\\\\\"trId\\\\\":\\\\\"5688\\\\\",\\\\\"field\\\\\":false,\\\\\"__link__\\\\\":false,\\\\\"data\\\\\":{\\\\\"Район\\\\\":\\\\\"Силино\\\\\",\\\\\"key_id\\\\\":\\\\\"Силино\\\\\",\\\\\"id\\\\\":5688,\\\\\"order\\\\\":94}}],\\\\\"id\\\\\":10975,\\\\\"tr_id\\\\\":5580,\\\\\"order\\\\\":94},{\\\\\"Собянин_2018\\\\\":\\\\\"64.07\\\\\",\\\\\"Путин_2016\\\\\":\\\\\"63.51\\\\\",\\\\\"Собянин_2013\\\\\":\\\\\"39.32\\\\\",\\\\\"Район\\\\\":[{\\\\\"i\\\\\":0,\\\\\"trId\\\\\":\\\\\"5689\\\\\",\\\\\"field\\\\\":false,\\\\\"__link__\\\\\":false,\\\\\"data\\\\\":{\\\\\"Район\\\\\":\\\\\"Сокол\\\\\",\\\\\"key_id\\\\\":\\\\\"Сокол\\\\\",\\\\\"id\\\\\":5689,\\\\\"order\\\\\":95}}],\\\\\"id\\\\\":10976,\\\\\"tr_id\\\\\":5580,\\\\\"order\\\\\":95},{\\\\\"Собянин_2018\\\\\":\\\\\"64.70\\\\\",\\\\\"Путин_2016\\\\\":\\\\\"69.4\\\\\",\\\\\"Собянин_2013\\\\\":\\\\\"48.66\\\\\",\\\\\"Район\\\\\":[{\\\\\"i\\\\\":0,\\\\\"trId\\\\\":\\\\\"5690\\\\\",\\\\\"field\\\\\":false,\\\\\"__link__\\\\\":false,\\\\\"data\\\\\":{\\\\\"Район\\\\\":\\\\\"Соколиная Гора\\\\\",\\\\\"key_id\\\\\":\\\\\"Соколиная Гора\\\\\",\\\\\"id\\\\\":5690,\\\\\"order\\\\\":96}}],\\\\\"id\\\\\":10977,\\\\\"tr_id\\\\\":5580,\\\\\"order\\\\\":96},{\\\\\"Собянин_2018\\\\\":\\\\\"62.42\\\\\",\\\\\"Путин_2016\\\\\":\\\\\"65.94\\\\\",\\\\\"Собянин_2013\\\\\":\\\\\"44.06\\\\\",\\\\\"Район\\\\\":[{\\\\\"i\\\\\":0,\\\\\"trId\\\\\":\\\\\"5691\\\\\",\\\\\"field\\\\\":false,\\\\\"__link__\\\\\":false,\\\\\"data\\\\\":{\\\\\"Район\\\\\":\\\\\"Сокольники\\\\\",\\\\\"key_id\\\\\":\\\\\"Сокольники\\\\\",\\\\\"id\\\\\":5691,\\\\\"order\\\\\":97}}],\\\\\"id\\\\\":10978,\\\\\"tr_id\\\\\":5580,\\\\\"order\\\\\":97},{\\\\\"Собянин_2018\\\\\":\\\\\"77.84\\\\\",\\\\\"Путин_2016\\\\\":\\\\\"74.35\\\\\",\\\\\"Собянин_2013\\\\\":\\\\\"61.36\\\\\",\\\\\"Район\\\\\":[{\\\\\"i\\\\\":0,\\\\\"trId\\\\\":\\\\\"5692\\\\\",\\\\\"field\\\\\":false,\\\\\"__link__\\\\\":false,\\\\\"data\\\\\":{\\\\\"Район\\\\\":\\\\\"Солнцево\\\\\",\\\\\"key_id\\\\\":\\\\\"Солнцево\\\\\",\\\\\"id\\\\\":5692,\\\\\"order\\\\\":98}}],\\\\\"id\\\\\":10979,\\\\\"tr_id\\\\\":5580,\\\\\"order\\\\\":98},{\\\\\"Собянин_2018\\\\\":\\\\\"78.51\\\\\",\\\\\"Путин_2016\\\\\":\\\\\"73.44\\\\\",\\\\\"Собянин_2013\\\\\":\\\\\"н/д\\\\\",\\\\\"Район\\\\\":[{\\\\\"i\\\\\":0,\\\\\"trId\\\\\":\\\\\"5693\\\\\",\\\\\"field\\\\\":false,\\\\\"__link__\\\\\":false,\\\\\"data\\\\\":{\\\\\"Район\\\\\":\\\\\"Сосенское\\\\\",\\\\\"key_id\\\\\":\\\\\"Сосенское\\\\\",\\\\\"id\\\\\":5693,\\\\\"order\\\\\":99}}],\\\\\"id\\\\\":10980,\\\\\"tr_id\\\\\":5580,\\\\\"order\\\\\":99},{\\\\\"Собянин_2018\\\\\":\\\\\"74.99\\\\\",\\\\\"Путин_2016\\\\\":\\\\\"75.22\\\\\",\\\\\"Собянин_2013\\\\\":\\\\\"54.49\\\\\",\\\\\"Район\\\\\":[{\\\\\"i\\\\\":0,\\\\\"trId\\\\\":\\\\\"5694\\\\\",\\\\\"field\\\\\":false,\\\\\"__link__\\\\\":false,\\\\\"data\\\\\":{\\\\\"Район\\\\\":\\\\\"Старое Крюково\\\\\",\\\\\"key_id\\\\\":\\\\\"Старое Крюково\\\\\",\\\\\"id\\\\\":5694,\\\\\"order\\\\\":100}}],\\\\\"id\\\\\":10981,\\\\\"tr_id\\\\\":5580,\\\\\"order\\\\\":100},{\\\\\"Собянин_2018\\\\\":\\\\\"69.77\\\\\",\\\\\"Путин_2016\\\\\":\\\\\"72.1\\\\\",\\\\\"Собянин_2013\\\\\":\\\\\"47.73\\\\\",\\\\\"Район\\\\\":[{\\\\\"i\\\\\":0,\\\\\"trId\\\\\":\\\\\"5695\\\\\",\\\\\"field\\\\\":false,\\\\\"__link__\\\\\":false,\\\\\"data\\\\\":{\\\\\"Район\\\\\":\\\\\"Строгино\\\\\",\\\\\"key_id\\\\\":\\\\\"Строгино\\\\\",\\\\\"id\\\\\":5695,\\\\\"order\\\\\":101}}],\\\\\"id\\\\\":10982,\\\\\"tr_id\\\\\":5580,\\\\\"order\\\\\":101},{\\\\\"Собянин_2018\\\\\":\\\\\"60.55\\\\\",\\\\\"Путин_2016\\\\\":\\\\\"68.22\\\\\",\\\\\"Собянин_2013\\\\\":\\\\\"46.64\\\\\",\\\\\"Район\\\\\":[{\\\\\"i\\\\\":0,\\\\\"trId\\\\\":\\\\\"5696\\\\\",\\\\\"field\\\\\":false,\\\\\"__link__\\\\\":false,\\\\\"data\\\\\":{\\\\\"Район\\\\\":\\\\\"Таганский\\\\\",\\\\\"key_id\\\\\":\\\\\"Таганский\\\\\",\\\\\"id\\\\\":5696,\\\\\"order\\\\\":102}}],\\\\\"id\\\\\":10983,\\\\\"tr_id\\\\\":5580,\\\\\"order\\\\\":102},{\\\\\"Собянин_2018\\\\\":\\\\\"65.23\\\\\",\\\\\"Путин_2016\\\\\":\\\\\"63.64\\\\\",\\\\\"Собянин_2013\\\\\":\\\\\"41.54\\\\\",\\\\\"Район\\\\\":[{\\\\\"i\\\\\":0,\\\\\"trId\\\\\":\\\\\"5697\\\\\",\\\\\"field\\\\\":false,\\\\\"__link__\\\\\":false,\\\\\"data\\\\\":{\\\\\"Район\\\\\":\\\\\"Тверской\\\\\",\\\\\"key_id\\\\\":\\\\\"Тверской\\\\\",\\\\\"id\\\\\":5697,\\\\\"order\\\\\":103}}],\\\\\"id\\\\\":10984,\\\\\"tr_id\\\\\":5580,\\\\\"order\\\\\":103},{\\\\\"Собянин_2018\\\\\":\\\\\"71.99\\\\\",\\\\\"Путин_2016\\\\\":\\\\\"72.38\\\\\",\\\\\"Собянин_2013\\\\\":\\\\\"55.72\\\\\",\\\\\"Район\\\\\":[{\\\\\"i\\\\\":0,\\\\\"trId\\\\\":\\\\\"5698\\\\\",\\\\\"field\\\\\":false,\\\\\"__link__\\\\\":false,\\\\\"data\\\\\":{\\\\\"Район\\\\\":\\\\\"Текстильщики\\\\\",\\\\\"key_id\\\\\":\\\\\"Текстильщики\\\\\",\\\\\"id\\\\\":5698,\\\\\"order\\\\\":104}}],\\\\\"id\\\\\":10985,\\\\\"tr_id\\\\\":5580,\\\\\"order\\\\\":104},{\\\\\"Собянин_2018\\\\\":\\\\\"71.36\\\\\",\\\\\"Путин_2016\\\\\":\\\\\"70.13\\\\\",\\\\\"Собянин_2013\\\\\":\\\\\"50.73\\\\\",\\\\\"Район\\\\\":[{\\\\\"i\\\\\":0,\\\\\"trId\\\\\":\\\\\"5699\\\\\",\\\\\"field\\\\\":false,\\\\\"__link__\\\\\":false,\\\\\"data\\\\\":{\\\\\"Район\\\\\":\\\\\"Теплый Стан\\\\\",\\\\\"key_id\\\\\":\\\\\"Теплый Стан\\\\\",\\\\\"id\\\\\":5699,\\\\\"order\\\\\":105}}],\\\\\"id\\\\\":10986,\\\\\"tr_id\\\\\":5580,\\\\\"order\\\\\":105},{\\\\\"Собянин_2018\\\\\":\\\\\"61.18\\\\\",\\\\\"Путин_2016\\\\\":\\\\\"66.84\\\\\",\\\\\"Собянин_2013\\\\\":\\\\\"45.7\\\\\",\\\\\"Район\\\\\":[{\\\\\"i\\\\\":0,\\\\\"trId\\\\\":\\\\\"5700\\\\\",\\\\\"field\\\\\":false,\\\\\"__link__\\\\\":false,\\\\\"data\\\\\":{\\\\\"Район\\\\\":\\\\\"Тимирязевский\\\\\",\\\\\"key_id\\\\\":\\\\\"Тимирязевский\\\\\",\\\\\"id\\\\\":5700,\\\\\"order\\\\\":106}}],\\\\\"id\\\\\":10987,\\\\\"tr_id\\\\\":5580,\\\\\"order\\\\\":106},{\\\\\"Собянин_2018\\\\\":\\\\\"70.63\\\\\",\\\\\"Путин_2016\\\\\":\\\\\"66.56\\\\\",\\\\\"Собянин_2013\\\\\":\\\\\"44.95\\\\\",\\\\\"Район\\\\\":[{\\\\\"i\\\\\":0,\\\\\"trId\\\\\":\\\\\"5701\\\\\",\\\\\"field\\\\\":false,\\\\\"__link__\\\\\":false,\\\\\"data\\\\\":{\\\\\"Район\\\\\":\\\\\"Тропарево-Никулино\\\\\",\\\\\"key_id\\\\\":\\\\\"Тропарево-Никулино\\\\\",\\\\\"id\\\\\":5701,\\\\\"order\\\\\":107}}],\\\\\"id\\\\\":10988,\\\\\"tr_id\\\\\":5580,\\\\\"order\\\\\":107},{\\\\\"Собянин_2018\\\\\":\\\\\"67.54\\\\\",\\\\\"Путин_2016\\\\\":\\\\\"68.74\\\\\",\\\\\"Собянин_2013\\\\\":\\\\\"48.49\\\\\",\\\\\"Район\\\\\":[{\\\\\"i\\\\\":0,\\\\\"trId\\\\\":\\\\\"5702\\\\\",\\\\\"field\\\\\":false,\\\\\"__link__\\\\\":false,\\\\\"data\\\\\":{\\\\\"Район\\\\\":\\\\\"Филевский парк\\\\\",\\\\\"key_id\\\\\":\\\\\"Филевский Парк\\\\\",\\\\\"id\\\\\":5702,\\\\\"order\\\\\":108}}],\\\\\"id\\\\\":10989,\\\\\"tr_id\\\\\":5580,\\\\\"order\\\\\":108},{\\\\\"Собянин_2018\\\\\":\\\\\"67.13\\\\\",\\\\\"Путин_2016\\\\\":\\\\\"68.59\\\\\",\\\\\"Собянин_2013\\\\\":\\\\\"48.19\\\\\",\\\\\"Район\\\\\":[{\\\\\"i\\\\\":0,\\\\\"trId\\\\\":\\\\\"5703\\\\\",\\\\\"field\\\\\":false,\\\\\"__link__\\\\\":false,\\\\\"data\\\\\":{\\\\\"Район\\\\\":\\\\\"Фили-Давыдково\\\\\",\\\\\"key_id\\\\\":\\\\\"Фили-Давыдково\\\\\",\\\\\"id\\\\\":5703,\\\\\"order\\\\\":109}}],\\\\\"id\\\\\":10990,\\\\\"tr_id\\\\\":5580,\\\\\"order\\\\\":109},{\\\\\"Собянин_2018\\\\\":\\\\\"65.54\\\\\",\\\\\"Путин_2016\\\\\":\\\\\"64.87\\\\\",\\\\\"Собянин_2013\\\\\":\\\\\"41.51\\\\\",\\\\\"Район\\\\\":[{\\\\\"i\\\\\":0,\\\\\"trId\\\\\":\\\\\"5704\\\\\",\\\\\"field\\\\\":false,\\\\\"__link__\\\\\":false,\\\\\"data\\\\\":{\\\\\"Район\\\\\":\\\\\"Хамовники\\\\\",\\\\\"key_id\\\\\":\\\\\"Хамовники\\\\\",\\\\\"id\\\\\":5704,\\\\\"order\\\\\":110}}],\\\\\"id\\\\\":10991,\\\\\"tr_id\\\\\":5580,\\\\\"order\\\\\":110},{\\\\\"Собянин_2018\\\\\":\\\\\"68.36\\\\\",\\\\\"Путин_2016\\\\\":\\\\\"69.63\\\\\",\\\\\"Собянин_2013\\\\\":\\\\\"46.67\\\\\",\\\\\"Район\\\\\":[{\\\\\"i\\\\\":0,\\\\\"trId\\\\\":\\\\\"5705\\\\\",\\\\\"field\\\\\":false,\\\\\"__link__\\\\\":false,\\\\\"data\\\\\":{\\\\\"Район\\\\\":\\\\\"Ховрино\\\\\",\\\\\"key_id\\\\\":\\\\\"Ховрино\\\\\",\\\\\"id\\\\\":5705,\\\\\"order\\\\\":111}}],\\\\\"id\\\\\":10992,\\\\\"tr_id\\\\\":5580,\\\\\"order\\\\\":111},{\\\\\"Собянин_2018\\\\\":\\\\\"67.27\\\\\",\\\\\"Путин_2016\\\\\":\\\\\"70.31\\\\\",\\\\\"Собянин_2013\\\\\":\\\\\"46.99\\\\\",\\\\\"Район\\\\\":[{\\\\\"i\\\\\":0,\\\\\"trId\\\\\":\\\\\"5706\\\\\",\\\\\"field\\\\\":false,\\\\\"__link__\\\\\":false,\\\\\"data\\\\\":{\\\\\"Район\\\\\":\\\\\"Хорошево-Мневники\\\\\",\\\\\"key_id\\\\\":\\\\\"Хорошево-Мневники\\\\\",\\\\\"id\\\\\":5706,\\\\\"order\\\\\":112}}],\\\\\"id\\\\\":10993,\\\\\"tr_id\\\\\":5580,\\\\\"order\\\\\":112},{\\\\\"Собянин_2018\\\\\":\\\\\"68.96\\\\\",\\\\\"Путин_2016\\\\\":\\\\\"67.1\\\\\",\\\\\"Собянин_2013\\\\\":\\\\\"43.95\\\\\",\\\\\"Район\\\\\":[{\\\\\"i\\\\\":0,\\\\\"trId\\\\\":\\\\\"5707\\\\\",\\\\\"field\\\\\":false,\\\\\"__link__\\\\\":false,\\\\\"data\\\\\":{\\\\\"Район\\\\\":\\\\\"Хорошевский\\\\\",\\\\\"key_id\\\\\":\\\\\"Хорошевский\\\\\",\\\\\"id\\\\\":5707,\\\\\"order\\\\\":113}}],\\\\\"id\\\\\":10994,\\\\\"tr_id\\\\\":5580,\\\\\"order\\\\\":113},{\\\\\"Собянин_2018\\\\\":\\\\\"71.70\\\\\",\\\\\"Путин_2016\\\\\":\\\\\"71.81\\\\\",\\\\\"Собянин_2013\\\\\":\\\\\"54.04\\\\\",\\\\\"Район\\\\\":[{\\\\\"i\\\\\":0,\\\\\"trId\\\\\":\\\\\"5708\\\\\",\\\\\"field\\\\\":false,\\\\\"__link__\\\\\":false,\\\\\"data\\\\\":{\\\\\"Район\\\\\":\\\\\"Царицыно\\\\\",\\\\\"key_id\\\\\":\\\\\"Царицыно\\\\\",\\\\\"id\\\\\":5708,\\\\\"order\\\\\":114}}],\\\\\"id\\\\\":10995,\\\\\"tr_id\\\\\":5580,\\\\\"order\\\\\":114},{\\\\\"Собянин_2018\\\\\":\\\\\"71.10\\\\\",\\\\\"Путин_2016\\\\\":\\\\\"68.25\\\\\",\\\\\"Собянин_2013\\\\\":\\\\\"46.83\\\\\",\\\\\"Район\\\\\":[{\\\\\"i\\\\\":0,\\\\\"trId\\\\\":\\\\\"5709\\\\\",\\\\\"field\\\\\":false,\\\\\"__link__\\\\\":false,\\\\\"data\\\\\":{\\\\\"Район\\\\\":\\\\\"Черемушки\\\\\",\\\\\"key_id\\\\\":\\\\\"Черемушки\\\\\",\\\\\"id\\\\\":5709,\\\\\"order\\\\\":115}}],\\\\\"id\\\\\":10996,\\\\\"tr_id\\\\\":5580,\\\\\"order\\\\\":115},{\\\\\"Собянин_2018\\\\\":\\\\\"71.23\\\\\",\\\\\"Путин_2016\\\\\":\\\\\"71.57\\\\\",\\\\\"Собянин_2013\\\\\":\\\\\"50.61\\\\\",\\\\\"Район\\\\\":[{\\\\\"i\\\\\":0,\\\\\"trId\\\\\":\\\\\"5710\\\\\",\\\\\"field\\\\\":false,\\\\\"__link__\\\\\":false,\\\\\"data\\\\\":{\\\\\"Район\\\\\":\\\\\"Чертаново Северное\\\\\",\\\\\"key_id\\\\\":\\\\\"Чертаново Северное\\\\\",\\\\\"id\\\\\":5710,\\\\\"order\\\\\":116}}],\\\\\"id\\\\\":10997,\\\\\"tr_id\\\\\":5580,\\\\\"order\\\\\":116},{\\\\\"Собянин_2018\\\\\":\\\\\"71.93\\\\\",\\\\\"Путин_2016\\\\\":\\\\\"72.72\\\\\",\\\\\"Собянин_2013\\\\\":\\\\\"53.33\\\\\",\\\\\"Район\\\\\":[{\\\\\"i\\\\\":0,\\\\\"trId\\\\\":\\\\\"5711\\\\\",\\\\\"field\\\\\":false,\\\\\"__link__\\\\\":false,\\\\\"data\\\\\":{\\\\\"Район\\\\\":\\\\\"Чертаново Центральное\\\\\",\\\\\"key_id\\\\\":\\\\\"Чертаново Центральное\\\\\",\\\\\"id\\\\\":5711,\\\\\"order\\\\\":117}}],\\\\\"id\\\\\":10998,\\\\\"tr_id\\\\\":5580,\\\\\"order\\\\\":117},{\\\\\"Собянин_2018\\\\\":\\\\\"73.12\\\\\",\\\\\"Путин_2016\\\\\":\\\\\"73.84\\\\\",\\\\\"Собянин_2013\\\\\":\\\\\"57.15\\\\\",\\\\\"Район\\\\\":[{\\\\\"i\\\\\":0,\\\\\"trId\\\\\":\\\\\"5712\\\\\",\\\\\"field\\\\\":false,\\\\\"__link__\\\\\":false,\\\\\"data\\\\\":{\\\\\"Район\\\\\":\\\\\"Чертаново Южное\\\\\",\\\\\"key_id\\\\\":\\\\\"Чертаново Южное\\\\\",\\\\\"id\\\\\":5712,\\\\\"order\\\\\":118}}],\\\\\"id\\\\\":10999,\\\\\"tr_id\\\\\":5580,\\\\\"order\\\\\":118},{\\\\\"Собянин_2018\\\\\":\\\\\"66.53\\\\\",\\\\\"Путин_2016\\\\\":\\\\\"68.68\\\\\",\\\\\"Собянин_2013\\\\\":\\\\\"45.01\\\\\",\\\\\"Район\\\\\":[{\\\\\"i\\\\\":0,\\\\\"trId\\\\\":\\\\\"5713\\\\\",\\\\\"field\\\\\":false,\\\\\"__link__\\\\\":false,\\\\\"data\\\\\":{\\\\\"Район\\\\\":\\\\\"Щукино\\\\\",\\\\\"key_id\\\\\":\\\\\"Щукино\\\\\",\\\\\"id\\\\\":5713,\\\\\"order\\\\\":119}}],\\\\\"id\\\\\":11000,\\\\\"tr_id\\\\\":5580,\\\\\"order\\\\\":119},{\\\\\"Собянин_2018\\\\\":\\\\\"73.63\\\\\",\\\\\"Путин_2016\\\\\":\\\\\"72.55\\\\\",\\\\\"Собянин_2013\\\\\":\\\\\"54.78\\\\\",\\\\\"Район\\\\\":[{\\\\\"i\\\\\":0,\\\\\"trId\\\\\":\\\\\"5714\\\\\",\\\\\"field\\\\\":false,\\\\\"__link__\\\\\":false,\\\\\"data\\\\\":{\\\\\"Район\\\\\":\\\\\"Южное Бутово\\\\\",\\\\\"key_id\\\\\":\\\\\"Южное Бутово\\\\\",\\\\\"id\\\\\":5714,\\\\\"order\\\\\":120}}],\\\\\"id\\\\\":11001,\\\\\"tr_id\\\\\":5580,\\\\\"order\\\\\":120},{\\\\\"Собянин_2018\\\\\":\\\\\"69.05\\\\\",\\\\\"Путин_2016\\\\\":\\\\\"71.37\\\\\",\\\\\"Собянин_2013\\\\\":\\\\\"52.21\\\\\",\\\\\"Район\\\\\":[{\\\\\"i\\\\\":0,\\\\\"trId\\\\\":\\\\\"5715\\\\\",\\\\\"field\\\\\":false,\\\\\"__link__\\\\\":false,\\\\\"data\\\\\":{\\\\\"Район\\\\\":\\\\\"Южное Медведково\\\\\",\\\\\"key_id\\\\\":\\\\\"Южное Медведково\\\\\",\\\\\"id\\\\\":5715,\\\\\"order\\\\\":121}}],\\\\\"id\\\\\":11002,\\\\\"tr_id\\\\\":5580,\\\\\"order\\\\\":121},{\\\\\"Собянин_2018\\\\\":\\\\\"67.26\\\\\",\\\\\"Путин_2016\\\\\":\\\\\"72.26\\\\\",\\\\\"Собянин_2013\\\\\":\\\\\"50.09\\\\\",\\\\\"Район\\\\\":[{\\\\\"i\\\\\":0,\\\\\"trId\\\\\":\\\\\"5716\\\\\",\\\\\"field\\\\\":false,\\\\\"__link__\\\\\":false,\\\\\"data\\\\\":{\\\\\"Район\\\\\":\\\\\"Южное Тушино\\\\\",\\\\\"key_id\\\\\":\\\\\"Южное Тушино\\\\\",\\\\\"id\\\\\":5716,\\\\\"order\\\\\":122}}],\\\\\"id\\\\\":11003,\\\\\"tr_id\\\\\":5580,\\\\\"order\\\\\":122},{\\\\\"Собянин_2018\\\\\":\\\\\"70.84\\\\\",\\\\\"Путин_2016\\\\\":\\\\\"71.29\\\\\",\\\\\"Собянин_2013\\\\\":\\\\\"53.4\\\\\",\\\\\"Район\\\\\":[{\\\\\"i\\\\\":0,\\\\\"trId\\\\\":\\\\\"5717\\\\\",\\\\\"field\\\\\":false,\\\\\"__link__\\\\\":false,\\\\\"data\\\\\":{\\\\\"Район\\\\\":\\\\\"Южнопортовый\\\\\",\\\\\"key_id\\\\\":\\\\\"Южнопортовый\\\\\",\\\\\"id\\\\\":5717,\\\\\"order\\\\\":123}}],\\\\\"id\\\\\":11004,\\\\\"tr_id\\\\\":5580,\\\\\"order\\\\\":123},{\\\\\"Собянин_2018\\\\\":\\\\\"67.83\\\\\",\\\\\"Путин_2016\\\\\":\\\\\"64.41\\\\\",\\\\\"Собянин_2013\\\\\":\\\\\"42.47\\\\\",\\\\\"Район\\\\\":[{\\\\\"i\\\\\":0,\\\\\"trId\\\\\":\\\\\"5718\\\\\",\\\\\"field\\\\\":false,\\\\\"__link__\\\\\":false,\\\\\"data\\\\\":{\\\\\"Район\\\\\":\\\\\"Якиманка\\\\\",\\\\\"key_id\\\\\":\\\\\"Якиманка\\\\\",\\\\\"id\\\\\":5718,\\\\\"order\\\\\":124}}],\\\\\"id\\\\\":11005,\\\\\"tr_id\\\\\":5580,\\\\\"order\\\\\":124},{\\\\\"Собянин_2018\\\\\":\\\\\"67.94\\\\\",\\\\\"Путин_2016\\\\\":\\\\\"71.98\\\\\",\\\\\"Собянин_2013\\\\\":\\\\\"55.79\\\\\",\\\\\"Район\\\\\":[{\\\\\"i\\\\\":0,\\\\\"trId\\\\\":\\\\\"5719\\\\\",\\\\\"field\\\\\":false,\\\\\"__link__\\\\\":false,\\\\\"data\\\\\":{\\\\\"Район\\\\\":\\\\\"Ярославский\\\\\",\\\\\"key_id\\\\\":\\\\\"Ярославский\\\\\",\\\\\"id\\\\\":5719,\\\\\"order\\\\\":125}}],\\\\\"id\\\\\":11006,\\\\\"tr_id\\\\\":5580,\\\\\"order\\\\\":125},{\\\\\"Собянин_2018\\\\\":\\\\\"71.01\\\\\",\\\\\"Путин_2016\\\\\":\\\\\"71.16\\\\\",\\\\\"Собянин_2013\\\\\":\\\\\"50.67\\\\\",\\\\\"Район\\\\\":[{\\\\\"i\\\\\":0,\\\\\"trId\\\\\":\\\\\"5720\\\\\",\\\\\"field\\\\\":false,\\\\\"__link__\\\\\":false,\\\\\"data\\\\\":{\\\\\"Район\\\\\":\\\\\"Ясенево\\\\\",\\\\\"key_id\\\\\":\\\\\"Ясенево\\\\\",\\\\\"id\\\\\":5720,\\\\\"order\\\\\":126}}],\\\\\"id\\\\\":11007,\\\\\"tr_id\\\\\":5580,\\\\\"order\\\\\":126},{\\\\\"Собянин_2018\\\\\":\\\\\"81.76\\\\\",\\\\\"Путин_2016\\\\\":\\\\\"73.58\\\\\",\\\\\"Собянин_2013\\\\\":\\\\\"69.48\\\\\",\\\\\"Район\\\\\":[{\\\\\"i\\\\\":0,\\\\\"trId\\\\\":\\\\\"5721\\\\\",\\\\\"field\\\\\":false,\\\\\"__link__\\\\\":false,\\\\\"data\\\\\":{\\\\\"Район\\\\\":\\\\\"Новомосковский административный округ\\\\\",\\\\\"key_id\\\\\":\\\\\"Внуковское\\\\\",\\\\\"id\\\\\":5721,\\\\\"order\\\\\":127}}],\\\\\"id\\\\\":11008,\\\\\"tr_id\\\\\":5580,\\\\\"order\\\\\":127},{\\\\\"Собянин_2018\\\\\":\\\\\"81.76\\\\\",\\\\\"Путин_2016\\\\\":\\\\\"73.58\\\\\",\\\\\"Собянин_2013\\\\\":\\\\\"69.48\\\\\",\\\\\"Район\\\\\":[{\\\\\"i\\\\\":0,\\\\\"trId\\\\\":\\\\\"5722\\\\\",\\\\\"field\\\\\":false,\\\\\"__link__\\\\\":false,\\\\\"data\\\\\":{\\\\\"Район\\\\\":\\\\\"Новомосковский административний округ\\\\\",\\\\\"key_id\\\\\":\\\\\"Воскресенское\\\\\",\\\\\"id\\\\\":5722,\\\\\"order\\\\\":128}}],\\\\\"id\\\\\":11009,\\\\\"tr_id\\\\\":5580,\\\\\"order\\\\\":128},{\\\\\"Собянин_2018\\\\\":\\\\\"81.76\\\\\",\\\\\"Путин_2016\\\\\":\\\\\"73.58\\\\\",\\\\\"Собянин_2013\\\\\":\\\\\"69.48\\\\\",\\\\\"Район\\\\\":[{\\\\\"i\\\\\":0,\\\\\"trId\\\\\":\\\\\"5723\\\\\",\\\\\"field\\\\\":false,\\\\\"__link__\\\\\":false,\\\\\"data\\\\\":{\\\\\"Район\\\\\":\\\\\"Новомосковский административный округ\\\\\",\\\\\"key_id\\\\\":\\\\\"Десеновское\\\\\",\\\\\"id\\\\\":5723,\\\\\"order\\\\\":129}}],\\\\\"id\\\\\":11010,\\\\\"tr_id\\\\\":5580,\\\\\"order\\\\\":129},{\\\\\"Собянин_2018\\\\\":\\\\\"81.76\\\\\",\\\\\"Путин_2016\\\\\":\\\\\"73.58\\\\\",\\\\\"Собянин_2013\\\\\":\\\\\"69.48\\\\\",\\\\\"Район\\\\\":[{\\\\\"i\\\\\":0,\\\\\"trId\\\\\":\\\\\"5724\\\\\",\\\\\"field\\\\\":false,\\\\\"__link__\\\\\":false,\\\\\"data\\\\\":{\\\\\"Район\\\\\":\\\\\"Новомосковский административный округ\\\\\",\\\\\"key_id\\\\\":\\\\\"Кокошкино\\\\\",\\\\\"id\\\\\":5724,\\\\\"order\\\\\":130}}],\\\\\"id\\\\\":11011,\\\\\"tr_id\\\\\":5580,\\\\\"order\\\\\":130},{\\\\\"Собянин_2018\\\\\":\\\\\"81.76\\\\\",\\\\\"Путин_2016\\\\\":\\\\\"73.58\\\\\",\\\\\"Собянин_2013\\\\\":\\\\\"69.48\\\\\",\\\\\"Район\\\\\":[{\\\\\"i\\\\\":0,\\\\\"trId\\\\\":\\\\\"5725\\\\\",\\\\\"field\\\\\":false,\\\\\"__link__\\\\\":false,\\\\\"data\\\\\":{\\\\\"Район\\\\\":\\\\\"Новомосковский административный округ\\\\\",\\\\\"key_id\\\\\":\\\\\"Марушкинское\\\\\",\\\\\"id\\\\\":5725,\\\\\"order\\\\\":131}}],\\\\\"id\\\\\":11012,\\\\\"tr_id\\\\\":5580,\\\\\"order\\\\\":131},{\\\\\"Собянин_2018\\\\\":\\\\\"81.76\\\\\",\\\\\"Путин_2016\\\\\":\\\\\"73.58\\\\\",\\\\\"Собянин_2013\\\\\":\\\\\"69.48\\\\\",\\\\\"Район\\\\\":[{\\\\\"i\\\\\":0,\\\\\"trId\\\\\":\\\\\"5726\\\\\",\\\\\"field\\\\\":false,\\\\\"__link__\\\\\":false,\\\\\"data\\\\\":{\\\\\"Район\\\\\":\\\\\"Новомосковский административный округ\\\\\",\\\\\"key_id\\\\\":\\\\\"Московский\\\\\",\\\\\"id\\\\\":5726,\\\\\"order\\\\\":132}}],\\\\\"id\\\\\":11013,\\\\\"tr_id\\\\\":5580,\\\\\"order\\\\\":132},{\\\\\"Собянин_2018\\\\\":\\\\\"81.76\\\\\",\\\\\"Путин_2016\\\\\":\\\\\"73.58\\\\\",\\\\\"Собянин_2013\\\\\":\\\\\"69.48\\\\\",\\\\\"Район\\\\\":[{\\\\\"i\\\\\":0,\\\\\"trId\\\\\":\\\\\"5727\\\\\",\\\\\"field\\\\\":false,\\\\\"__link__\\\\\":false,\\\\\"data\\\\\":{\\\\\"Район\\\\\":\\\\\"Новомосковский административный округ\\\\\",\\\\\"key_id\\\\\":\\\\\"\\\\\\\\\"Мосрентген\\\\\\\\\"\\\\\",\\\\\"id\\\\\":5727,\\\\\"order\\\\\":133}}],\\\\\"id\\\\\":11014,\\\\\"tr_id\\\\\":5580,\\\\\"order\\\\\":133},{\\\\\"Собянин_2018\\\\\":\\\\\"81.76\\\\\",\\\\\"Путин_2016\\\\\":\\\\\"73.58\\\\\",\\\\\"Собянин_2013\\\\\":\\\\\"69.48\\\\\",\\\\\"Район\\\\\":[{\\\\\"i\\\\\":0,\\\\\"trId\\\\\":\\\\\"5728\\\\\",\\\\\"field\\\\\":false,\\\\\"__link__\\\\\":false,\\\\\"data\\\\\":{\\\\\"Район\\\\\":\\\\\"Новомосковский административный округ\\\\\",\\\\\"key_id\\\\\":\\\\\"Рязановское\\\\\",\\\\\"id\\\\\":5728,\\\\\"order\\\\\":134}}],\\\\\"id\\\\\":11015,\\\\\"tr_id\\\\\":5580,\\\\\"order\\\\\":134},{\\\\\"Собянин_2018\\\\\":\\\\\"81.76\\\\\",\\\\\"Путин_2016\\\\\":\\\\\"73.58\\\\\",\\\\\"Собянин_2013\\\\\":\\\\\"69.48\\\\\",\\\\\"Район\\\\\":[{\\\\\"i\\\\\":0,\\\\\"trId\\\\\":\\\\\"5729\\\\\",\\\\\"field\\\\\":false,\\\\\"__link__\\\\\":false,\\\\\"data\\\\\":{\\\\\"Район\\\\\":\\\\\"Новомосковский административный округ\\\\\",\\\\\"key_id\\\\\":\\\\\"Филимонковское\\\\\",\\\\\"id\\\\\":5729,\\\\\"order\\\\\":135}}],\\\\\"id\\\\\":11016,\\\\\"tr_id\\\\\":5580,\\\\\"order\\\\\":135},{\\\\\"Собянин_2018\\\\\":\\\\\"81.76\\\\\",\\\\\"Путин_2016\\\\\":\\\\\"73.58\\\\\",\\\\\"Собянин_2013\\\\\":\\\\\"69.48\\\\\",\\\\\"Район\\\\\":[{\\\\\"i\\\\\":0,\\\\\"trId\\\\\":\\\\\"5730\\\\\",\\\\\"field\\\\\":false,\\\\\"__link__\\\\\":false,\\\\\"data\\\\\":{\\\\\"Район\\\\\":\\\\\"Новомосковский административный округ\\\\\",\\\\\"key_id\\\\\":\\\\\"Щербинка\\\\\",\\\\\"id\\\\\":5730,\\\\\"order\\\\\":136}}],\\\\\"id\\\\\":11017,\\\\\"tr_id\\\\\":5580,\\\\\"order\\\\\":136},{\\\\\"Собянин_2018\\\\\":\\\\\"81.21\\\\\",\\\\\"Путин_2016\\\\\":\\\\\"74.82\\\\\",\\\\\"Собянин_2013\\\\\":\\\\\"67.55\\\\\",\\\\\"Район\\\\\":[{\\\\\"i\\\\\":0,\\\\\"trId\\\\\":\\\\\"5731\\\\\",\\\\\"field\\\\\":false,\\\\\"__link__\\\\\":false,\\\\\"data\\\\\":{\\\\\"Район\\\\\":\\\\\"Троицкий административный округ\\\\\",\\\\\"key_id\\\\\":\\\\\"Киевский\\\\\",\\\\\"id\\\\\":5731,\\\\\"order\\\\\":137}}],\\\\\"id\\\\\":11018,\\\\\"tr_id\\\\\":5580,\\\\\"order\\\\\":137},{\\\\\"Собянин_2018\\\\\":\\\\\"81.21\\\\\",\\\\\"Путин_2016\\\\\":\\\\\"74.82\\\\\",\\\\\"Собянин_2013\\\\\":\\\\\"67.55\\\\\",\\\\\"Район\\\\\":[{\\\\\"i\\\\\":0,\\\\\"trId\\\\\":\\\\\"5732\\\\\",\\\\\"field\\\\\":false,\\\\\"__link__\\\\\":false,\\\\\"data\\\\\":{\\\\\"Район\\\\\":\\\\\"Троицкий административный округ\\\\\",\\\\\"key_id\\\\\":\\\\\"Новофедоровское\\\\\",\\\\\"id\\\\\":5732,\\\\\"order\\\\\":138}}],\\\\\"id\\\\\":11019,\\\\\"tr_id\\\\\":5580,\\\\\"order\\\\\":138},{\\\\\"Собянин_2018\\\\\":\\\\\"81.21\\\\\",\\\\\"Путин_2016\\\\\":\\\\\"74.82\\\\\",\\\\\"Собянин_2013\\\\\":\\\\\"67.55\\\\\",\\\\\"Район\\\\\":[{\\\\\"i\\\\\":0,\\\\\"trId\\\\\":\\\\\"5733\\\\\",\\\\\"field\\\\\":false,\\\\\"__link__\\\\\":false,\\\\\"data\\\\\":{\\\\\"Район\\\\\":\\\\\"Троицкий административный округ\\\\\",\\\\\"key_id\\\\\":\\\\\"Роговское\\\\\",\\\\\"id\\\\\":5733,\\\\\"order\\\\\":139}}],\\\\\"id\\\\\":11020,\\\\\"tr_id\\\\\":5580,\\\\\"order\\\\\":139},{\\\\\"Собянин_2018\\\\\":\\\\\"81.21\\\\\",\\\\\"Путин_2016\\\\\":\\\\\"74.82\\\\\",\\\\\"Собянин_2013\\\\\":\\\\\"67.55\\\\\",\\\\\"Район\\\\\":[{\\\\\"i\\\\\":0,\\\\\"trId\\\\\":\\\\\"5734\\\\\",\\\\\"field\\\\\":false,\\\\\"__link__\\\\\":false,\\\\\"data\\\\\":{\\\\\"Район\\\\\":\\\\\"Троицкий административный округ\\\\\",\\\\\"key_id\\\\\":\\\\\"Вороновское\\\\\",\\\\\"id\\\\\":5734,\\\\\"order\\\\\":140}}],\\\\\"id\\\\\":11021,\\\\\"tr_id\\\\\":5580,\\\\\"order\\\\\":140},{\\\\\"Собянин_2018\\\\\":\\\\\"81.21\\\\\",\\\\\"Путин_2016\\\\\":\\\\\"74.82\\\\\",\\\\\"Собянин_2013\\\\\":\\\\\"67.55\\\\\",\\\\\"Район\\\\\":[{\\\\\"i\\\\\":0,\\\\\"trId\\\\\":\\\\\"5735\\\\\",\\\\\"field\\\\\":false,\\\\\"__link__\\\\\":false,\\\\\"data\\\\\":{\\\\\"Район\\\\\":\\\\\"Троицкий административный округ\\\\\",\\\\\"key_id\\\\\":\\\\\"Михайлово-Ярцевское\\\\\",\\\\\"id\\\\\":5735,\\\\\"order\\\\\":141}}],\\\\\"id\\\\\":11022,\\\\\"tr_id\\\\\":5580,\\\\\"order\\\\\":141},{\\\\\"Собянин_2018\\\\\":\\\\\"81.21\\\\\",\\\\\"Путин_2016\\\\\":\\\\\"74.82\\\\\",\\\\\"Собянин_2013\\\\\":\\\\\"67.55\\\\\",\\\\\"Район\\\\\":[{\\\\\"i\\\\\":0,\\\\\"trId\\\\\":\\\\\"5736\\\\\",\\\\\"field\\\\\":false,\\\\\"__link__\\\\\":false,\\\\\"data\\\\\":{\\\\\"Район\\\\\":\\\\\"Троицкий административный округ\\\\\",\\\\\"key_id\\\\\":\\\\\"Первомайское\\\\\",\\\\\"id\\\\\":5736,\\\\\"order\\\\\":142}}],\\\\\"id\\\\\":11023,\\\\\"tr_id\\\\\":5580,\\\\\"order\\\\\":142},{\\\\\"Собянин_2018\\\\\":\\\\\"81.21\\\\\",\\\\\"Путин_2016\\\\\":\\\\\"74.82\\\\\",\\\\\"Собянин_2013\\\\\":\\\\\"67.55\\\\\",\\\\\"Район\\\\\":[{\\\\\"i\\\\\":0,\\\\\"trId\\\\\":\\\\\"5737\\\\\",\\\\\"field\\\\\":false,\\\\\"__link__\\\\\":false,\\\\\"data\\\\\":{\\\\\"Район\\\\\":\\\\\"Троицкий административный округ\\\\\",\\\\\"key_id\\\\\":\\\\\"Краснопахорское\\\\\",\\\\\"id\\\\\":5737,\\\\\"order\\\\\":143}}],\\\\\"id\\\\\":11024,\\\\\"tr_id\\\\\":5580,\\\\\"order\\\\\":143},{\\\\\"Собянин_2018\\\\\":\\\\\"81.21\\\\\",\\\\\"Путин_2016\\\\\":\\\\\"74.82\\\\\",\\\\\"Собянин_2013\\\\\":\\\\\"67.55\\\\\",\\\\\"Район\\\\\":[{\\\\\"i\\\\\":0,\\\\\"trId\\\\\":\\\\\"5738\\\\\",\\\\\"field\\\\\":false,\\\\\"__link__\\\\\":false,\\\\\"data\\\\\":{\\\\\"Район\\\\\":\\\\\"Троицкий административный округ\\\\\",\\\\\"key_id\\\\\":\\\\\"Кленовское\\\\\",\\\\\"id\\\\\":5738,\\\\\"order\\\\\":144}}],\\\\\"id\\\\\":11025,\\\\\"tr_id\\\\\":5580,\\\\\"order\\\\\":144},{\\\\\"Собянин_2018\\\\\":\\\\\"81.21\\\\\",\\\\\"Путин_2016\\\\\":\\\\\"74.82\\\\\",\\\\\"Собянин_2013\\\\\":\\\\\"67.55\\\\\",\\\\\"Район\\\\\":[{\\\\\"i\\\\\":0,\\\\\"trId\\\\\":\\\\\"5739\\\\\",\\\\\"field\\\\\":false,\\\\\"__link__\\\\\":false,\\\\\"data\\\\\":{\\\\\"Район\\\\\":\\\\\"Троицкий административный округ\\\\\",\\\\\"key_id\\\\\":\\\\\"Троицк\\\\\",\\\\\"id\\\\\":5739,\\\\\"order\\\\\":145}}],\\\\\"id\\\\\":11026,\\\\\"tr_id\\\\\":5580,\\\\\"order\\\\\":145},{\\\\\"Собянин_2018\\\\\":\\\\\"81.21\\\\\",\\\\\"Путин_2016\\\\\":\\\\\"74.82\\\\\",\\\\\"Собянин_2013\\\\\":\\\\\"67.55\\\\\",\\\\\"Район\\\\\":[{\\\\\"i\\\\\":0,\\\\\"trId\\\\\":\\\\\"5740\\\\\",\\\\\"field\\\\\":false,\\\\\"__link__\\\\\":false,\\\\\"data\\\\\":{\\\\\"Район\\\\\":\\\\\"Троицкий административный округ\\\\\",\\\\\"key_id\\\\\":\\\\\"Щаповское\\\\\",\\\\\"id\\\\\":5740,\\\\\"order\\\\\":146}}],\\\\\"id\\\\\":11027,\\\\\"tr_id\\\\\":5580,\\\\\"order\\\\\":146}],\\\\\"id\\\\\":5580,\\\\\"order\\\\\":1,\\\\\"generated_meta_data\\\\\":{\\\\\"metatitle\\\\\":null,\\\\\"metadescription\\\\\":null,\\\\\"metakeywords\\\\\":null,\\\\\"metaimage\\\\\":null,\\\\\"pagetitle\\\\\":null,\\\\\"pagedescription\\\\\":null}}]\\'\\r\\n\\r\\n\\r\\nНа этот раз на выборах мэра второе место занял кандидат от КПРФ Вадим Кумин с 11,44% голосов (254\\xa0тыс.). В 2013 году КПРФ выдвигала первого зампреда ЦК партии Ивана Мельникова, он набрал 10,69% (248\\xa0тыс.). На третьем месте оказался справоросс глава муниципального округа Таганский Илья Свиридов — 7,06% (157\\xa0тыс.). Бывший председатель партии Николай Левичев набрал в 2013 году 2,79% (64\\xa0тыс.). Четвертое место занял Михаил Дегтярев с 6,76% голосов (150\\xa0тыс.), который уже баллотировался в мэры в 2013 году, набрав тогда 2,86% (66\\xa0тыс.). На последнем месте оказался кандидат от партии «Союз горожан» акционер СУ-155 Михаил Балакин — 1,87% (41\\xa0тыс.). Все они в сумме набрали чуть больше, чем господин Навальный в 2013 году. При этом по сравнению с прошлыми выборами вдвое увеличилось количество недействительных бюллетеней. Если тогда их было 35\\xa0тыс., то сейчас — 63,9\\xa0тыс. Идею портить бюллетени поддерживал экс-депутат Госдумы Дмитрий Гудков, который не смог преодолеть муниципальный фильтр.Политолог Евгений Минченко считает, что электорат Алексея Навального «был протестным и ситуативным»: «Он частично ушел к оппозиционным кандидатам, или в неявку, или в порчу бюллетеней». Политолог Александр Кынев сказал “Ъ”, что «меньше процента недействительных бюллетеней — это нормальный показатель, а когда он больше — это уже протестное голосование».Ночью господина Собянина, единственного из губернаторов, участвовавших в выборах, с победой поздравил Владимир Путин по телефону, сообщили в Кремле. Сам Сергей Собянин заявил, что намерен «пахать» больше, чем в предыдущие годы. Проголосовав вчера за самого себя, мэр сообщил на своем сайте, что «это последний возможный срок» и теперь «начинается обратный отсчет». «Время становится все более осязаемым, с каждым днем его становится все меньше, а дел меньше не становится»,— отметил он.Кандидаты довольны своим положениемМихаил Балакин заявил “Ъ”, что «ни одного нарушения» в ходе голосования его штаб не выявил, а «самое большое нарушение было в рамках кампании»: «Неравноценно распределялось эфирное время, а президент открыто поддержал Сергея Собянина». Вчера вечером кандидат говорил “Ъ”, что «вообще ни на что не рассчитывает». «Я рассчитываю, что меня поддержат мои друзья. Определимся, сколько человек ко мне хорошо относятся, а на процент мне все равно»,— заявил он. Свое участие в выборах он объяснил тем, что «все нужно в этой жизни попробовать», отметив, что собирается снова в 2019 году участвовать в выборах в Мосгордуму, депутатом которой он является сейчас.Вадим Кумин сказал “Ъ”, что «значительных нарушений партия не зафиксировала», но в очередной раз обратил внимание на «информационный перекос» в пользу действующего мэра (кандидат подавал иск о снятии Сергея Собянина с выборов за использование должностного положения при агитации, см.\\xa0“Ъ” от 3 сентября). Отвечающий за выборы в Москве секретарь горкома КПРФ Денис Парфенов назвал результат Вадима Кумина «достойным». «В Москве не приходится говорить о равенстве и конкурентности. Мы создали хороший задел на будущее: впереди выборы в Мосгордуму»,— сказал коммунист “Ъ”.Илья Свиридов также сказал “Ъ”, что «никаких нарушений, которые могли бы повлиять на итоги голосования, не было». «Мне приятно, что я на третьем месте. Любой процент для меня успешен, так как это первые мои выборы такого масштаба»,— отметил господин Свиридов.Михаил Дегтярев сказал, что «само голосование прошло в целом спокойно», но при этом «все медиапространство было занято Собяниным и отсюда такой результат». Господин Дегтярев был нацелен на второй тур, но, «к сожалению, это не удалось». Сергея Собянина с победой он поздравил еще вчера.Общественный штаб по наблюдению за выборами, который возглавлял главный редактор «Эха Москвы» Алексей Венедиктов, назвал «самым серьезным инцидентом» на выборах «карусель двух близнецов»: сначала у наблюдателей возникло впечатление, что один и тот же человек проголосовал два раза, однако этим человеком оказались близнецы. «Председатели комиссий забывали про камеры, попыток вбросов было гораздо больше. Новую Москву мы вообще не успели охватить — мы не знаем, что там было»,— отметил он.В свою очередь, сопредседатель движения «Голос» Григорий Мельконьянц сказал “Ъ”, что «фальсификаций не было, однако есть вопросы к инструментам, которые использовались на этих выборах». По его словам, есть жалобы на то, что избиратели не находили себя в списках на обычных участках, и это, по его мнению, «делалось для того, чтобы повысить процент явки за счет уменьшения количества избирателей». Также он обратил внимание на голосование на так называемых дачных участках, которое стало главным технологическим нововведением этой кампании. Всего было организовано 209 дополнительных участков в 4 соседних субъектах, включая Московскую область (183). Глава МГИКа Валентин Горбунов заявил, что явка на этих участках составила 70%. По словам господина Мельконьянца, были зафиксированы случаи, когда избирателей прикрепляли к «дачным» участкам «без их ведома» или же «те, кто подавал заявки, не находил себя в списках».В этом году МГИК проводил активную агитационную кампанию. Согласно данным на сайте госзакупок, на эти цели МГИК потратил более 165\\xa0млн руб. из 572\\xa0млн руб., выделенных из бюджета города на проведение выборов. Два контракта из трех на информирование избирателей получила группа компаний ИМА, которая сотрудничает с мэрией Москвы еще со времен мэра Юрия Лужкова. На выборах президента 2018 года ИМА работала над визуальной концепцией информационной кампании Центризбиркома, в 2013 году занималась информированием избирателей на выборах мэра Москвы (на агитацию МГИК потратил 63\\xa0млн руб. из 448,9\\xa0млн руб., выделенных на выборы). На этих выборах информационные плакаты были размещены по всему городу, в том числе в торговых сетях и на банкоматах (см.\\xa0“Ъ” от 27 августа). Молодым избирателям пообещали билеты на концерт в «Олимпийском». В день выборов около избирательных участков мэрия совместно с управами устроила праздник. Пришедших проголосовать москвичей ждали полевая кухня, аквагрим, дегустация меда и колбасных изделий. Проведение мероприятий в одном районе, согласно данным на сайте госзакупок, обошлось в сумму около 1\\xa0млн руб. (см.\\xa0“Ъ” от 1 сентября).Александр Кынев отмечает, что агитационная кампания не смогла мобилизовать избирателей. Он полагает, что «если вычесть дачные участки, сократить время голосования до 20:00, явка была бы еще меньше». «Люди не воспринимали эти выборы как выборы. Это была виртуальная кампания для виртуальных избирателей»,— сказал “Ъ” господин Кынев. Политолог Константин Калачев предположил, что явке «не способствовало проведение Дня города и хорошая погода». «Я ожидал явку более высокую, потому что с точки зрения информирования все было организовано с беспрецедентным размахом»,— сказал “Ъ” эксперт.Лиза Миллер'"
      ]
     },
     "execution_count": 44,
     "metadata": {},
     "output_type": "execute_result"
    }
   ],
   "source": [
    "kommersant_corp.open('Сергей_Собянин_оставил_позади_и_конкурентов,_и_самого_себя_образца_2013_года_Выборы_мэра_Москвы_не_2018-09-10.txt').read()\n",
    "\n"
   ]
  },
  {
   "cell_type": "markdown",
   "metadata": {},
   "source": [
    "I need to find some way to fix this, either by automatically removing it somehow, or by re-scraping these articles with a better function"
   ]
  },
  {
   "cell_type": "code",
   "execution_count": null,
   "metadata": {},
   "outputs": [],
   "source": []
  }
 ],
 "metadata": {
  "kernelspec": {
   "display_name": "Python 3",
   "language": "python",
   "name": "python3"
  },
  "language_info": {
   "codemirror_mode": {
    "name": "ipython",
    "version": 3
   },
   "file_extension": ".py",
   "mimetype": "text/x-python",
   "name": "python",
   "nbconvert_exporter": "python",
   "pygments_lexer": "ipython3",
   "version": "3.7.1"
  }
 },
 "nbformat": 4,
 "nbformat_minor": 2
}
